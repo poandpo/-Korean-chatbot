{
  "nbformat": 4,
  "nbformat_minor": 0,
  "metadata": {
    "colab": {
      "name": "AI_06_임채은.ipynb",
      "provenance": [],
      "collapsed_sections": [
        "6EKUdgF--JFn"
      ],
      "machine_shape": "hm",
      "include_colab_link": true
    },
    "kernelspec": {
      "name": "python3",
      "display_name": "Python 3"
    },
    "language_info": {
      "name": "python"
    },
    "accelerator": "GPU",
    "widgets": {
      "application/vnd.jupyter.widget-state+json": {
        "286a2959577543a4b5750f800019c997": {
          "model_module": "@jupyter-widgets/controls",
          "model_name": "HBoxModel",
          "model_module_version": "1.5.0",
          "state": {
            "_view_name": "HBoxView",
            "_dom_classes": [],
            "_model_name": "HBoxModel",
            "_view_module": "@jupyter-widgets/controls",
            "_model_module_version": "1.5.0",
            "_view_count": null,
            "_view_module_version": "1.5.0",
            "box_style": "",
            "layout": "IPY_MODEL_e14b9cb7b2a841a0987bd0bc28239a25",
            "_model_module": "@jupyter-widgets/controls",
            "children": [
              "IPY_MODEL_1a3a56c574f842818a3138afa01f78f4",
              "IPY_MODEL_cea7bb8225564c35858ee9bf7b27ca95",
              "IPY_MODEL_f7822dc2a15b4b749126599a24526c85"
            ]
          }
        },
        "e14b9cb7b2a841a0987bd0bc28239a25": {
          "model_module": "@jupyter-widgets/base",
          "model_name": "LayoutModel",
          "model_module_version": "1.2.0",
          "state": {
            "_view_name": "LayoutView",
            "grid_template_rows": null,
            "right": null,
            "justify_content": null,
            "_view_module": "@jupyter-widgets/base",
            "overflow": null,
            "_model_module_version": "1.2.0",
            "_view_count": null,
            "flex_flow": null,
            "width": null,
            "min_width": null,
            "border": null,
            "align_items": null,
            "bottom": null,
            "_model_module": "@jupyter-widgets/base",
            "top": null,
            "grid_column": null,
            "overflow_y": null,
            "overflow_x": null,
            "grid_auto_flow": null,
            "grid_area": null,
            "grid_template_columns": null,
            "flex": null,
            "_model_name": "LayoutModel",
            "justify_items": null,
            "grid_row": null,
            "max_height": null,
            "align_content": null,
            "visibility": null,
            "align_self": null,
            "height": null,
            "min_height": null,
            "padding": null,
            "grid_auto_rows": null,
            "grid_gap": null,
            "max_width": null,
            "order": null,
            "_view_module_version": "1.2.0",
            "grid_template_areas": null,
            "object_position": null,
            "object_fit": null,
            "grid_auto_columns": null,
            "margin": null,
            "display": null,
            "left": null
          }
        },
        "1a3a56c574f842818a3138afa01f78f4": {
          "model_module": "@jupyter-widgets/controls",
          "model_name": "HTMLModel",
          "model_module_version": "1.5.0",
          "state": {
            "_view_name": "HTMLView",
            "style": "IPY_MODEL_acb443e8708149e5b9efe5ae3c117644",
            "_dom_classes": [],
            "description": "",
            "_model_name": "HTMLModel",
            "placeholder": "​",
            "_view_module": "@jupyter-widgets/controls",
            "_model_module_version": "1.5.0",
            "value": "Downloading: 100%",
            "_view_count": null,
            "_view_module_version": "1.5.0",
            "description_tooltip": null,
            "_model_module": "@jupyter-widgets/controls",
            "layout": "IPY_MODEL_c174e877c22b44559c441bdd0d1fb328"
          }
        },
        "cea7bb8225564c35858ee9bf7b27ca95": {
          "model_module": "@jupyter-widgets/controls",
          "model_name": "FloatProgressModel",
          "model_module_version": "1.5.0",
          "state": {
            "_view_name": "ProgressView",
            "style": "IPY_MODEL_524ecfdc8f37405499d0eff06880802a",
            "_dom_classes": [],
            "description": "",
            "_model_name": "FloatProgressModel",
            "bar_style": "success",
            "max": 574,
            "_view_module": "@jupyter-widgets/controls",
            "_model_module_version": "1.5.0",
            "value": 574,
            "_view_count": null,
            "_view_module_version": "1.5.0",
            "orientation": "horizontal",
            "min": 0,
            "description_tooltip": null,
            "_model_module": "@jupyter-widgets/controls",
            "layout": "IPY_MODEL_a36ba97ad97344b896ee1885f8844508"
          }
        },
        "f7822dc2a15b4b749126599a24526c85": {
          "model_module": "@jupyter-widgets/controls",
          "model_name": "HTMLModel",
          "model_module_version": "1.5.0",
          "state": {
            "_view_name": "HTMLView",
            "style": "IPY_MODEL_b04ca35a580e4fcd8f43b1433afde42c",
            "_dom_classes": [],
            "description": "",
            "_model_name": "HTMLModel",
            "placeholder": "​",
            "_view_module": "@jupyter-widgets/controls",
            "_model_module_version": "1.5.0",
            "value": " 574/574 [00:00&lt;00:00, 23.2kB/s]",
            "_view_count": null,
            "_view_module_version": "1.5.0",
            "description_tooltip": null,
            "_model_module": "@jupyter-widgets/controls",
            "layout": "IPY_MODEL_f2c71e05087942cd9b5007743d5a68fa"
          }
        },
        "acb443e8708149e5b9efe5ae3c117644": {
          "model_module": "@jupyter-widgets/controls",
          "model_name": "DescriptionStyleModel",
          "model_module_version": "1.5.0",
          "state": {
            "_view_name": "StyleView",
            "_model_name": "DescriptionStyleModel",
            "description_width": "",
            "_view_module": "@jupyter-widgets/base",
            "_model_module_version": "1.5.0",
            "_view_count": null,
            "_view_module_version": "1.2.0",
            "_model_module": "@jupyter-widgets/controls"
          }
        },
        "c174e877c22b44559c441bdd0d1fb328": {
          "model_module": "@jupyter-widgets/base",
          "model_name": "LayoutModel",
          "model_module_version": "1.2.0",
          "state": {
            "_view_name": "LayoutView",
            "grid_template_rows": null,
            "right": null,
            "justify_content": null,
            "_view_module": "@jupyter-widgets/base",
            "overflow": null,
            "_model_module_version": "1.2.0",
            "_view_count": null,
            "flex_flow": null,
            "width": null,
            "min_width": null,
            "border": null,
            "align_items": null,
            "bottom": null,
            "_model_module": "@jupyter-widgets/base",
            "top": null,
            "grid_column": null,
            "overflow_y": null,
            "overflow_x": null,
            "grid_auto_flow": null,
            "grid_area": null,
            "grid_template_columns": null,
            "flex": null,
            "_model_name": "LayoutModel",
            "justify_items": null,
            "grid_row": null,
            "max_height": null,
            "align_content": null,
            "visibility": null,
            "align_self": null,
            "height": null,
            "min_height": null,
            "padding": null,
            "grid_auto_rows": null,
            "grid_gap": null,
            "max_width": null,
            "order": null,
            "_view_module_version": "1.2.0",
            "grid_template_areas": null,
            "object_position": null,
            "object_fit": null,
            "grid_auto_columns": null,
            "margin": null,
            "display": null,
            "left": null
          }
        },
        "524ecfdc8f37405499d0eff06880802a": {
          "model_module": "@jupyter-widgets/controls",
          "model_name": "ProgressStyleModel",
          "model_module_version": "1.5.0",
          "state": {
            "_view_name": "StyleView",
            "_model_name": "ProgressStyleModel",
            "description_width": "",
            "_view_module": "@jupyter-widgets/base",
            "_model_module_version": "1.5.0",
            "_view_count": null,
            "_view_module_version": "1.2.0",
            "bar_color": null,
            "_model_module": "@jupyter-widgets/controls"
          }
        },
        "a36ba97ad97344b896ee1885f8844508": {
          "model_module": "@jupyter-widgets/base",
          "model_name": "LayoutModel",
          "model_module_version": "1.2.0",
          "state": {
            "_view_name": "LayoutView",
            "grid_template_rows": null,
            "right": null,
            "justify_content": null,
            "_view_module": "@jupyter-widgets/base",
            "overflow": null,
            "_model_module_version": "1.2.0",
            "_view_count": null,
            "flex_flow": null,
            "width": null,
            "min_width": null,
            "border": null,
            "align_items": null,
            "bottom": null,
            "_model_module": "@jupyter-widgets/base",
            "top": null,
            "grid_column": null,
            "overflow_y": null,
            "overflow_x": null,
            "grid_auto_flow": null,
            "grid_area": null,
            "grid_template_columns": null,
            "flex": null,
            "_model_name": "LayoutModel",
            "justify_items": null,
            "grid_row": null,
            "max_height": null,
            "align_content": null,
            "visibility": null,
            "align_self": null,
            "height": null,
            "min_height": null,
            "padding": null,
            "grid_auto_rows": null,
            "grid_gap": null,
            "max_width": null,
            "order": null,
            "_view_module_version": "1.2.0",
            "grid_template_areas": null,
            "object_position": null,
            "object_fit": null,
            "grid_auto_columns": null,
            "margin": null,
            "display": null,
            "left": null
          }
        },
        "b04ca35a580e4fcd8f43b1433afde42c": {
          "model_module": "@jupyter-widgets/controls",
          "model_name": "DescriptionStyleModel",
          "model_module_version": "1.5.0",
          "state": {
            "_view_name": "StyleView",
            "_model_name": "DescriptionStyleModel",
            "description_width": "",
            "_view_module": "@jupyter-widgets/base",
            "_model_module_version": "1.5.0",
            "_view_count": null,
            "_view_module_version": "1.2.0",
            "_model_module": "@jupyter-widgets/controls"
          }
        },
        "f2c71e05087942cd9b5007743d5a68fa": {
          "model_module": "@jupyter-widgets/base",
          "model_name": "LayoutModel",
          "model_module_version": "1.2.0",
          "state": {
            "_view_name": "LayoutView",
            "grid_template_rows": null,
            "right": null,
            "justify_content": null,
            "_view_module": "@jupyter-widgets/base",
            "overflow": null,
            "_model_module_version": "1.2.0",
            "_view_count": null,
            "flex_flow": null,
            "width": null,
            "min_width": null,
            "border": null,
            "align_items": null,
            "bottom": null,
            "_model_module": "@jupyter-widgets/base",
            "top": null,
            "grid_column": null,
            "overflow_y": null,
            "overflow_x": null,
            "grid_auto_flow": null,
            "grid_area": null,
            "grid_template_columns": null,
            "flex": null,
            "_model_name": "LayoutModel",
            "justify_items": null,
            "grid_row": null,
            "max_height": null,
            "align_content": null,
            "visibility": null,
            "align_self": null,
            "height": null,
            "min_height": null,
            "padding": null,
            "grid_auto_rows": null,
            "grid_gap": null,
            "max_width": null,
            "order": null,
            "_view_module_version": "1.2.0",
            "grid_template_areas": null,
            "object_position": null,
            "object_fit": null,
            "grid_auto_columns": null,
            "margin": null,
            "display": null,
            "left": null
          }
        },
        "e8c3d35a4270485d99fb7a36a8356353": {
          "model_module": "@jupyter-widgets/controls",
          "model_name": "HBoxModel",
          "model_module_version": "1.5.0",
          "state": {
            "_view_name": "HBoxView",
            "_dom_classes": [],
            "_model_name": "HBoxModel",
            "_view_module": "@jupyter-widgets/controls",
            "_model_module_version": "1.5.0",
            "_view_count": null,
            "_view_module_version": "1.5.0",
            "box_style": "",
            "layout": "IPY_MODEL_96079b50762f48a6807b9b8aa1755be1",
            "_model_module": "@jupyter-widgets/controls",
            "children": [
              "IPY_MODEL_cdd90f4967f244709c8e8e2a6d6d3662",
              "IPY_MODEL_ab86c4eeb8f14723b4da9fddd262f422",
              "IPY_MODEL_181dfcea22d74729ac108bf874437baa"
            ]
          }
        },
        "96079b50762f48a6807b9b8aa1755be1": {
          "model_module": "@jupyter-widgets/base",
          "model_name": "LayoutModel",
          "model_module_version": "1.2.0",
          "state": {
            "_view_name": "LayoutView",
            "grid_template_rows": null,
            "right": null,
            "justify_content": null,
            "_view_module": "@jupyter-widgets/base",
            "overflow": null,
            "_model_module_version": "1.2.0",
            "_view_count": null,
            "flex_flow": null,
            "width": null,
            "min_width": null,
            "border": null,
            "align_items": null,
            "bottom": null,
            "_model_module": "@jupyter-widgets/base",
            "top": null,
            "grid_column": null,
            "overflow_y": null,
            "overflow_x": null,
            "grid_auto_flow": null,
            "grid_area": null,
            "grid_template_columns": null,
            "flex": null,
            "_model_name": "LayoutModel",
            "justify_items": null,
            "grid_row": null,
            "max_height": null,
            "align_content": null,
            "visibility": null,
            "align_self": null,
            "height": null,
            "min_height": null,
            "padding": null,
            "grid_auto_rows": null,
            "grid_gap": null,
            "max_width": null,
            "order": null,
            "_view_module_version": "1.2.0",
            "grid_template_areas": null,
            "object_position": null,
            "object_fit": null,
            "grid_auto_columns": null,
            "margin": null,
            "display": null,
            "left": null
          }
        },
        "cdd90f4967f244709c8e8e2a6d6d3662": {
          "model_module": "@jupyter-widgets/controls",
          "model_name": "HTMLModel",
          "model_module_version": "1.5.0",
          "state": {
            "_view_name": "HTMLView",
            "style": "IPY_MODEL_31db65b3308c4db8902d6510d4528ed1",
            "_dom_classes": [],
            "description": "",
            "_model_name": "HTMLModel",
            "placeholder": "​",
            "_view_module": "@jupyter-widgets/controls",
            "_model_module_version": "1.5.0",
            "value": "Downloading: 100%",
            "_view_count": null,
            "_view_module_version": "1.5.0",
            "description_tooltip": null,
            "_model_module": "@jupyter-widgets/controls",
            "layout": "IPY_MODEL_21f6bf7ede5b4e56ba8d4358ecf5e283"
          }
        },
        "ab86c4eeb8f14723b4da9fddd262f422": {
          "model_module": "@jupyter-widgets/controls",
          "model_name": "FloatProgressModel",
          "model_module_version": "1.5.0",
          "state": {
            "_view_name": "ProgressView",
            "style": "IPY_MODEL_23a9373264654d45b65bf6653d150240",
            "_dom_classes": [],
            "description": "",
            "_model_name": "FloatProgressModel",
            "bar_style": "success",
            "max": 4059,
            "_view_module": "@jupyter-widgets/controls",
            "_model_module_version": "1.5.0",
            "value": 4059,
            "_view_count": null,
            "_view_module_version": "1.5.0",
            "orientation": "horizontal",
            "min": 0,
            "description_tooltip": null,
            "_model_module": "@jupyter-widgets/controls",
            "layout": "IPY_MODEL_e814d69ea1a8433cad1d8e7e05ed5e25"
          }
        },
        "181dfcea22d74729ac108bf874437baa": {
          "model_module": "@jupyter-widgets/controls",
          "model_name": "HTMLModel",
          "model_module_version": "1.5.0",
          "state": {
            "_view_name": "HTMLView",
            "style": "IPY_MODEL_ea23fb4a0eda4bca923a52814c4cb9b8",
            "_dom_classes": [],
            "description": "",
            "_model_name": "HTMLModel",
            "placeholder": "​",
            "_view_module": "@jupyter-widgets/controls",
            "_model_module_version": "1.5.0",
            "value": " 4.06k/4.06k [00:00&lt;00:00, 178kB/s]",
            "_view_count": null,
            "_view_module_version": "1.5.0",
            "description_tooltip": null,
            "_model_module": "@jupyter-widgets/controls",
            "layout": "IPY_MODEL_d00086d608694786a3ba80ae3fa6913a"
          }
        },
        "31db65b3308c4db8902d6510d4528ed1": {
          "model_module": "@jupyter-widgets/controls",
          "model_name": "DescriptionStyleModel",
          "model_module_version": "1.5.0",
          "state": {
            "_view_name": "StyleView",
            "_model_name": "DescriptionStyleModel",
            "description_width": "",
            "_view_module": "@jupyter-widgets/base",
            "_model_module_version": "1.5.0",
            "_view_count": null,
            "_view_module_version": "1.2.0",
            "_model_module": "@jupyter-widgets/controls"
          }
        },
        "21f6bf7ede5b4e56ba8d4358ecf5e283": {
          "model_module": "@jupyter-widgets/base",
          "model_name": "LayoutModel",
          "model_module_version": "1.2.0",
          "state": {
            "_view_name": "LayoutView",
            "grid_template_rows": null,
            "right": null,
            "justify_content": null,
            "_view_module": "@jupyter-widgets/base",
            "overflow": null,
            "_model_module_version": "1.2.0",
            "_view_count": null,
            "flex_flow": null,
            "width": null,
            "min_width": null,
            "border": null,
            "align_items": null,
            "bottom": null,
            "_model_module": "@jupyter-widgets/base",
            "top": null,
            "grid_column": null,
            "overflow_y": null,
            "overflow_x": null,
            "grid_auto_flow": null,
            "grid_area": null,
            "grid_template_columns": null,
            "flex": null,
            "_model_name": "LayoutModel",
            "justify_items": null,
            "grid_row": null,
            "max_height": null,
            "align_content": null,
            "visibility": null,
            "align_self": null,
            "height": null,
            "min_height": null,
            "padding": null,
            "grid_auto_rows": null,
            "grid_gap": null,
            "max_width": null,
            "order": null,
            "_view_module_version": "1.2.0",
            "grid_template_areas": null,
            "object_position": null,
            "object_fit": null,
            "grid_auto_columns": null,
            "margin": null,
            "display": null,
            "left": null
          }
        },
        "23a9373264654d45b65bf6653d150240": {
          "model_module": "@jupyter-widgets/controls",
          "model_name": "ProgressStyleModel",
          "model_module_version": "1.5.0",
          "state": {
            "_view_name": "StyleView",
            "_model_name": "ProgressStyleModel",
            "description_width": "",
            "_view_module": "@jupyter-widgets/base",
            "_model_module_version": "1.5.0",
            "_view_count": null,
            "_view_module_version": "1.2.0",
            "bar_color": null,
            "_model_module": "@jupyter-widgets/controls"
          }
        },
        "e814d69ea1a8433cad1d8e7e05ed5e25": {
          "model_module": "@jupyter-widgets/base",
          "model_name": "LayoutModel",
          "model_module_version": "1.2.0",
          "state": {
            "_view_name": "LayoutView",
            "grid_template_rows": null,
            "right": null,
            "justify_content": null,
            "_view_module": "@jupyter-widgets/base",
            "overflow": null,
            "_model_module_version": "1.2.0",
            "_view_count": null,
            "flex_flow": null,
            "width": null,
            "min_width": null,
            "border": null,
            "align_items": null,
            "bottom": null,
            "_model_module": "@jupyter-widgets/base",
            "top": null,
            "grid_column": null,
            "overflow_y": null,
            "overflow_x": null,
            "grid_auto_flow": null,
            "grid_area": null,
            "grid_template_columns": null,
            "flex": null,
            "_model_name": "LayoutModel",
            "justify_items": null,
            "grid_row": null,
            "max_height": null,
            "align_content": null,
            "visibility": null,
            "align_self": null,
            "height": null,
            "min_height": null,
            "padding": null,
            "grid_auto_rows": null,
            "grid_gap": null,
            "max_width": null,
            "order": null,
            "_view_module_version": "1.2.0",
            "grid_template_areas": null,
            "object_position": null,
            "object_fit": null,
            "grid_auto_columns": null,
            "margin": null,
            "display": null,
            "left": null
          }
        },
        "ea23fb4a0eda4bca923a52814c4cb9b8": {
          "model_module": "@jupyter-widgets/controls",
          "model_name": "DescriptionStyleModel",
          "model_module_version": "1.5.0",
          "state": {
            "_view_name": "StyleView",
            "_model_name": "DescriptionStyleModel",
            "description_width": "",
            "_view_module": "@jupyter-widgets/base",
            "_model_module_version": "1.5.0",
            "_view_count": null,
            "_view_module_version": "1.2.0",
            "_model_module": "@jupyter-widgets/controls"
          }
        },
        "d00086d608694786a3ba80ae3fa6913a": {
          "model_module": "@jupyter-widgets/base",
          "model_name": "LayoutModel",
          "model_module_version": "1.2.0",
          "state": {
            "_view_name": "LayoutView",
            "grid_template_rows": null,
            "right": null,
            "justify_content": null,
            "_view_module": "@jupyter-widgets/base",
            "overflow": null,
            "_model_module_version": "1.2.0",
            "_view_count": null,
            "flex_flow": null,
            "width": null,
            "min_width": null,
            "border": null,
            "align_items": null,
            "bottom": null,
            "_model_module": "@jupyter-widgets/base",
            "top": null,
            "grid_column": null,
            "overflow_y": null,
            "overflow_x": null,
            "grid_auto_flow": null,
            "grid_area": null,
            "grid_template_columns": null,
            "flex": null,
            "_model_name": "LayoutModel",
            "justify_items": null,
            "grid_row": null,
            "max_height": null,
            "align_content": null,
            "visibility": null,
            "align_self": null,
            "height": null,
            "min_height": null,
            "padding": null,
            "grid_auto_rows": null,
            "grid_gap": null,
            "max_width": null,
            "order": null,
            "_view_module_version": "1.2.0",
            "grid_template_areas": null,
            "object_position": null,
            "object_fit": null,
            "grid_auto_columns": null,
            "margin": null,
            "display": null,
            "left": null
          }
        },
        "3dadc9806b024767aafb9ac773858b31": {
          "model_module": "@jupyter-widgets/controls",
          "model_name": "HBoxModel",
          "model_module_version": "1.5.0",
          "state": {
            "_view_name": "HBoxView",
            "_dom_classes": [],
            "_model_name": "HBoxModel",
            "_view_module": "@jupyter-widgets/controls",
            "_model_module_version": "1.5.0",
            "_view_count": null,
            "_view_module_version": "1.5.0",
            "box_style": "",
            "layout": "IPY_MODEL_490aadd70f2a44679cd2ff551ae28374",
            "_model_module": "@jupyter-widgets/controls",
            "children": [
              "IPY_MODEL_ddef5ddf31e74f188e2ace14d020152e",
              "IPY_MODEL_e09d5e8468454836add90def4fda7495",
              "IPY_MODEL_21ff1ac162694a2d858430303db0dde6"
            ]
          }
        },
        "490aadd70f2a44679cd2ff551ae28374": {
          "model_module": "@jupyter-widgets/base",
          "model_name": "LayoutModel",
          "model_module_version": "1.2.0",
          "state": {
            "_view_name": "LayoutView",
            "grid_template_rows": null,
            "right": null,
            "justify_content": null,
            "_view_module": "@jupyter-widgets/base",
            "overflow": null,
            "_model_module_version": "1.2.0",
            "_view_count": null,
            "flex_flow": null,
            "width": null,
            "min_width": null,
            "border": null,
            "align_items": null,
            "bottom": null,
            "_model_module": "@jupyter-widgets/base",
            "top": null,
            "grid_column": null,
            "overflow_y": null,
            "overflow_x": null,
            "grid_auto_flow": null,
            "grid_area": null,
            "grid_template_columns": null,
            "flex": null,
            "_model_name": "LayoutModel",
            "justify_items": null,
            "grid_row": null,
            "max_height": null,
            "align_content": null,
            "visibility": null,
            "align_self": null,
            "height": null,
            "min_height": null,
            "padding": null,
            "grid_auto_rows": null,
            "grid_gap": null,
            "max_width": null,
            "order": null,
            "_view_module_version": "1.2.0",
            "grid_template_areas": null,
            "object_position": null,
            "object_fit": null,
            "grid_auto_columns": null,
            "margin": null,
            "display": null,
            "left": null
          }
        },
        "ddef5ddf31e74f188e2ace14d020152e": {
          "model_module": "@jupyter-widgets/controls",
          "model_name": "HTMLModel",
          "model_module_version": "1.5.0",
          "state": {
            "_view_name": "HTMLView",
            "style": "IPY_MODEL_11ef1dfe7cbc44ffb2b6f18e89cfc16e",
            "_dom_classes": [],
            "description": "",
            "_model_name": "HTMLModel",
            "placeholder": "​",
            "_view_module": "@jupyter-widgets/controls",
            "_model_module_version": "1.5.0",
            "value": "Downloading: 100%",
            "_view_count": null,
            "_view_module_version": "1.5.0",
            "description_tooltip": null,
            "_model_module": "@jupyter-widgets/controls",
            "layout": "IPY_MODEL_ef7c4ef68d8941a4bea34fb7427e2d9c"
          }
        },
        "e09d5e8468454836add90def4fda7495": {
          "model_module": "@jupyter-widgets/controls",
          "model_name": "FloatProgressModel",
          "model_module_version": "1.5.0",
          "state": {
            "_view_name": "ProgressView",
            "style": "IPY_MODEL_bd624834c69344d68063e72783e3cd1c",
            "_dom_classes": [],
            "description": "",
            "_model_name": "FloatProgressModel",
            "bar_style": "success",
            "max": 731,
            "_view_module": "@jupyter-widgets/controls",
            "_model_module_version": "1.5.0",
            "value": 731,
            "_view_count": null,
            "_view_module_version": "1.5.0",
            "orientation": "horizontal",
            "min": 0,
            "description_tooltip": null,
            "_model_module": "@jupyter-widgets/controls",
            "layout": "IPY_MODEL_6e6d264d98124a329ef4b311055582a9"
          }
        },
        "21ff1ac162694a2d858430303db0dde6": {
          "model_module": "@jupyter-widgets/controls",
          "model_name": "HTMLModel",
          "model_module_version": "1.5.0",
          "state": {
            "_view_name": "HTMLView",
            "style": "IPY_MODEL_d4134253d1c844c0a729608038a76355",
            "_dom_classes": [],
            "description": "",
            "_model_name": "HTMLModel",
            "placeholder": "​",
            "_view_module": "@jupyter-widgets/controls",
            "_model_module_version": "1.5.0",
            "value": " 731/731 [00:00&lt;00:00, 29.8kB/s]",
            "_view_count": null,
            "_view_module_version": "1.5.0",
            "description_tooltip": null,
            "_model_module": "@jupyter-widgets/controls",
            "layout": "IPY_MODEL_34689f602e5e41bbbc0f1c7903dc8887"
          }
        },
        "11ef1dfe7cbc44ffb2b6f18e89cfc16e": {
          "model_module": "@jupyter-widgets/controls",
          "model_name": "DescriptionStyleModel",
          "model_module_version": "1.5.0",
          "state": {
            "_view_name": "StyleView",
            "_model_name": "DescriptionStyleModel",
            "description_width": "",
            "_view_module": "@jupyter-widgets/base",
            "_model_module_version": "1.5.0",
            "_view_count": null,
            "_view_module_version": "1.2.0",
            "_model_module": "@jupyter-widgets/controls"
          }
        },
        "ef7c4ef68d8941a4bea34fb7427e2d9c": {
          "model_module": "@jupyter-widgets/base",
          "model_name": "LayoutModel",
          "model_module_version": "1.2.0",
          "state": {
            "_view_name": "LayoutView",
            "grid_template_rows": null,
            "right": null,
            "justify_content": null,
            "_view_module": "@jupyter-widgets/base",
            "overflow": null,
            "_model_module_version": "1.2.0",
            "_view_count": null,
            "flex_flow": null,
            "width": null,
            "min_width": null,
            "border": null,
            "align_items": null,
            "bottom": null,
            "_model_module": "@jupyter-widgets/base",
            "top": null,
            "grid_column": null,
            "overflow_y": null,
            "overflow_x": null,
            "grid_auto_flow": null,
            "grid_area": null,
            "grid_template_columns": null,
            "flex": null,
            "_model_name": "LayoutModel",
            "justify_items": null,
            "grid_row": null,
            "max_height": null,
            "align_content": null,
            "visibility": null,
            "align_self": null,
            "height": null,
            "min_height": null,
            "padding": null,
            "grid_auto_rows": null,
            "grid_gap": null,
            "max_width": null,
            "order": null,
            "_view_module_version": "1.2.0",
            "grid_template_areas": null,
            "object_position": null,
            "object_fit": null,
            "grid_auto_columns": null,
            "margin": null,
            "display": null,
            "left": null
          }
        },
        "bd624834c69344d68063e72783e3cd1c": {
          "model_module": "@jupyter-widgets/controls",
          "model_name": "ProgressStyleModel",
          "model_module_version": "1.5.0",
          "state": {
            "_view_name": "StyleView",
            "_model_name": "ProgressStyleModel",
            "description_width": "",
            "_view_module": "@jupyter-widgets/base",
            "_model_module_version": "1.5.0",
            "_view_count": null,
            "_view_module_version": "1.2.0",
            "bar_color": null,
            "_model_module": "@jupyter-widgets/controls"
          }
        },
        "6e6d264d98124a329ef4b311055582a9": {
          "model_module": "@jupyter-widgets/base",
          "model_name": "LayoutModel",
          "model_module_version": "1.2.0",
          "state": {
            "_view_name": "LayoutView",
            "grid_template_rows": null,
            "right": null,
            "justify_content": null,
            "_view_module": "@jupyter-widgets/base",
            "overflow": null,
            "_model_module_version": "1.2.0",
            "_view_count": null,
            "flex_flow": null,
            "width": null,
            "min_width": null,
            "border": null,
            "align_items": null,
            "bottom": null,
            "_model_module": "@jupyter-widgets/base",
            "top": null,
            "grid_column": null,
            "overflow_y": null,
            "overflow_x": null,
            "grid_auto_flow": null,
            "grid_area": null,
            "grid_template_columns": null,
            "flex": null,
            "_model_name": "LayoutModel",
            "justify_items": null,
            "grid_row": null,
            "max_height": null,
            "align_content": null,
            "visibility": null,
            "align_self": null,
            "height": null,
            "min_height": null,
            "padding": null,
            "grid_auto_rows": null,
            "grid_gap": null,
            "max_width": null,
            "order": null,
            "_view_module_version": "1.2.0",
            "grid_template_areas": null,
            "object_position": null,
            "object_fit": null,
            "grid_auto_columns": null,
            "margin": null,
            "display": null,
            "left": null
          }
        },
        "d4134253d1c844c0a729608038a76355": {
          "model_module": "@jupyter-widgets/controls",
          "model_name": "DescriptionStyleModel",
          "model_module_version": "1.5.0",
          "state": {
            "_view_name": "StyleView",
            "_model_name": "DescriptionStyleModel",
            "description_width": "",
            "_view_module": "@jupyter-widgets/base",
            "_model_module_version": "1.5.0",
            "_view_count": null,
            "_view_module_version": "1.2.0",
            "_model_module": "@jupyter-widgets/controls"
          }
        },
        "34689f602e5e41bbbc0f1c7903dc8887": {
          "model_module": "@jupyter-widgets/base",
          "model_name": "LayoutModel",
          "model_module_version": "1.2.0",
          "state": {
            "_view_name": "LayoutView",
            "grid_template_rows": null,
            "right": null,
            "justify_content": null,
            "_view_module": "@jupyter-widgets/base",
            "overflow": null,
            "_model_module_version": "1.2.0",
            "_view_count": null,
            "flex_flow": null,
            "width": null,
            "min_width": null,
            "border": null,
            "align_items": null,
            "bottom": null,
            "_model_module": "@jupyter-widgets/base",
            "top": null,
            "grid_column": null,
            "overflow_y": null,
            "overflow_x": null,
            "grid_auto_flow": null,
            "grid_area": null,
            "grid_template_columns": null,
            "flex": null,
            "_model_name": "LayoutModel",
            "justify_items": null,
            "grid_row": null,
            "max_height": null,
            "align_content": null,
            "visibility": null,
            "align_self": null,
            "height": null,
            "min_height": null,
            "padding": null,
            "grid_auto_rows": null,
            "grid_gap": null,
            "max_width": null,
            "order": null,
            "_view_module_version": "1.2.0",
            "grid_template_areas": null,
            "object_position": null,
            "object_fit": null,
            "grid_auto_columns": null,
            "margin": null,
            "display": null,
            "left": null
          }
        },
        "79b6a0446eba474a8d2d022114977f47": {
          "model_module": "@jupyter-widgets/controls",
          "model_name": "HBoxModel",
          "model_module_version": "1.5.0",
          "state": {
            "_view_name": "HBoxView",
            "_dom_classes": [],
            "_model_name": "HBoxModel",
            "_view_module": "@jupyter-widgets/controls",
            "_model_module_version": "1.5.0",
            "_view_count": null,
            "_view_module_version": "1.5.0",
            "box_style": "",
            "layout": "IPY_MODEL_7816450c94a6436c921abbef20873957",
            "_model_module": "@jupyter-widgets/controls",
            "children": [
              "IPY_MODEL_eff949091b7e4100ae6e6e9b8d48e2fe",
              "IPY_MODEL_2cff3b915cb74cbe84236f16d2bdd275",
              "IPY_MODEL_06e26c1a2c564dc7a22d3a963d5f3710"
            ]
          }
        },
        "7816450c94a6436c921abbef20873957": {
          "model_module": "@jupyter-widgets/base",
          "model_name": "LayoutModel",
          "model_module_version": "1.2.0",
          "state": {
            "_view_name": "LayoutView",
            "grid_template_rows": null,
            "right": null,
            "justify_content": null,
            "_view_module": "@jupyter-widgets/base",
            "overflow": null,
            "_model_module_version": "1.2.0",
            "_view_count": null,
            "flex_flow": null,
            "width": null,
            "min_width": null,
            "border": null,
            "align_items": null,
            "bottom": null,
            "_model_module": "@jupyter-widgets/base",
            "top": null,
            "grid_column": null,
            "overflow_y": null,
            "overflow_x": null,
            "grid_auto_flow": null,
            "grid_area": null,
            "grid_template_columns": null,
            "flex": null,
            "_model_name": "LayoutModel",
            "justify_items": null,
            "grid_row": null,
            "max_height": null,
            "align_content": null,
            "visibility": null,
            "align_self": null,
            "height": null,
            "min_height": null,
            "padding": null,
            "grid_auto_rows": null,
            "grid_gap": null,
            "max_width": null,
            "order": null,
            "_view_module_version": "1.2.0",
            "grid_template_areas": null,
            "object_position": null,
            "object_fit": null,
            "grid_auto_columns": null,
            "margin": null,
            "display": null,
            "left": null
          }
        },
        "eff949091b7e4100ae6e6e9b8d48e2fe": {
          "model_module": "@jupyter-widgets/controls",
          "model_name": "HTMLModel",
          "model_module_version": "1.5.0",
          "state": {
            "_view_name": "HTMLView",
            "style": "IPY_MODEL_3c7718e509ac42c19e44105ede27dfa2",
            "_dom_classes": [],
            "description": "",
            "_model_name": "HTMLModel",
            "placeholder": "​",
            "_view_module": "@jupyter-widgets/controls",
            "_model_module_version": "1.5.0",
            "value": "Downloading: 100%",
            "_view_count": null,
            "_view_module_version": "1.5.0",
            "description_tooltip": null,
            "_model_module": "@jupyter-widgets/controls",
            "layout": "IPY_MODEL_54d0784eed0b4308b2c77147f1e506cc"
          }
        },
        "2cff3b915cb74cbe84236f16d2bdd275": {
          "model_module": "@jupyter-widgets/controls",
          "model_name": "FloatProgressModel",
          "model_module_version": "1.5.0",
          "state": {
            "_view_name": "ProgressView",
            "style": "IPY_MODEL_cccf234276e34e0c924f4fc134454502",
            "_dom_classes": [],
            "description": "",
            "_model_name": "FloatProgressModel",
            "bar_style": "success",
            "max": 122,
            "_view_module": "@jupyter-widgets/controls",
            "_model_module_version": "1.5.0",
            "value": 122,
            "_view_count": null,
            "_view_module_version": "1.5.0",
            "orientation": "horizontal",
            "min": 0,
            "description_tooltip": null,
            "_model_module": "@jupyter-widgets/controls",
            "layout": "IPY_MODEL_105c979ec747402bae37476762481c79"
          }
        },
        "06e26c1a2c564dc7a22d3a963d5f3710": {
          "model_module": "@jupyter-widgets/controls",
          "model_name": "HTMLModel",
          "model_module_version": "1.5.0",
          "state": {
            "_view_name": "HTMLView",
            "style": "IPY_MODEL_f633ad78c28748458e4500c10e8e00f8",
            "_dom_classes": [],
            "description": "",
            "_model_name": "HTMLModel",
            "placeholder": "​",
            "_view_module": "@jupyter-widgets/controls",
            "_model_module_version": "1.5.0",
            "value": " 122/122 [00:00&lt;00:00, 5.22kB/s]",
            "_view_count": null,
            "_view_module_version": "1.5.0",
            "description_tooltip": null,
            "_model_module": "@jupyter-widgets/controls",
            "layout": "IPY_MODEL_73914db749f44708b9428ead8600e23a"
          }
        },
        "3c7718e509ac42c19e44105ede27dfa2": {
          "model_module": "@jupyter-widgets/controls",
          "model_name": "DescriptionStyleModel",
          "model_module_version": "1.5.0",
          "state": {
            "_view_name": "StyleView",
            "_model_name": "DescriptionStyleModel",
            "description_width": "",
            "_view_module": "@jupyter-widgets/base",
            "_model_module_version": "1.5.0",
            "_view_count": null,
            "_view_module_version": "1.2.0",
            "_model_module": "@jupyter-widgets/controls"
          }
        },
        "54d0784eed0b4308b2c77147f1e506cc": {
          "model_module": "@jupyter-widgets/base",
          "model_name": "LayoutModel",
          "model_module_version": "1.2.0",
          "state": {
            "_view_name": "LayoutView",
            "grid_template_rows": null,
            "right": null,
            "justify_content": null,
            "_view_module": "@jupyter-widgets/base",
            "overflow": null,
            "_model_module_version": "1.2.0",
            "_view_count": null,
            "flex_flow": null,
            "width": null,
            "min_width": null,
            "border": null,
            "align_items": null,
            "bottom": null,
            "_model_module": "@jupyter-widgets/base",
            "top": null,
            "grid_column": null,
            "overflow_y": null,
            "overflow_x": null,
            "grid_auto_flow": null,
            "grid_area": null,
            "grid_template_columns": null,
            "flex": null,
            "_model_name": "LayoutModel",
            "justify_items": null,
            "grid_row": null,
            "max_height": null,
            "align_content": null,
            "visibility": null,
            "align_self": null,
            "height": null,
            "min_height": null,
            "padding": null,
            "grid_auto_rows": null,
            "grid_gap": null,
            "max_width": null,
            "order": null,
            "_view_module_version": "1.2.0",
            "grid_template_areas": null,
            "object_position": null,
            "object_fit": null,
            "grid_auto_columns": null,
            "margin": null,
            "display": null,
            "left": null
          }
        },
        "cccf234276e34e0c924f4fc134454502": {
          "model_module": "@jupyter-widgets/controls",
          "model_name": "ProgressStyleModel",
          "model_module_version": "1.5.0",
          "state": {
            "_view_name": "StyleView",
            "_model_name": "ProgressStyleModel",
            "description_width": "",
            "_view_module": "@jupyter-widgets/base",
            "_model_module_version": "1.5.0",
            "_view_count": null,
            "_view_module_version": "1.2.0",
            "bar_color": null,
            "_model_module": "@jupyter-widgets/controls"
          }
        },
        "105c979ec747402bae37476762481c79": {
          "model_module": "@jupyter-widgets/base",
          "model_name": "LayoutModel",
          "model_module_version": "1.2.0",
          "state": {
            "_view_name": "LayoutView",
            "grid_template_rows": null,
            "right": null,
            "justify_content": null,
            "_view_module": "@jupyter-widgets/base",
            "overflow": null,
            "_model_module_version": "1.2.0",
            "_view_count": null,
            "flex_flow": null,
            "width": null,
            "min_width": null,
            "border": null,
            "align_items": null,
            "bottom": null,
            "_model_module": "@jupyter-widgets/base",
            "top": null,
            "grid_column": null,
            "overflow_y": null,
            "overflow_x": null,
            "grid_auto_flow": null,
            "grid_area": null,
            "grid_template_columns": null,
            "flex": null,
            "_model_name": "LayoutModel",
            "justify_items": null,
            "grid_row": null,
            "max_height": null,
            "align_content": null,
            "visibility": null,
            "align_self": null,
            "height": null,
            "min_height": null,
            "padding": null,
            "grid_auto_rows": null,
            "grid_gap": null,
            "max_width": null,
            "order": null,
            "_view_module_version": "1.2.0",
            "grid_template_areas": null,
            "object_position": null,
            "object_fit": null,
            "grid_auto_columns": null,
            "margin": null,
            "display": null,
            "left": null
          }
        },
        "f633ad78c28748458e4500c10e8e00f8": {
          "model_module": "@jupyter-widgets/controls",
          "model_name": "DescriptionStyleModel",
          "model_module_version": "1.5.0",
          "state": {
            "_view_name": "StyleView",
            "_model_name": "DescriptionStyleModel",
            "description_width": "",
            "_view_module": "@jupyter-widgets/base",
            "_model_module_version": "1.5.0",
            "_view_count": null,
            "_view_module_version": "1.2.0",
            "_model_module": "@jupyter-widgets/controls"
          }
        },
        "73914db749f44708b9428ead8600e23a": {
          "model_module": "@jupyter-widgets/base",
          "model_name": "LayoutModel",
          "model_module_version": "1.2.0",
          "state": {
            "_view_name": "LayoutView",
            "grid_template_rows": null,
            "right": null,
            "justify_content": null,
            "_view_module": "@jupyter-widgets/base",
            "overflow": null,
            "_model_module_version": "1.2.0",
            "_view_count": null,
            "flex_flow": null,
            "width": null,
            "min_width": null,
            "border": null,
            "align_items": null,
            "bottom": null,
            "_model_module": "@jupyter-widgets/base",
            "top": null,
            "grid_column": null,
            "overflow_y": null,
            "overflow_x": null,
            "grid_auto_flow": null,
            "grid_area": null,
            "grid_template_columns": null,
            "flex": null,
            "_model_name": "LayoutModel",
            "justify_items": null,
            "grid_row": null,
            "max_height": null,
            "align_content": null,
            "visibility": null,
            "align_self": null,
            "height": null,
            "min_height": null,
            "padding": null,
            "grid_auto_rows": null,
            "grid_gap": null,
            "max_width": null,
            "order": null,
            "_view_module_version": "1.2.0",
            "grid_template_areas": null,
            "object_position": null,
            "object_fit": null,
            "grid_auto_columns": null,
            "margin": null,
            "display": null,
            "left": null
          }
        },
        "b6e41e26fce54b2f8e8860eb2b80fb8a": {
          "model_module": "@jupyter-widgets/controls",
          "model_name": "HBoxModel",
          "model_module_version": "1.5.0",
          "state": {
            "_view_name": "HBoxView",
            "_dom_classes": [],
            "_model_name": "HBoxModel",
            "_view_module": "@jupyter-widgets/controls",
            "_model_module_version": "1.5.0",
            "_view_count": null,
            "_view_module_version": "1.5.0",
            "box_style": "",
            "layout": "IPY_MODEL_a95ea439e0e84c29a82a27fed063cc3f",
            "_model_module": "@jupyter-widgets/controls",
            "children": [
              "IPY_MODEL_857b61812cab4594a71cedf801137bf1",
              "IPY_MODEL_e8e109a4ab9045b584ff31dfa12dc944",
              "IPY_MODEL_b7a7189cb7c34a29bdd1323dd2a906bb"
            ]
          }
        },
        "a95ea439e0e84c29a82a27fed063cc3f": {
          "model_module": "@jupyter-widgets/base",
          "model_name": "LayoutModel",
          "model_module_version": "1.2.0",
          "state": {
            "_view_name": "LayoutView",
            "grid_template_rows": null,
            "right": null,
            "justify_content": null,
            "_view_module": "@jupyter-widgets/base",
            "overflow": null,
            "_model_module_version": "1.2.0",
            "_view_count": null,
            "flex_flow": null,
            "width": null,
            "min_width": null,
            "border": null,
            "align_items": null,
            "bottom": null,
            "_model_module": "@jupyter-widgets/base",
            "top": null,
            "grid_column": null,
            "overflow_y": null,
            "overflow_x": null,
            "grid_auto_flow": null,
            "grid_area": null,
            "grid_template_columns": null,
            "flex": null,
            "_model_name": "LayoutModel",
            "justify_items": null,
            "grid_row": null,
            "max_height": null,
            "align_content": null,
            "visibility": null,
            "align_self": null,
            "height": null,
            "min_height": null,
            "padding": null,
            "grid_auto_rows": null,
            "grid_gap": null,
            "max_width": null,
            "order": null,
            "_view_module_version": "1.2.0",
            "grid_template_areas": null,
            "object_position": null,
            "object_fit": null,
            "grid_auto_columns": null,
            "margin": null,
            "display": null,
            "left": null
          }
        },
        "857b61812cab4594a71cedf801137bf1": {
          "model_module": "@jupyter-widgets/controls",
          "model_name": "HTMLModel",
          "model_module_version": "1.5.0",
          "state": {
            "_view_name": "HTMLView",
            "style": "IPY_MODEL_b21a0e2906904cb2b635c350f26a597b",
            "_dom_classes": [],
            "description": "",
            "_model_name": "HTMLModel",
            "placeholder": "​",
            "_view_module": "@jupyter-widgets/controls",
            "_model_module_version": "1.5.0",
            "value": "Downloading: 100%",
            "_view_count": null,
            "_view_module_version": "1.5.0",
            "description_tooltip": null,
            "_model_module": "@jupyter-widgets/controls",
            "layout": "IPY_MODEL_9348ba6d925e43e797dd45132f299d45"
          }
        },
        "e8e109a4ab9045b584ff31dfa12dc944": {
          "model_module": "@jupyter-widgets/controls",
          "model_name": "FloatProgressModel",
          "model_module_version": "1.5.0",
          "state": {
            "_view_name": "ProgressView",
            "style": "IPY_MODEL_0af849a7f3aa4034b37802dd58e123f9",
            "_dom_classes": [],
            "description": "",
            "_model_name": "FloatProgressModel",
            "bar_style": "success",
            "max": 229,
            "_view_module": "@jupyter-widgets/controls",
            "_model_module_version": "1.5.0",
            "value": 229,
            "_view_count": null,
            "_view_module_version": "1.5.0",
            "orientation": "horizontal",
            "min": 0,
            "description_tooltip": null,
            "_model_module": "@jupyter-widgets/controls",
            "layout": "IPY_MODEL_a7b561884cc2480e93687c5bc3cb910e"
          }
        },
        "b7a7189cb7c34a29bdd1323dd2a906bb": {
          "model_module": "@jupyter-widgets/controls",
          "model_name": "HTMLModel",
          "model_module_version": "1.5.0",
          "state": {
            "_view_name": "HTMLView",
            "style": "IPY_MODEL_987bbb5d81c54010b2bcc8ac12ef5faa",
            "_dom_classes": [],
            "description": "",
            "_model_name": "HTMLModel",
            "placeholder": "​",
            "_view_module": "@jupyter-widgets/controls",
            "_model_module_version": "1.5.0",
            "value": " 229/229 [00:00&lt;00:00, 10.2kB/s]",
            "_view_count": null,
            "_view_module_version": "1.5.0",
            "description_tooltip": null,
            "_model_module": "@jupyter-widgets/controls",
            "layout": "IPY_MODEL_d4a68da5b29b4415a856ba1e176c565f"
          }
        },
        "b21a0e2906904cb2b635c350f26a597b": {
          "model_module": "@jupyter-widgets/controls",
          "model_name": "DescriptionStyleModel",
          "model_module_version": "1.5.0",
          "state": {
            "_view_name": "StyleView",
            "_model_name": "DescriptionStyleModel",
            "description_width": "",
            "_view_module": "@jupyter-widgets/base",
            "_model_module_version": "1.5.0",
            "_view_count": null,
            "_view_module_version": "1.2.0",
            "_model_module": "@jupyter-widgets/controls"
          }
        },
        "9348ba6d925e43e797dd45132f299d45": {
          "model_module": "@jupyter-widgets/base",
          "model_name": "LayoutModel",
          "model_module_version": "1.2.0",
          "state": {
            "_view_name": "LayoutView",
            "grid_template_rows": null,
            "right": null,
            "justify_content": null,
            "_view_module": "@jupyter-widgets/base",
            "overflow": null,
            "_model_module_version": "1.2.0",
            "_view_count": null,
            "flex_flow": null,
            "width": null,
            "min_width": null,
            "border": null,
            "align_items": null,
            "bottom": null,
            "_model_module": "@jupyter-widgets/base",
            "top": null,
            "grid_column": null,
            "overflow_y": null,
            "overflow_x": null,
            "grid_auto_flow": null,
            "grid_area": null,
            "grid_template_columns": null,
            "flex": null,
            "_model_name": "LayoutModel",
            "justify_items": null,
            "grid_row": null,
            "max_height": null,
            "align_content": null,
            "visibility": null,
            "align_self": null,
            "height": null,
            "min_height": null,
            "padding": null,
            "grid_auto_rows": null,
            "grid_gap": null,
            "max_width": null,
            "order": null,
            "_view_module_version": "1.2.0",
            "grid_template_areas": null,
            "object_position": null,
            "object_fit": null,
            "grid_auto_columns": null,
            "margin": null,
            "display": null,
            "left": null
          }
        },
        "0af849a7f3aa4034b37802dd58e123f9": {
          "model_module": "@jupyter-widgets/controls",
          "model_name": "ProgressStyleModel",
          "model_module_version": "1.5.0",
          "state": {
            "_view_name": "StyleView",
            "_model_name": "ProgressStyleModel",
            "description_width": "",
            "_view_module": "@jupyter-widgets/base",
            "_model_module_version": "1.5.0",
            "_view_count": null,
            "_view_module_version": "1.2.0",
            "bar_color": null,
            "_model_module": "@jupyter-widgets/controls"
          }
        },
        "a7b561884cc2480e93687c5bc3cb910e": {
          "model_module": "@jupyter-widgets/base",
          "model_name": "LayoutModel",
          "model_module_version": "1.2.0",
          "state": {
            "_view_name": "LayoutView",
            "grid_template_rows": null,
            "right": null,
            "justify_content": null,
            "_view_module": "@jupyter-widgets/base",
            "overflow": null,
            "_model_module_version": "1.2.0",
            "_view_count": null,
            "flex_flow": null,
            "width": null,
            "min_width": null,
            "border": null,
            "align_items": null,
            "bottom": null,
            "_model_module": "@jupyter-widgets/base",
            "top": null,
            "grid_column": null,
            "overflow_y": null,
            "overflow_x": null,
            "grid_auto_flow": null,
            "grid_area": null,
            "grid_template_columns": null,
            "flex": null,
            "_model_name": "LayoutModel",
            "justify_items": null,
            "grid_row": null,
            "max_height": null,
            "align_content": null,
            "visibility": null,
            "align_self": null,
            "height": null,
            "min_height": null,
            "padding": null,
            "grid_auto_rows": null,
            "grid_gap": null,
            "max_width": null,
            "order": null,
            "_view_module_version": "1.2.0",
            "grid_template_areas": null,
            "object_position": null,
            "object_fit": null,
            "grid_auto_columns": null,
            "margin": null,
            "display": null,
            "left": null
          }
        },
        "987bbb5d81c54010b2bcc8ac12ef5faa": {
          "model_module": "@jupyter-widgets/controls",
          "model_name": "DescriptionStyleModel",
          "model_module_version": "1.5.0",
          "state": {
            "_view_name": "StyleView",
            "_model_name": "DescriptionStyleModel",
            "description_width": "",
            "_view_module": "@jupyter-widgets/base",
            "_model_module_version": "1.5.0",
            "_view_count": null,
            "_view_module_version": "1.2.0",
            "_model_module": "@jupyter-widgets/controls"
          }
        },
        "d4a68da5b29b4415a856ba1e176c565f": {
          "model_module": "@jupyter-widgets/base",
          "model_name": "LayoutModel",
          "model_module_version": "1.2.0",
          "state": {
            "_view_name": "LayoutView",
            "grid_template_rows": null,
            "right": null,
            "justify_content": null,
            "_view_module": "@jupyter-widgets/base",
            "overflow": null,
            "_model_module_version": "1.2.0",
            "_view_count": null,
            "flex_flow": null,
            "width": null,
            "min_width": null,
            "border": null,
            "align_items": null,
            "bottom": null,
            "_model_module": "@jupyter-widgets/base",
            "top": null,
            "grid_column": null,
            "overflow_y": null,
            "overflow_x": null,
            "grid_auto_flow": null,
            "grid_area": null,
            "grid_template_columns": null,
            "flex": null,
            "_model_name": "LayoutModel",
            "justify_items": null,
            "grid_row": null,
            "max_height": null,
            "align_content": null,
            "visibility": null,
            "align_self": null,
            "height": null,
            "min_height": null,
            "padding": null,
            "grid_auto_rows": null,
            "grid_gap": null,
            "max_width": null,
            "order": null,
            "_view_module_version": "1.2.0",
            "grid_template_areas": null,
            "object_position": null,
            "object_fit": null,
            "grid_auto_columns": null,
            "margin": null,
            "display": null,
            "left": null
          }
        },
        "92e346cc45d945928c09f16c06492207": {
          "model_module": "@jupyter-widgets/controls",
          "model_name": "HBoxModel",
          "model_module_version": "1.5.0",
          "state": {
            "_view_name": "HBoxView",
            "_dom_classes": [],
            "_model_name": "HBoxModel",
            "_view_module": "@jupyter-widgets/controls",
            "_model_module_version": "1.5.0",
            "_view_count": null,
            "_view_module_version": "1.5.0",
            "box_style": "",
            "layout": "IPY_MODEL_7f8d24ee7fee4e1d8fd47462fccb7166",
            "_model_module": "@jupyter-widgets/controls",
            "children": [
              "IPY_MODEL_056a2b7c87a74bbaae876020499b850d",
              "IPY_MODEL_d7ca3892c8c84ed49cbee48363594a4d",
              "IPY_MODEL_b3f88384212d4dbab2deeadd4675f617"
            ]
          }
        },
        "7f8d24ee7fee4e1d8fd47462fccb7166": {
          "model_module": "@jupyter-widgets/base",
          "model_name": "LayoutModel",
          "model_module_version": "1.2.0",
          "state": {
            "_view_name": "LayoutView",
            "grid_template_rows": null,
            "right": null,
            "justify_content": null,
            "_view_module": "@jupyter-widgets/base",
            "overflow": null,
            "_model_module_version": "1.2.0",
            "_view_count": null,
            "flex_flow": null,
            "width": null,
            "min_width": null,
            "border": null,
            "align_items": null,
            "bottom": null,
            "_model_module": "@jupyter-widgets/base",
            "top": null,
            "grid_column": null,
            "overflow_y": null,
            "overflow_x": null,
            "grid_auto_flow": null,
            "grid_area": null,
            "grid_template_columns": null,
            "flex": null,
            "_model_name": "LayoutModel",
            "justify_items": null,
            "grid_row": null,
            "max_height": null,
            "align_content": null,
            "visibility": null,
            "align_self": null,
            "height": null,
            "min_height": null,
            "padding": null,
            "grid_auto_rows": null,
            "grid_gap": null,
            "max_width": null,
            "order": null,
            "_view_module_version": "1.2.0",
            "grid_template_areas": null,
            "object_position": null,
            "object_fit": null,
            "grid_auto_columns": null,
            "margin": null,
            "display": null,
            "left": null
          }
        },
        "056a2b7c87a74bbaae876020499b850d": {
          "model_module": "@jupyter-widgets/controls",
          "model_name": "HTMLModel",
          "model_module_version": "1.5.0",
          "state": {
            "_view_name": "HTMLView",
            "style": "IPY_MODEL_0a9b39f3ea4a400e9c7699cd0620b179",
            "_dom_classes": [],
            "description": "",
            "_model_name": "HTMLModel",
            "placeholder": "​",
            "_view_module": "@jupyter-widgets/controls",
            "_model_module_version": "1.5.0",
            "value": "Downloading: 100%",
            "_view_count": null,
            "_view_module_version": "1.5.0",
            "description_tooltip": null,
            "_model_module": "@jupyter-widgets/controls",
            "layout": "IPY_MODEL_cdfb82b4152f4861ac67cb46c253a918"
          }
        },
        "d7ca3892c8c84ed49cbee48363594a4d": {
          "model_module": "@jupyter-widgets/controls",
          "model_name": "FloatProgressModel",
          "model_module_version": "1.5.0",
          "state": {
            "_view_name": "ProgressView",
            "style": "IPY_MODEL_ac0efbdb5bee4df1be3b04a0448c95c5",
            "_dom_classes": [],
            "description": "",
            "_model_name": "FloatProgressModel",
            "bar_style": "success",
            "max": 1112253233,
            "_view_module": "@jupyter-widgets/controls",
            "_model_module_version": "1.5.0",
            "value": 1112253233,
            "_view_count": null,
            "_view_module_version": "1.5.0",
            "orientation": "horizontal",
            "min": 0,
            "description_tooltip": null,
            "_model_module": "@jupyter-widgets/controls",
            "layout": "IPY_MODEL_cf5a00dc53e247f88dd0fbd14bbc8b08"
          }
        },
        "b3f88384212d4dbab2deeadd4675f617": {
          "model_module": "@jupyter-widgets/controls",
          "model_name": "HTMLModel",
          "model_module_version": "1.5.0",
          "state": {
            "_view_name": "HTMLView",
            "style": "IPY_MODEL_3a9a85504aca440cb500be7dffc59181",
            "_dom_classes": [],
            "description": "",
            "_model_name": "HTMLModel",
            "placeholder": "​",
            "_view_module": "@jupyter-widgets/controls",
            "_model_module_version": "1.5.0",
            "value": " 1.11G/1.11G [00:18&lt;00:00, 64.5MB/s]",
            "_view_count": null,
            "_view_module_version": "1.5.0",
            "description_tooltip": null,
            "_model_module": "@jupyter-widgets/controls",
            "layout": "IPY_MODEL_aee35126fbde4bcabb7cf24d385cb15b"
          }
        },
        "0a9b39f3ea4a400e9c7699cd0620b179": {
          "model_module": "@jupyter-widgets/controls",
          "model_name": "DescriptionStyleModel",
          "model_module_version": "1.5.0",
          "state": {
            "_view_name": "StyleView",
            "_model_name": "DescriptionStyleModel",
            "description_width": "",
            "_view_module": "@jupyter-widgets/base",
            "_model_module_version": "1.5.0",
            "_view_count": null,
            "_view_module_version": "1.2.0",
            "_model_module": "@jupyter-widgets/controls"
          }
        },
        "cdfb82b4152f4861ac67cb46c253a918": {
          "model_module": "@jupyter-widgets/base",
          "model_name": "LayoutModel",
          "model_module_version": "1.2.0",
          "state": {
            "_view_name": "LayoutView",
            "grid_template_rows": null,
            "right": null,
            "justify_content": null,
            "_view_module": "@jupyter-widgets/base",
            "overflow": null,
            "_model_module_version": "1.2.0",
            "_view_count": null,
            "flex_flow": null,
            "width": null,
            "min_width": null,
            "border": null,
            "align_items": null,
            "bottom": null,
            "_model_module": "@jupyter-widgets/base",
            "top": null,
            "grid_column": null,
            "overflow_y": null,
            "overflow_x": null,
            "grid_auto_flow": null,
            "grid_area": null,
            "grid_template_columns": null,
            "flex": null,
            "_model_name": "LayoutModel",
            "justify_items": null,
            "grid_row": null,
            "max_height": null,
            "align_content": null,
            "visibility": null,
            "align_self": null,
            "height": null,
            "min_height": null,
            "padding": null,
            "grid_auto_rows": null,
            "grid_gap": null,
            "max_width": null,
            "order": null,
            "_view_module_version": "1.2.0",
            "grid_template_areas": null,
            "object_position": null,
            "object_fit": null,
            "grid_auto_columns": null,
            "margin": null,
            "display": null,
            "left": null
          }
        },
        "ac0efbdb5bee4df1be3b04a0448c95c5": {
          "model_module": "@jupyter-widgets/controls",
          "model_name": "ProgressStyleModel",
          "model_module_version": "1.5.0",
          "state": {
            "_view_name": "StyleView",
            "_model_name": "ProgressStyleModel",
            "description_width": "",
            "_view_module": "@jupyter-widgets/base",
            "_model_module_version": "1.5.0",
            "_view_count": null,
            "_view_module_version": "1.2.0",
            "bar_color": null,
            "_model_module": "@jupyter-widgets/controls"
          }
        },
        "cf5a00dc53e247f88dd0fbd14bbc8b08": {
          "model_module": "@jupyter-widgets/base",
          "model_name": "LayoutModel",
          "model_module_version": "1.2.0",
          "state": {
            "_view_name": "LayoutView",
            "grid_template_rows": null,
            "right": null,
            "justify_content": null,
            "_view_module": "@jupyter-widgets/base",
            "overflow": null,
            "_model_module_version": "1.2.0",
            "_view_count": null,
            "flex_flow": null,
            "width": null,
            "min_width": null,
            "border": null,
            "align_items": null,
            "bottom": null,
            "_model_module": "@jupyter-widgets/base",
            "top": null,
            "grid_column": null,
            "overflow_y": null,
            "overflow_x": null,
            "grid_auto_flow": null,
            "grid_area": null,
            "grid_template_columns": null,
            "flex": null,
            "_model_name": "LayoutModel",
            "justify_items": null,
            "grid_row": null,
            "max_height": null,
            "align_content": null,
            "visibility": null,
            "align_self": null,
            "height": null,
            "min_height": null,
            "padding": null,
            "grid_auto_rows": null,
            "grid_gap": null,
            "max_width": null,
            "order": null,
            "_view_module_version": "1.2.0",
            "grid_template_areas": null,
            "object_position": null,
            "object_fit": null,
            "grid_auto_columns": null,
            "margin": null,
            "display": null,
            "left": null
          }
        },
        "3a9a85504aca440cb500be7dffc59181": {
          "model_module": "@jupyter-widgets/controls",
          "model_name": "DescriptionStyleModel",
          "model_module_version": "1.5.0",
          "state": {
            "_view_name": "StyleView",
            "_model_name": "DescriptionStyleModel",
            "description_width": "",
            "_view_module": "@jupyter-widgets/base",
            "_model_module_version": "1.5.0",
            "_view_count": null,
            "_view_module_version": "1.2.0",
            "_model_module": "@jupyter-widgets/controls"
          }
        },
        "aee35126fbde4bcabb7cf24d385cb15b": {
          "model_module": "@jupyter-widgets/base",
          "model_name": "LayoutModel",
          "model_module_version": "1.2.0",
          "state": {
            "_view_name": "LayoutView",
            "grid_template_rows": null,
            "right": null,
            "justify_content": null,
            "_view_module": "@jupyter-widgets/base",
            "overflow": null,
            "_model_module_version": "1.2.0",
            "_view_count": null,
            "flex_flow": null,
            "width": null,
            "min_width": null,
            "border": null,
            "align_items": null,
            "bottom": null,
            "_model_module": "@jupyter-widgets/base",
            "top": null,
            "grid_column": null,
            "overflow_y": null,
            "overflow_x": null,
            "grid_auto_flow": null,
            "grid_area": null,
            "grid_template_columns": null,
            "flex": null,
            "_model_name": "LayoutModel",
            "justify_items": null,
            "grid_row": null,
            "max_height": null,
            "align_content": null,
            "visibility": null,
            "align_self": null,
            "height": null,
            "min_height": null,
            "padding": null,
            "grid_auto_rows": null,
            "grid_gap": null,
            "max_width": null,
            "order": null,
            "_view_module_version": "1.2.0",
            "grid_template_areas": null,
            "object_position": null,
            "object_fit": null,
            "grid_auto_columns": null,
            "margin": null,
            "display": null,
            "left": null
          }
        },
        "ecae87e9d9d34a10a0713cd9b3c0adc0": {
          "model_module": "@jupyter-widgets/controls",
          "model_name": "HBoxModel",
          "model_module_version": "1.5.0",
          "state": {
            "_view_name": "HBoxView",
            "_dom_classes": [],
            "_model_name": "HBoxModel",
            "_view_module": "@jupyter-widgets/controls",
            "_model_module_version": "1.5.0",
            "_view_count": null,
            "_view_module_version": "1.5.0",
            "box_style": "",
            "layout": "IPY_MODEL_c02fa456a32d4f19b422e8884602c8f2",
            "_model_module": "@jupyter-widgets/controls",
            "children": [
              "IPY_MODEL_1f9ebfdd8288470db3424cd1bdcf4dec",
              "IPY_MODEL_0d728233bf964cf4a80cfd91339403d2",
              "IPY_MODEL_ed811b3d9f5e4e27a4e5b96fa15a26b7"
            ]
          }
        },
        "c02fa456a32d4f19b422e8884602c8f2": {
          "model_module": "@jupyter-widgets/base",
          "model_name": "LayoutModel",
          "model_module_version": "1.2.0",
          "state": {
            "_view_name": "LayoutView",
            "grid_template_rows": null,
            "right": null,
            "justify_content": null,
            "_view_module": "@jupyter-widgets/base",
            "overflow": null,
            "_model_module_version": "1.2.0",
            "_view_count": null,
            "flex_flow": null,
            "width": null,
            "min_width": null,
            "border": null,
            "align_items": null,
            "bottom": null,
            "_model_module": "@jupyter-widgets/base",
            "top": null,
            "grid_column": null,
            "overflow_y": null,
            "overflow_x": null,
            "grid_auto_flow": null,
            "grid_area": null,
            "grid_template_columns": null,
            "flex": null,
            "_model_name": "LayoutModel",
            "justify_items": null,
            "grid_row": null,
            "max_height": null,
            "align_content": null,
            "visibility": null,
            "align_self": null,
            "height": null,
            "min_height": null,
            "padding": null,
            "grid_auto_rows": null,
            "grid_gap": null,
            "max_width": null,
            "order": null,
            "_view_module_version": "1.2.0",
            "grid_template_areas": null,
            "object_position": null,
            "object_fit": null,
            "grid_auto_columns": null,
            "margin": null,
            "display": null,
            "left": null
          }
        },
        "1f9ebfdd8288470db3424cd1bdcf4dec": {
          "model_module": "@jupyter-widgets/controls",
          "model_name": "HTMLModel",
          "model_module_version": "1.5.0",
          "state": {
            "_view_name": "HTMLView",
            "style": "IPY_MODEL_9a647bcd4cc94fb880798372cd193e50",
            "_dom_classes": [],
            "description": "",
            "_model_name": "HTMLModel",
            "placeholder": "​",
            "_view_module": "@jupyter-widgets/controls",
            "_model_module_version": "1.5.0",
            "value": "Downloading: 100%",
            "_view_count": null,
            "_view_module_version": "1.5.0",
            "description_tooltip": null,
            "_model_module": "@jupyter-widgets/controls",
            "layout": "IPY_MODEL_82a55afe270540449d34fc31dfae181c"
          }
        },
        "0d728233bf964cf4a80cfd91339403d2": {
          "model_module": "@jupyter-widgets/controls",
          "model_name": "FloatProgressModel",
          "model_module_version": "1.5.0",
          "state": {
            "_view_name": "ProgressView",
            "style": "IPY_MODEL_6a24b332c7cc470bbcc9d32a419e4d3d",
            "_dom_classes": [],
            "description": "",
            "_model_name": "FloatProgressModel",
            "bar_style": "success",
            "max": 53,
            "_view_module": "@jupyter-widgets/controls",
            "_model_module_version": "1.5.0",
            "value": 53,
            "_view_count": null,
            "_view_module_version": "1.5.0",
            "orientation": "horizontal",
            "min": 0,
            "description_tooltip": null,
            "_model_module": "@jupyter-widgets/controls",
            "layout": "IPY_MODEL_0da9d8f1a1114b1fb93bc05049c7a5dc"
          }
        },
        "ed811b3d9f5e4e27a4e5b96fa15a26b7": {
          "model_module": "@jupyter-widgets/controls",
          "model_name": "HTMLModel",
          "model_module_version": "1.5.0",
          "state": {
            "_view_name": "HTMLView",
            "style": "IPY_MODEL_1b693de8f17a4a3398be075e4d5a776e",
            "_dom_classes": [],
            "description": "",
            "_model_name": "HTMLModel",
            "placeholder": "​",
            "_view_module": "@jupyter-widgets/controls",
            "_model_module_version": "1.5.0",
            "value": " 53.0/53.0 [00:00&lt;00:00, 2.20kB/s]",
            "_view_count": null,
            "_view_module_version": "1.5.0",
            "description_tooltip": null,
            "_model_module": "@jupyter-widgets/controls",
            "layout": "IPY_MODEL_b4f28a0754da4a6a82d65088594cdbcd"
          }
        },
        "9a647bcd4cc94fb880798372cd193e50": {
          "model_module": "@jupyter-widgets/controls",
          "model_name": "DescriptionStyleModel",
          "model_module_version": "1.5.0",
          "state": {
            "_view_name": "StyleView",
            "_model_name": "DescriptionStyleModel",
            "description_width": "",
            "_view_module": "@jupyter-widgets/base",
            "_model_module_version": "1.5.0",
            "_view_count": null,
            "_view_module_version": "1.2.0",
            "_model_module": "@jupyter-widgets/controls"
          }
        },
        "82a55afe270540449d34fc31dfae181c": {
          "model_module": "@jupyter-widgets/base",
          "model_name": "LayoutModel",
          "model_module_version": "1.2.0",
          "state": {
            "_view_name": "LayoutView",
            "grid_template_rows": null,
            "right": null,
            "justify_content": null,
            "_view_module": "@jupyter-widgets/base",
            "overflow": null,
            "_model_module_version": "1.2.0",
            "_view_count": null,
            "flex_flow": null,
            "width": null,
            "min_width": null,
            "border": null,
            "align_items": null,
            "bottom": null,
            "_model_module": "@jupyter-widgets/base",
            "top": null,
            "grid_column": null,
            "overflow_y": null,
            "overflow_x": null,
            "grid_auto_flow": null,
            "grid_area": null,
            "grid_template_columns": null,
            "flex": null,
            "_model_name": "LayoutModel",
            "justify_items": null,
            "grid_row": null,
            "max_height": null,
            "align_content": null,
            "visibility": null,
            "align_self": null,
            "height": null,
            "min_height": null,
            "padding": null,
            "grid_auto_rows": null,
            "grid_gap": null,
            "max_width": null,
            "order": null,
            "_view_module_version": "1.2.0",
            "grid_template_areas": null,
            "object_position": null,
            "object_fit": null,
            "grid_auto_columns": null,
            "margin": null,
            "display": null,
            "left": null
          }
        },
        "6a24b332c7cc470bbcc9d32a419e4d3d": {
          "model_module": "@jupyter-widgets/controls",
          "model_name": "ProgressStyleModel",
          "model_module_version": "1.5.0",
          "state": {
            "_view_name": "StyleView",
            "_model_name": "ProgressStyleModel",
            "description_width": "",
            "_view_module": "@jupyter-widgets/base",
            "_model_module_version": "1.5.0",
            "_view_count": null,
            "_view_module_version": "1.2.0",
            "bar_color": null,
            "_model_module": "@jupyter-widgets/controls"
          }
        },
        "0da9d8f1a1114b1fb93bc05049c7a5dc": {
          "model_module": "@jupyter-widgets/base",
          "model_name": "LayoutModel",
          "model_module_version": "1.2.0",
          "state": {
            "_view_name": "LayoutView",
            "grid_template_rows": null,
            "right": null,
            "justify_content": null,
            "_view_module": "@jupyter-widgets/base",
            "overflow": null,
            "_model_module_version": "1.2.0",
            "_view_count": null,
            "flex_flow": null,
            "width": null,
            "min_width": null,
            "border": null,
            "align_items": null,
            "bottom": null,
            "_model_module": "@jupyter-widgets/base",
            "top": null,
            "grid_column": null,
            "overflow_y": null,
            "overflow_x": null,
            "grid_auto_flow": null,
            "grid_area": null,
            "grid_template_columns": null,
            "flex": null,
            "_model_name": "LayoutModel",
            "justify_items": null,
            "grid_row": null,
            "max_height": null,
            "align_content": null,
            "visibility": null,
            "align_self": null,
            "height": null,
            "min_height": null,
            "padding": null,
            "grid_auto_rows": null,
            "grid_gap": null,
            "max_width": null,
            "order": null,
            "_view_module_version": "1.2.0",
            "grid_template_areas": null,
            "object_position": null,
            "object_fit": null,
            "grid_auto_columns": null,
            "margin": null,
            "display": null,
            "left": null
          }
        },
        "1b693de8f17a4a3398be075e4d5a776e": {
          "model_module": "@jupyter-widgets/controls",
          "model_name": "DescriptionStyleModel",
          "model_module_version": "1.5.0",
          "state": {
            "_view_name": "StyleView",
            "_model_name": "DescriptionStyleModel",
            "description_width": "",
            "_view_module": "@jupyter-widgets/base",
            "_model_module_version": "1.5.0",
            "_view_count": null,
            "_view_module_version": "1.2.0",
            "_model_module": "@jupyter-widgets/controls"
          }
        },
        "b4f28a0754da4a6a82d65088594cdbcd": {
          "model_module": "@jupyter-widgets/base",
          "model_name": "LayoutModel",
          "model_module_version": "1.2.0",
          "state": {
            "_view_name": "LayoutView",
            "grid_template_rows": null,
            "right": null,
            "justify_content": null,
            "_view_module": "@jupyter-widgets/base",
            "overflow": null,
            "_model_module_version": "1.2.0",
            "_view_count": null,
            "flex_flow": null,
            "width": null,
            "min_width": null,
            "border": null,
            "align_items": null,
            "bottom": null,
            "_model_module": "@jupyter-widgets/base",
            "top": null,
            "grid_column": null,
            "overflow_y": null,
            "overflow_x": null,
            "grid_auto_flow": null,
            "grid_area": null,
            "grid_template_columns": null,
            "flex": null,
            "_model_name": "LayoutModel",
            "justify_items": null,
            "grid_row": null,
            "max_height": null,
            "align_content": null,
            "visibility": null,
            "align_self": null,
            "height": null,
            "min_height": null,
            "padding": null,
            "grid_auto_rows": null,
            "grid_gap": null,
            "max_width": null,
            "order": null,
            "_view_module_version": "1.2.0",
            "grid_template_areas": null,
            "object_position": null,
            "object_fit": null,
            "grid_auto_columns": null,
            "margin": null,
            "display": null,
            "left": null
          }
        },
        "632c1563f4f140d9adf9937440d659df": {
          "model_module": "@jupyter-widgets/controls",
          "model_name": "HBoxModel",
          "model_module_version": "1.5.0",
          "state": {
            "_view_name": "HBoxView",
            "_dom_classes": [],
            "_model_name": "HBoxModel",
            "_view_module": "@jupyter-widgets/controls",
            "_model_module_version": "1.5.0",
            "_view_count": null,
            "_view_module_version": "1.5.0",
            "box_style": "",
            "layout": "IPY_MODEL_c499dcc98ec74039881a1d303c7d50b4",
            "_model_module": "@jupyter-widgets/controls",
            "children": [
              "IPY_MODEL_f7d7646ce05a4ec09212415d82ae4a41",
              "IPY_MODEL_59ddfb631ab2470ebd6912e2b299ac26",
              "IPY_MODEL_388ab0ea167b4e03882300b6ba36d619"
            ]
          }
        },
        "c499dcc98ec74039881a1d303c7d50b4": {
          "model_module": "@jupyter-widgets/base",
          "model_name": "LayoutModel",
          "model_module_version": "1.2.0",
          "state": {
            "_view_name": "LayoutView",
            "grid_template_rows": null,
            "right": null,
            "justify_content": null,
            "_view_module": "@jupyter-widgets/base",
            "overflow": null,
            "_model_module_version": "1.2.0",
            "_view_count": null,
            "flex_flow": null,
            "width": null,
            "min_width": null,
            "border": null,
            "align_items": null,
            "bottom": null,
            "_model_module": "@jupyter-widgets/base",
            "top": null,
            "grid_column": null,
            "overflow_y": null,
            "overflow_x": null,
            "grid_auto_flow": null,
            "grid_area": null,
            "grid_template_columns": null,
            "flex": null,
            "_model_name": "LayoutModel",
            "justify_items": null,
            "grid_row": null,
            "max_height": null,
            "align_content": null,
            "visibility": null,
            "align_self": null,
            "height": null,
            "min_height": null,
            "padding": null,
            "grid_auto_rows": null,
            "grid_gap": null,
            "max_width": null,
            "order": null,
            "_view_module_version": "1.2.0",
            "grid_template_areas": null,
            "object_position": null,
            "object_fit": null,
            "grid_auto_columns": null,
            "margin": null,
            "display": null,
            "left": null
          }
        },
        "f7d7646ce05a4ec09212415d82ae4a41": {
          "model_module": "@jupyter-widgets/controls",
          "model_name": "HTMLModel",
          "model_module_version": "1.5.0",
          "state": {
            "_view_name": "HTMLView",
            "style": "IPY_MODEL_6e07a26f1d5f44869b844d3cf9652b07",
            "_dom_classes": [],
            "description": "",
            "_model_name": "HTMLModel",
            "placeholder": "​",
            "_view_module": "@jupyter-widgets/controls",
            "_model_module_version": "1.5.0",
            "value": "Downloading: 100%",
            "_view_count": null,
            "_view_module_version": "1.5.0",
            "description_tooltip": null,
            "_model_module": "@jupyter-widgets/controls",
            "layout": "IPY_MODEL_1c45eec2198f4dfaaafa16ee2fe2d74b"
          }
        },
        "59ddfb631ab2470ebd6912e2b299ac26": {
          "model_module": "@jupyter-widgets/controls",
          "model_name": "FloatProgressModel",
          "model_module_version": "1.5.0",
          "state": {
            "_view_name": "ProgressView",
            "style": "IPY_MODEL_df2449680158484f86d5a35d077fddbb",
            "_dom_classes": [],
            "description": "",
            "_model_name": "FloatProgressModel",
            "bar_style": "success",
            "max": 5069051,
            "_view_module": "@jupyter-widgets/controls",
            "_model_module_version": "1.5.0",
            "value": 5069051,
            "_view_count": null,
            "_view_module_version": "1.5.0",
            "orientation": "horizontal",
            "min": 0,
            "description_tooltip": null,
            "_model_module": "@jupyter-widgets/controls",
            "layout": "IPY_MODEL_fc62c8c54ebd422ea8d78c058450086e"
          }
        },
        "388ab0ea167b4e03882300b6ba36d619": {
          "model_module": "@jupyter-widgets/controls",
          "model_name": "HTMLModel",
          "model_module_version": "1.5.0",
          "state": {
            "_view_name": "HTMLView",
            "style": "IPY_MODEL_4bb44a60ef414fe3a066656e59bd7d9d",
            "_dom_classes": [],
            "description": "",
            "_model_name": "HTMLModel",
            "placeholder": "​",
            "_view_module": "@jupyter-widgets/controls",
            "_model_module_version": "1.5.0",
            "value": " 5.07M/5.07M [00:00&lt;00:00, 10.6MB/s]",
            "_view_count": null,
            "_view_module_version": "1.5.0",
            "description_tooltip": null,
            "_model_module": "@jupyter-widgets/controls",
            "layout": "IPY_MODEL_d24b989e7adb4e48b21b5aaa5ecdd26c"
          }
        },
        "6e07a26f1d5f44869b844d3cf9652b07": {
          "model_module": "@jupyter-widgets/controls",
          "model_name": "DescriptionStyleModel",
          "model_module_version": "1.5.0",
          "state": {
            "_view_name": "StyleView",
            "_model_name": "DescriptionStyleModel",
            "description_width": "",
            "_view_module": "@jupyter-widgets/base",
            "_model_module_version": "1.5.0",
            "_view_count": null,
            "_view_module_version": "1.2.0",
            "_model_module": "@jupyter-widgets/controls"
          }
        },
        "1c45eec2198f4dfaaafa16ee2fe2d74b": {
          "model_module": "@jupyter-widgets/base",
          "model_name": "LayoutModel",
          "model_module_version": "1.2.0",
          "state": {
            "_view_name": "LayoutView",
            "grid_template_rows": null,
            "right": null,
            "justify_content": null,
            "_view_module": "@jupyter-widgets/base",
            "overflow": null,
            "_model_module_version": "1.2.0",
            "_view_count": null,
            "flex_flow": null,
            "width": null,
            "min_width": null,
            "border": null,
            "align_items": null,
            "bottom": null,
            "_model_module": "@jupyter-widgets/base",
            "top": null,
            "grid_column": null,
            "overflow_y": null,
            "overflow_x": null,
            "grid_auto_flow": null,
            "grid_area": null,
            "grid_template_columns": null,
            "flex": null,
            "_model_name": "LayoutModel",
            "justify_items": null,
            "grid_row": null,
            "max_height": null,
            "align_content": null,
            "visibility": null,
            "align_self": null,
            "height": null,
            "min_height": null,
            "padding": null,
            "grid_auto_rows": null,
            "grid_gap": null,
            "max_width": null,
            "order": null,
            "_view_module_version": "1.2.0",
            "grid_template_areas": null,
            "object_position": null,
            "object_fit": null,
            "grid_auto_columns": null,
            "margin": null,
            "display": null,
            "left": null
          }
        },
        "df2449680158484f86d5a35d077fddbb": {
          "model_module": "@jupyter-widgets/controls",
          "model_name": "ProgressStyleModel",
          "model_module_version": "1.5.0",
          "state": {
            "_view_name": "StyleView",
            "_model_name": "ProgressStyleModel",
            "description_width": "",
            "_view_module": "@jupyter-widgets/base",
            "_model_module_version": "1.5.0",
            "_view_count": null,
            "_view_module_version": "1.2.0",
            "bar_color": null,
            "_model_module": "@jupyter-widgets/controls"
          }
        },
        "fc62c8c54ebd422ea8d78c058450086e": {
          "model_module": "@jupyter-widgets/base",
          "model_name": "LayoutModel",
          "model_module_version": "1.2.0",
          "state": {
            "_view_name": "LayoutView",
            "grid_template_rows": null,
            "right": null,
            "justify_content": null,
            "_view_module": "@jupyter-widgets/base",
            "overflow": null,
            "_model_module_version": "1.2.0",
            "_view_count": null,
            "flex_flow": null,
            "width": null,
            "min_width": null,
            "border": null,
            "align_items": null,
            "bottom": null,
            "_model_module": "@jupyter-widgets/base",
            "top": null,
            "grid_column": null,
            "overflow_y": null,
            "overflow_x": null,
            "grid_auto_flow": null,
            "grid_area": null,
            "grid_template_columns": null,
            "flex": null,
            "_model_name": "LayoutModel",
            "justify_items": null,
            "grid_row": null,
            "max_height": null,
            "align_content": null,
            "visibility": null,
            "align_self": null,
            "height": null,
            "min_height": null,
            "padding": null,
            "grid_auto_rows": null,
            "grid_gap": null,
            "max_width": null,
            "order": null,
            "_view_module_version": "1.2.0",
            "grid_template_areas": null,
            "object_position": null,
            "object_fit": null,
            "grid_auto_columns": null,
            "margin": null,
            "display": null,
            "left": null
          }
        },
        "4bb44a60ef414fe3a066656e59bd7d9d": {
          "model_module": "@jupyter-widgets/controls",
          "model_name": "DescriptionStyleModel",
          "model_module_version": "1.5.0",
          "state": {
            "_view_name": "StyleView",
            "_model_name": "DescriptionStyleModel",
            "description_width": "",
            "_view_module": "@jupyter-widgets/base",
            "_model_module_version": "1.5.0",
            "_view_count": null,
            "_view_module_version": "1.2.0",
            "_model_module": "@jupyter-widgets/controls"
          }
        },
        "d24b989e7adb4e48b21b5aaa5ecdd26c": {
          "model_module": "@jupyter-widgets/base",
          "model_name": "LayoutModel",
          "model_module_version": "1.2.0",
          "state": {
            "_view_name": "LayoutView",
            "grid_template_rows": null,
            "right": null,
            "justify_content": null,
            "_view_module": "@jupyter-widgets/base",
            "overflow": null,
            "_model_module_version": "1.2.0",
            "_view_count": null,
            "flex_flow": null,
            "width": null,
            "min_width": null,
            "border": null,
            "align_items": null,
            "bottom": null,
            "_model_module": "@jupyter-widgets/base",
            "top": null,
            "grid_column": null,
            "overflow_y": null,
            "overflow_x": null,
            "grid_auto_flow": null,
            "grid_area": null,
            "grid_template_columns": null,
            "flex": null,
            "_model_name": "LayoutModel",
            "justify_items": null,
            "grid_row": null,
            "max_height": null,
            "align_content": null,
            "visibility": null,
            "align_self": null,
            "height": null,
            "min_height": null,
            "padding": null,
            "grid_auto_rows": null,
            "grid_gap": null,
            "max_width": null,
            "order": null,
            "_view_module_version": "1.2.0",
            "grid_template_areas": null,
            "object_position": null,
            "object_fit": null,
            "grid_auto_columns": null,
            "margin": null,
            "display": null,
            "left": null
          }
        },
        "842e9c17f6034b2390d444094fd85c06": {
          "model_module": "@jupyter-widgets/controls",
          "model_name": "HBoxModel",
          "model_module_version": "1.5.0",
          "state": {
            "_view_name": "HBoxView",
            "_dom_classes": [],
            "_model_name": "HBoxModel",
            "_view_module": "@jupyter-widgets/controls",
            "_model_module_version": "1.5.0",
            "_view_count": null,
            "_view_module_version": "1.5.0",
            "box_style": "",
            "layout": "IPY_MODEL_a5c8ce850f4e41b1818ad88abaaac31e",
            "_model_module": "@jupyter-widgets/controls",
            "children": [
              "IPY_MODEL_a83c6620fd95433db91e4288ee0be6f3",
              "IPY_MODEL_b2115ca4cd684b1fb19f84942ab31035",
              "IPY_MODEL_46273f79e45c4fe8aca50864472a0e60"
            ]
          }
        },
        "a5c8ce850f4e41b1818ad88abaaac31e": {
          "model_module": "@jupyter-widgets/base",
          "model_name": "LayoutModel",
          "model_module_version": "1.2.0",
          "state": {
            "_view_name": "LayoutView",
            "grid_template_rows": null,
            "right": null,
            "justify_content": null,
            "_view_module": "@jupyter-widgets/base",
            "overflow": null,
            "_model_module_version": "1.2.0",
            "_view_count": null,
            "flex_flow": null,
            "width": null,
            "min_width": null,
            "border": null,
            "align_items": null,
            "bottom": null,
            "_model_module": "@jupyter-widgets/base",
            "top": null,
            "grid_column": null,
            "overflow_y": null,
            "overflow_x": null,
            "grid_auto_flow": null,
            "grid_area": null,
            "grid_template_columns": null,
            "flex": null,
            "_model_name": "LayoutModel",
            "justify_items": null,
            "grid_row": null,
            "max_height": null,
            "align_content": null,
            "visibility": null,
            "align_self": null,
            "height": null,
            "min_height": null,
            "padding": null,
            "grid_auto_rows": null,
            "grid_gap": null,
            "max_width": null,
            "order": null,
            "_view_module_version": "1.2.0",
            "grid_template_areas": null,
            "object_position": null,
            "object_fit": null,
            "grid_auto_columns": null,
            "margin": null,
            "display": null,
            "left": null
          }
        },
        "a83c6620fd95433db91e4288ee0be6f3": {
          "model_module": "@jupyter-widgets/controls",
          "model_name": "HTMLModel",
          "model_module_version": "1.5.0",
          "state": {
            "_view_name": "HTMLView",
            "style": "IPY_MODEL_f01f27758e7a41cf844bb15299336d9b",
            "_dom_classes": [],
            "description": "",
            "_model_name": "HTMLModel",
            "placeholder": "​",
            "_view_module": "@jupyter-widgets/controls",
            "_model_module_version": "1.5.0",
            "value": "Downloading: 100%",
            "_view_count": null,
            "_view_module_version": "1.5.0",
            "description_tooltip": null,
            "_model_module": "@jupyter-widgets/controls",
            "layout": "IPY_MODEL_137364e6c90647fba2faba6b957f7116"
          }
        },
        "b2115ca4cd684b1fb19f84942ab31035": {
          "model_module": "@jupyter-widgets/controls",
          "model_name": "FloatProgressModel",
          "model_module_version": "1.5.0",
          "state": {
            "_view_name": "ProgressView",
            "style": "IPY_MODEL_409878d585f4460eb053381a14a1e1b5",
            "_dom_classes": [],
            "description": "",
            "_model_name": "FloatProgressModel",
            "bar_style": "success",
            "max": 150,
            "_view_module": "@jupyter-widgets/controls",
            "_model_module_version": "1.5.0",
            "value": 150,
            "_view_count": null,
            "_view_module_version": "1.5.0",
            "orientation": "horizontal",
            "min": 0,
            "description_tooltip": null,
            "_model_module": "@jupyter-widgets/controls",
            "layout": "IPY_MODEL_22d582714dcf4247a58ae54577440977"
          }
        },
        "46273f79e45c4fe8aca50864472a0e60": {
          "model_module": "@jupyter-widgets/controls",
          "model_name": "HTMLModel",
          "model_module_version": "1.5.0",
          "state": {
            "_view_name": "HTMLView",
            "style": "IPY_MODEL_0ddfee0d20264293b8fffbfd160f1cc7",
            "_dom_classes": [],
            "description": "",
            "_model_name": "HTMLModel",
            "placeholder": "​",
            "_view_module": "@jupyter-widgets/controls",
            "_model_module_version": "1.5.0",
            "value": " 150/150 [00:00&lt;00:00, 5.70kB/s]",
            "_view_count": null,
            "_view_module_version": "1.5.0",
            "description_tooltip": null,
            "_model_module": "@jupyter-widgets/controls",
            "layout": "IPY_MODEL_1c35e9352ac14b439fda925249c36a41"
          }
        },
        "f01f27758e7a41cf844bb15299336d9b": {
          "model_module": "@jupyter-widgets/controls",
          "model_name": "DescriptionStyleModel",
          "model_module_version": "1.5.0",
          "state": {
            "_view_name": "StyleView",
            "_model_name": "DescriptionStyleModel",
            "description_width": "",
            "_view_module": "@jupyter-widgets/base",
            "_model_module_version": "1.5.0",
            "_view_count": null,
            "_view_module_version": "1.2.0",
            "_model_module": "@jupyter-widgets/controls"
          }
        },
        "137364e6c90647fba2faba6b957f7116": {
          "model_module": "@jupyter-widgets/base",
          "model_name": "LayoutModel",
          "model_module_version": "1.2.0",
          "state": {
            "_view_name": "LayoutView",
            "grid_template_rows": null,
            "right": null,
            "justify_content": null,
            "_view_module": "@jupyter-widgets/base",
            "overflow": null,
            "_model_module_version": "1.2.0",
            "_view_count": null,
            "flex_flow": null,
            "width": null,
            "min_width": null,
            "border": null,
            "align_items": null,
            "bottom": null,
            "_model_module": "@jupyter-widgets/base",
            "top": null,
            "grid_column": null,
            "overflow_y": null,
            "overflow_x": null,
            "grid_auto_flow": null,
            "grid_area": null,
            "grid_template_columns": null,
            "flex": null,
            "_model_name": "LayoutModel",
            "justify_items": null,
            "grid_row": null,
            "max_height": null,
            "align_content": null,
            "visibility": null,
            "align_self": null,
            "height": null,
            "min_height": null,
            "padding": null,
            "grid_auto_rows": null,
            "grid_gap": null,
            "max_width": null,
            "order": null,
            "_view_module_version": "1.2.0",
            "grid_template_areas": null,
            "object_position": null,
            "object_fit": null,
            "grid_auto_columns": null,
            "margin": null,
            "display": null,
            "left": null
          }
        },
        "409878d585f4460eb053381a14a1e1b5": {
          "model_module": "@jupyter-widgets/controls",
          "model_name": "ProgressStyleModel",
          "model_module_version": "1.5.0",
          "state": {
            "_view_name": "StyleView",
            "_model_name": "ProgressStyleModel",
            "description_width": "",
            "_view_module": "@jupyter-widgets/base",
            "_model_module_version": "1.5.0",
            "_view_count": null,
            "_view_module_version": "1.2.0",
            "bar_color": null,
            "_model_module": "@jupyter-widgets/controls"
          }
        },
        "22d582714dcf4247a58ae54577440977": {
          "model_module": "@jupyter-widgets/base",
          "model_name": "LayoutModel",
          "model_module_version": "1.2.0",
          "state": {
            "_view_name": "LayoutView",
            "grid_template_rows": null,
            "right": null,
            "justify_content": null,
            "_view_module": "@jupyter-widgets/base",
            "overflow": null,
            "_model_module_version": "1.2.0",
            "_view_count": null,
            "flex_flow": null,
            "width": null,
            "min_width": null,
            "border": null,
            "align_items": null,
            "bottom": null,
            "_model_module": "@jupyter-widgets/base",
            "top": null,
            "grid_column": null,
            "overflow_y": null,
            "overflow_x": null,
            "grid_auto_flow": null,
            "grid_area": null,
            "grid_template_columns": null,
            "flex": null,
            "_model_name": "LayoutModel",
            "justify_items": null,
            "grid_row": null,
            "max_height": null,
            "align_content": null,
            "visibility": null,
            "align_self": null,
            "height": null,
            "min_height": null,
            "padding": null,
            "grid_auto_rows": null,
            "grid_gap": null,
            "max_width": null,
            "order": null,
            "_view_module_version": "1.2.0",
            "grid_template_areas": null,
            "object_position": null,
            "object_fit": null,
            "grid_auto_columns": null,
            "margin": null,
            "display": null,
            "left": null
          }
        },
        "0ddfee0d20264293b8fffbfd160f1cc7": {
          "model_module": "@jupyter-widgets/controls",
          "model_name": "DescriptionStyleModel",
          "model_module_version": "1.5.0",
          "state": {
            "_view_name": "StyleView",
            "_model_name": "DescriptionStyleModel",
            "description_width": "",
            "_view_module": "@jupyter-widgets/base",
            "_model_module_version": "1.5.0",
            "_view_count": null,
            "_view_module_version": "1.2.0",
            "_model_module": "@jupyter-widgets/controls"
          }
        },
        "1c35e9352ac14b439fda925249c36a41": {
          "model_module": "@jupyter-widgets/base",
          "model_name": "LayoutModel",
          "model_module_version": "1.2.0",
          "state": {
            "_view_name": "LayoutView",
            "grid_template_rows": null,
            "right": null,
            "justify_content": null,
            "_view_module": "@jupyter-widgets/base",
            "overflow": null,
            "_model_module_version": "1.2.0",
            "_view_count": null,
            "flex_flow": null,
            "width": null,
            "min_width": null,
            "border": null,
            "align_items": null,
            "bottom": null,
            "_model_module": "@jupyter-widgets/base",
            "top": null,
            "grid_column": null,
            "overflow_y": null,
            "overflow_x": null,
            "grid_auto_flow": null,
            "grid_area": null,
            "grid_template_columns": null,
            "flex": null,
            "_model_name": "LayoutModel",
            "justify_items": null,
            "grid_row": null,
            "max_height": null,
            "align_content": null,
            "visibility": null,
            "align_self": null,
            "height": null,
            "min_height": null,
            "padding": null,
            "grid_auto_rows": null,
            "grid_gap": null,
            "max_width": null,
            "order": null,
            "_view_module_version": "1.2.0",
            "grid_template_areas": null,
            "object_position": null,
            "object_fit": null,
            "grid_auto_columns": null,
            "margin": null,
            "display": null,
            "left": null
          }
        },
        "8be924136f5a45c6b6c5e4a76b51a7b4": {
          "model_module": "@jupyter-widgets/controls",
          "model_name": "HBoxModel",
          "model_module_version": "1.5.0",
          "state": {
            "_view_name": "HBoxView",
            "_dom_classes": [],
            "_model_name": "HBoxModel",
            "_view_module": "@jupyter-widgets/controls",
            "_model_module_version": "1.5.0",
            "_view_count": null,
            "_view_module_version": "1.5.0",
            "box_style": "",
            "layout": "IPY_MODEL_e8bb8e2d6a0c40f28e7859bf45739654",
            "_model_module": "@jupyter-widgets/controls",
            "children": [
              "IPY_MODEL_b63bd68e5ff646f4a82afd068d580b2b",
              "IPY_MODEL_2d1225da3f0c4b2892add325a782d530",
              "IPY_MODEL_2b8b22f5f61e4ecd865bdcf50349c339"
            ]
          }
        },
        "e8bb8e2d6a0c40f28e7859bf45739654": {
          "model_module": "@jupyter-widgets/base",
          "model_name": "LayoutModel",
          "model_module_version": "1.2.0",
          "state": {
            "_view_name": "LayoutView",
            "grid_template_rows": null,
            "right": null,
            "justify_content": null,
            "_view_module": "@jupyter-widgets/base",
            "overflow": null,
            "_model_module_version": "1.2.0",
            "_view_count": null,
            "flex_flow": null,
            "width": null,
            "min_width": null,
            "border": null,
            "align_items": null,
            "bottom": null,
            "_model_module": "@jupyter-widgets/base",
            "top": null,
            "grid_column": null,
            "overflow_y": null,
            "overflow_x": null,
            "grid_auto_flow": null,
            "grid_area": null,
            "grid_template_columns": null,
            "flex": null,
            "_model_name": "LayoutModel",
            "justify_items": null,
            "grid_row": null,
            "max_height": null,
            "align_content": null,
            "visibility": null,
            "align_self": null,
            "height": null,
            "min_height": null,
            "padding": null,
            "grid_auto_rows": null,
            "grid_gap": null,
            "max_width": null,
            "order": null,
            "_view_module_version": "1.2.0",
            "grid_template_areas": null,
            "object_position": null,
            "object_fit": null,
            "grid_auto_columns": null,
            "margin": null,
            "display": null,
            "left": null
          }
        },
        "b63bd68e5ff646f4a82afd068d580b2b": {
          "model_module": "@jupyter-widgets/controls",
          "model_name": "HTMLModel",
          "model_module_version": "1.5.0",
          "state": {
            "_view_name": "HTMLView",
            "style": "IPY_MODEL_b80dcc3883274475bd01508888d5972d",
            "_dom_classes": [],
            "description": "",
            "_model_name": "HTMLModel",
            "placeholder": "​",
            "_view_module": "@jupyter-widgets/controls",
            "_model_module_version": "1.5.0",
            "value": "Downloading: 100%",
            "_view_count": null,
            "_view_module_version": "1.5.0",
            "description_tooltip": null,
            "_model_module": "@jupyter-widgets/controls",
            "layout": "IPY_MODEL_c7b7aec967414ddf83a3832045ba981d"
          }
        },
        "2d1225da3f0c4b2892add325a782d530": {
          "model_module": "@jupyter-widgets/controls",
          "model_name": "FloatProgressModel",
          "model_module_version": "1.5.0",
          "state": {
            "_view_name": "ProgressView",
            "style": "IPY_MODEL_0054de0900624c2188941ad8e393e957",
            "_dom_classes": [],
            "description": "",
            "_model_name": "FloatProgressModel",
            "bar_style": "success",
            "max": 9096735,
            "_view_module": "@jupyter-widgets/controls",
            "_model_module_version": "1.5.0",
            "value": 9096735,
            "_view_count": null,
            "_view_module_version": "1.5.0",
            "orientation": "horizontal",
            "min": 0,
            "description_tooltip": null,
            "_model_module": "@jupyter-widgets/controls",
            "layout": "IPY_MODEL_cbca47d101644f80aa1b6f608b000d92"
          }
        },
        "2b8b22f5f61e4ecd865bdcf50349c339": {
          "model_module": "@jupyter-widgets/controls",
          "model_name": "HTMLModel",
          "model_module_version": "1.5.0",
          "state": {
            "_view_name": "HTMLView",
            "style": "IPY_MODEL_344133db5bb5494a95ff681c82b05c09",
            "_dom_classes": [],
            "description": "",
            "_model_name": "HTMLModel",
            "placeholder": "​",
            "_view_module": "@jupyter-widgets/controls",
            "_model_module_version": "1.5.0",
            "value": " 9.10M/9.10M [00:00&lt;00:00, 34.4MB/s]",
            "_view_count": null,
            "_view_module_version": "1.5.0",
            "description_tooltip": null,
            "_model_module": "@jupyter-widgets/controls",
            "layout": "IPY_MODEL_fdcac9c81731450b9261c08f201ac82a"
          }
        },
        "b80dcc3883274475bd01508888d5972d": {
          "model_module": "@jupyter-widgets/controls",
          "model_name": "DescriptionStyleModel",
          "model_module_version": "1.5.0",
          "state": {
            "_view_name": "StyleView",
            "_model_name": "DescriptionStyleModel",
            "description_width": "",
            "_view_module": "@jupyter-widgets/base",
            "_model_module_version": "1.5.0",
            "_view_count": null,
            "_view_module_version": "1.2.0",
            "_model_module": "@jupyter-widgets/controls"
          }
        },
        "c7b7aec967414ddf83a3832045ba981d": {
          "model_module": "@jupyter-widgets/base",
          "model_name": "LayoutModel",
          "model_module_version": "1.2.0",
          "state": {
            "_view_name": "LayoutView",
            "grid_template_rows": null,
            "right": null,
            "justify_content": null,
            "_view_module": "@jupyter-widgets/base",
            "overflow": null,
            "_model_module_version": "1.2.0",
            "_view_count": null,
            "flex_flow": null,
            "width": null,
            "min_width": null,
            "border": null,
            "align_items": null,
            "bottom": null,
            "_model_module": "@jupyter-widgets/base",
            "top": null,
            "grid_column": null,
            "overflow_y": null,
            "overflow_x": null,
            "grid_auto_flow": null,
            "grid_area": null,
            "grid_template_columns": null,
            "flex": null,
            "_model_name": "LayoutModel",
            "justify_items": null,
            "grid_row": null,
            "max_height": null,
            "align_content": null,
            "visibility": null,
            "align_self": null,
            "height": null,
            "min_height": null,
            "padding": null,
            "grid_auto_rows": null,
            "grid_gap": null,
            "max_width": null,
            "order": null,
            "_view_module_version": "1.2.0",
            "grid_template_areas": null,
            "object_position": null,
            "object_fit": null,
            "grid_auto_columns": null,
            "margin": null,
            "display": null,
            "left": null
          }
        },
        "0054de0900624c2188941ad8e393e957": {
          "model_module": "@jupyter-widgets/controls",
          "model_name": "ProgressStyleModel",
          "model_module_version": "1.5.0",
          "state": {
            "_view_name": "StyleView",
            "_model_name": "ProgressStyleModel",
            "description_width": "",
            "_view_module": "@jupyter-widgets/base",
            "_model_module_version": "1.5.0",
            "_view_count": null,
            "_view_module_version": "1.2.0",
            "bar_color": null,
            "_model_module": "@jupyter-widgets/controls"
          }
        },
        "cbca47d101644f80aa1b6f608b000d92": {
          "model_module": "@jupyter-widgets/base",
          "model_name": "LayoutModel",
          "model_module_version": "1.2.0",
          "state": {
            "_view_name": "LayoutView",
            "grid_template_rows": null,
            "right": null,
            "justify_content": null,
            "_view_module": "@jupyter-widgets/base",
            "overflow": null,
            "_model_module_version": "1.2.0",
            "_view_count": null,
            "flex_flow": null,
            "width": null,
            "min_width": null,
            "border": null,
            "align_items": null,
            "bottom": null,
            "_model_module": "@jupyter-widgets/base",
            "top": null,
            "grid_column": null,
            "overflow_y": null,
            "overflow_x": null,
            "grid_auto_flow": null,
            "grid_area": null,
            "grid_template_columns": null,
            "flex": null,
            "_model_name": "LayoutModel",
            "justify_items": null,
            "grid_row": null,
            "max_height": null,
            "align_content": null,
            "visibility": null,
            "align_self": null,
            "height": null,
            "min_height": null,
            "padding": null,
            "grid_auto_rows": null,
            "grid_gap": null,
            "max_width": null,
            "order": null,
            "_view_module_version": "1.2.0",
            "grid_template_areas": null,
            "object_position": null,
            "object_fit": null,
            "grid_auto_columns": null,
            "margin": null,
            "display": null,
            "left": null
          }
        },
        "344133db5bb5494a95ff681c82b05c09": {
          "model_module": "@jupyter-widgets/controls",
          "model_name": "DescriptionStyleModel",
          "model_module_version": "1.5.0",
          "state": {
            "_view_name": "StyleView",
            "_model_name": "DescriptionStyleModel",
            "description_width": "",
            "_view_module": "@jupyter-widgets/base",
            "_model_module_version": "1.5.0",
            "_view_count": null,
            "_view_module_version": "1.2.0",
            "_model_module": "@jupyter-widgets/controls"
          }
        },
        "fdcac9c81731450b9261c08f201ac82a": {
          "model_module": "@jupyter-widgets/base",
          "model_name": "LayoutModel",
          "model_module_version": "1.2.0",
          "state": {
            "_view_name": "LayoutView",
            "grid_template_rows": null,
            "right": null,
            "justify_content": null,
            "_view_module": "@jupyter-widgets/base",
            "overflow": null,
            "_model_module_version": "1.2.0",
            "_view_count": null,
            "flex_flow": null,
            "width": null,
            "min_width": null,
            "border": null,
            "align_items": null,
            "bottom": null,
            "_model_module": "@jupyter-widgets/base",
            "top": null,
            "grid_column": null,
            "overflow_y": null,
            "overflow_x": null,
            "grid_auto_flow": null,
            "grid_area": null,
            "grid_template_columns": null,
            "flex": null,
            "_model_name": "LayoutModel",
            "justify_items": null,
            "grid_row": null,
            "max_height": null,
            "align_content": null,
            "visibility": null,
            "align_self": null,
            "height": null,
            "min_height": null,
            "padding": null,
            "grid_auto_rows": null,
            "grid_gap": null,
            "max_width": null,
            "order": null,
            "_view_module_version": "1.2.0",
            "grid_template_areas": null,
            "object_position": null,
            "object_fit": null,
            "grid_auto_columns": null,
            "margin": null,
            "display": null,
            "left": null
          }
        },
        "62a6cdf95be44427ac79a6398b5d2747": {
          "model_module": "@jupyter-widgets/controls",
          "model_name": "HBoxModel",
          "model_module_version": "1.5.0",
          "state": {
            "_view_name": "HBoxView",
            "_dom_classes": [],
            "_model_name": "HBoxModel",
            "_view_module": "@jupyter-widgets/controls",
            "_model_module_version": "1.5.0",
            "_view_count": null,
            "_view_module_version": "1.5.0",
            "box_style": "",
            "layout": "IPY_MODEL_c6914fae0304410fa4d858d690a003a2",
            "_model_module": "@jupyter-widgets/controls",
            "children": [
              "IPY_MODEL_e7e6a21c4ecc4b388285c84a8a318fe6",
              "IPY_MODEL_db56f495ea7448d6bced51918655854e",
              "IPY_MODEL_ae63369f958242bbae9d7f70fd0cd0dc"
            ]
          }
        },
        "c6914fae0304410fa4d858d690a003a2": {
          "model_module": "@jupyter-widgets/base",
          "model_name": "LayoutModel",
          "model_module_version": "1.2.0",
          "state": {
            "_view_name": "LayoutView",
            "grid_template_rows": null,
            "right": null,
            "justify_content": null,
            "_view_module": "@jupyter-widgets/base",
            "overflow": null,
            "_model_module_version": "1.2.0",
            "_view_count": null,
            "flex_flow": null,
            "width": null,
            "min_width": null,
            "border": null,
            "align_items": null,
            "bottom": null,
            "_model_module": "@jupyter-widgets/base",
            "top": null,
            "grid_column": null,
            "overflow_y": null,
            "overflow_x": null,
            "grid_auto_flow": null,
            "grid_area": null,
            "grid_template_columns": null,
            "flex": null,
            "_model_name": "LayoutModel",
            "justify_items": null,
            "grid_row": null,
            "max_height": null,
            "align_content": null,
            "visibility": null,
            "align_self": null,
            "height": null,
            "min_height": null,
            "padding": null,
            "grid_auto_rows": null,
            "grid_gap": null,
            "max_width": null,
            "order": null,
            "_view_module_version": "1.2.0",
            "grid_template_areas": null,
            "object_position": null,
            "object_fit": null,
            "grid_auto_columns": null,
            "margin": null,
            "display": null,
            "left": null
          }
        },
        "e7e6a21c4ecc4b388285c84a8a318fe6": {
          "model_module": "@jupyter-widgets/controls",
          "model_name": "HTMLModel",
          "model_module_version": "1.5.0",
          "state": {
            "_view_name": "HTMLView",
            "style": "IPY_MODEL_1c037ce31042496592059eba98775a84",
            "_dom_classes": [],
            "description": "",
            "_model_name": "HTMLModel",
            "placeholder": "​",
            "_view_module": "@jupyter-widgets/controls",
            "_model_module_version": "1.5.0",
            "value": "Downloading: 100%",
            "_view_count": null,
            "_view_module_version": "1.5.0",
            "description_tooltip": null,
            "_model_module": "@jupyter-widgets/controls",
            "layout": "IPY_MODEL_c708089485704c26a77dca5c9ae4413a"
          }
        },
        "db56f495ea7448d6bced51918655854e": {
          "model_module": "@jupyter-widgets/controls",
          "model_name": "FloatProgressModel",
          "model_module_version": "1.5.0",
          "state": {
            "_view_name": "ProgressView",
            "style": "IPY_MODEL_0b0c2ea7341f49459abb91fc6ac1ebb0",
            "_dom_classes": [],
            "description": "",
            "_model_name": "FloatProgressModel",
            "bar_style": "success",
            "max": 527,
            "_view_module": "@jupyter-widgets/controls",
            "_model_module_version": "1.5.0",
            "value": 527,
            "_view_count": null,
            "_view_module_version": "1.5.0",
            "orientation": "horizontal",
            "min": 0,
            "description_tooltip": null,
            "_model_module": "@jupyter-widgets/controls",
            "layout": "IPY_MODEL_c12164fbe466451293dd10c6302cb28b"
          }
        },
        "ae63369f958242bbae9d7f70fd0cd0dc": {
          "model_module": "@jupyter-widgets/controls",
          "model_name": "HTMLModel",
          "model_module_version": "1.5.0",
          "state": {
            "_view_name": "HTMLView",
            "style": "IPY_MODEL_23b625d454ae40eeb349a0b8e2eea297",
            "_dom_classes": [],
            "description": "",
            "_model_name": "HTMLModel",
            "placeholder": "​",
            "_view_module": "@jupyter-widgets/controls",
            "_model_module_version": "1.5.0",
            "value": " 527/527 [00:00&lt;00:00, 19.4kB/s]",
            "_view_count": null,
            "_view_module_version": "1.5.0",
            "description_tooltip": null,
            "_model_module": "@jupyter-widgets/controls",
            "layout": "IPY_MODEL_b2e5409b30ae47159af0815a4550e551"
          }
        },
        "1c037ce31042496592059eba98775a84": {
          "model_module": "@jupyter-widgets/controls",
          "model_name": "DescriptionStyleModel",
          "model_module_version": "1.5.0",
          "state": {
            "_view_name": "StyleView",
            "_model_name": "DescriptionStyleModel",
            "description_width": "",
            "_view_module": "@jupyter-widgets/base",
            "_model_module_version": "1.5.0",
            "_view_count": null,
            "_view_module_version": "1.2.0",
            "_model_module": "@jupyter-widgets/controls"
          }
        },
        "c708089485704c26a77dca5c9ae4413a": {
          "model_module": "@jupyter-widgets/base",
          "model_name": "LayoutModel",
          "model_module_version": "1.2.0",
          "state": {
            "_view_name": "LayoutView",
            "grid_template_rows": null,
            "right": null,
            "justify_content": null,
            "_view_module": "@jupyter-widgets/base",
            "overflow": null,
            "_model_module_version": "1.2.0",
            "_view_count": null,
            "flex_flow": null,
            "width": null,
            "min_width": null,
            "border": null,
            "align_items": null,
            "bottom": null,
            "_model_module": "@jupyter-widgets/base",
            "top": null,
            "grid_column": null,
            "overflow_y": null,
            "overflow_x": null,
            "grid_auto_flow": null,
            "grid_area": null,
            "grid_template_columns": null,
            "flex": null,
            "_model_name": "LayoutModel",
            "justify_items": null,
            "grid_row": null,
            "max_height": null,
            "align_content": null,
            "visibility": null,
            "align_self": null,
            "height": null,
            "min_height": null,
            "padding": null,
            "grid_auto_rows": null,
            "grid_gap": null,
            "max_width": null,
            "order": null,
            "_view_module_version": "1.2.0",
            "grid_template_areas": null,
            "object_position": null,
            "object_fit": null,
            "grid_auto_columns": null,
            "margin": null,
            "display": null,
            "left": null
          }
        },
        "0b0c2ea7341f49459abb91fc6ac1ebb0": {
          "model_module": "@jupyter-widgets/controls",
          "model_name": "ProgressStyleModel",
          "model_module_version": "1.5.0",
          "state": {
            "_view_name": "StyleView",
            "_model_name": "ProgressStyleModel",
            "description_width": "",
            "_view_module": "@jupyter-widgets/base",
            "_model_module_version": "1.5.0",
            "_view_count": null,
            "_view_module_version": "1.2.0",
            "bar_color": null,
            "_model_module": "@jupyter-widgets/controls"
          }
        },
        "c12164fbe466451293dd10c6302cb28b": {
          "model_module": "@jupyter-widgets/base",
          "model_name": "LayoutModel",
          "model_module_version": "1.2.0",
          "state": {
            "_view_name": "LayoutView",
            "grid_template_rows": null,
            "right": null,
            "justify_content": null,
            "_view_module": "@jupyter-widgets/base",
            "overflow": null,
            "_model_module_version": "1.2.0",
            "_view_count": null,
            "flex_flow": null,
            "width": null,
            "min_width": null,
            "border": null,
            "align_items": null,
            "bottom": null,
            "_model_module": "@jupyter-widgets/base",
            "top": null,
            "grid_column": null,
            "overflow_y": null,
            "overflow_x": null,
            "grid_auto_flow": null,
            "grid_area": null,
            "grid_template_columns": null,
            "flex": null,
            "_model_name": "LayoutModel",
            "justify_items": null,
            "grid_row": null,
            "max_height": null,
            "align_content": null,
            "visibility": null,
            "align_self": null,
            "height": null,
            "min_height": null,
            "padding": null,
            "grid_auto_rows": null,
            "grid_gap": null,
            "max_width": null,
            "order": null,
            "_view_module_version": "1.2.0",
            "grid_template_areas": null,
            "object_position": null,
            "object_fit": null,
            "grid_auto_columns": null,
            "margin": null,
            "display": null,
            "left": null
          }
        },
        "23b625d454ae40eeb349a0b8e2eea297": {
          "model_module": "@jupyter-widgets/controls",
          "model_name": "DescriptionStyleModel",
          "model_module_version": "1.5.0",
          "state": {
            "_view_name": "StyleView",
            "_model_name": "DescriptionStyleModel",
            "description_width": "",
            "_view_module": "@jupyter-widgets/base",
            "_model_module_version": "1.5.0",
            "_view_count": null,
            "_view_module_version": "1.2.0",
            "_model_module": "@jupyter-widgets/controls"
          }
        },
        "b2e5409b30ae47159af0815a4550e551": {
          "model_module": "@jupyter-widgets/base",
          "model_name": "LayoutModel",
          "model_module_version": "1.2.0",
          "state": {
            "_view_name": "LayoutView",
            "grid_template_rows": null,
            "right": null,
            "justify_content": null,
            "_view_module": "@jupyter-widgets/base",
            "overflow": null,
            "_model_module_version": "1.2.0",
            "_view_count": null,
            "flex_flow": null,
            "width": null,
            "min_width": null,
            "border": null,
            "align_items": null,
            "bottom": null,
            "_model_module": "@jupyter-widgets/base",
            "top": null,
            "grid_column": null,
            "overflow_y": null,
            "overflow_x": null,
            "grid_auto_flow": null,
            "grid_area": null,
            "grid_template_columns": null,
            "flex": null,
            "_model_name": "LayoutModel",
            "justify_items": null,
            "grid_row": null,
            "max_height": null,
            "align_content": null,
            "visibility": null,
            "align_self": null,
            "height": null,
            "min_height": null,
            "padding": null,
            "grid_auto_rows": null,
            "grid_gap": null,
            "max_width": null,
            "order": null,
            "_view_module_version": "1.2.0",
            "grid_template_areas": null,
            "object_position": null,
            "object_fit": null,
            "grid_auto_columns": null,
            "margin": null,
            "display": null,
            "left": null
          }
        },
        "173399efaf974c0f834b4ab9b6643ea8": {
          "model_module": "@jupyter-widgets/controls",
          "model_name": "HBoxModel",
          "model_module_version": "1.5.0",
          "state": {
            "_view_name": "HBoxView",
            "_dom_classes": [],
            "_model_name": "HBoxModel",
            "_view_module": "@jupyter-widgets/controls",
            "_model_module_version": "1.5.0",
            "_view_count": null,
            "_view_module_version": "1.5.0",
            "box_style": "",
            "layout": "IPY_MODEL_2a91562c9481425d88ac5d07cfb01070",
            "_model_module": "@jupyter-widgets/controls",
            "children": [
              "IPY_MODEL_0a237af571594f36b06c1eef1d1a250f",
              "IPY_MODEL_9362b5c64cb44cf7a4ffd6ca75a05c95",
              "IPY_MODEL_33969ac5d72243b3a16fce6601b8240a"
            ]
          }
        },
        "2a91562c9481425d88ac5d07cfb01070": {
          "model_module": "@jupyter-widgets/base",
          "model_name": "LayoutModel",
          "model_module_version": "1.2.0",
          "state": {
            "_view_name": "LayoutView",
            "grid_template_rows": null,
            "right": null,
            "justify_content": null,
            "_view_module": "@jupyter-widgets/base",
            "overflow": null,
            "_model_module_version": "1.2.0",
            "_view_count": null,
            "flex_flow": null,
            "width": null,
            "min_width": null,
            "border": null,
            "align_items": null,
            "bottom": null,
            "_model_module": "@jupyter-widgets/base",
            "top": null,
            "grid_column": null,
            "overflow_y": null,
            "overflow_x": null,
            "grid_auto_flow": null,
            "grid_area": null,
            "grid_template_columns": null,
            "flex": null,
            "_model_name": "LayoutModel",
            "justify_items": null,
            "grid_row": null,
            "max_height": null,
            "align_content": null,
            "visibility": null,
            "align_self": null,
            "height": null,
            "min_height": null,
            "padding": null,
            "grid_auto_rows": null,
            "grid_gap": null,
            "max_width": null,
            "order": null,
            "_view_module_version": "1.2.0",
            "grid_template_areas": null,
            "object_position": null,
            "object_fit": null,
            "grid_auto_columns": null,
            "margin": null,
            "display": null,
            "left": null
          }
        },
        "0a237af571594f36b06c1eef1d1a250f": {
          "model_module": "@jupyter-widgets/controls",
          "model_name": "HTMLModel",
          "model_module_version": "1.5.0",
          "state": {
            "_view_name": "HTMLView",
            "style": "IPY_MODEL_5d9ac26e64ce4cabb7ea566dd543e396",
            "_dom_classes": [],
            "description": "",
            "_model_name": "HTMLModel",
            "placeholder": "​",
            "_view_module": "@jupyter-widgets/controls",
            "_model_module_version": "1.5.0",
            "value": "Downloading: 100%",
            "_view_count": null,
            "_view_module_version": "1.5.0",
            "description_tooltip": null,
            "_model_module": "@jupyter-widgets/controls",
            "layout": "IPY_MODEL_2f09ffb544a74952b7f5e36ad2ef44bc"
          }
        },
        "9362b5c64cb44cf7a4ffd6ca75a05c95": {
          "model_module": "@jupyter-widgets/controls",
          "model_name": "FloatProgressModel",
          "model_module_version": "1.5.0",
          "state": {
            "_view_name": "ProgressView",
            "style": "IPY_MODEL_1c4fefdcd6ea4ab1a39fe7d49012ba21",
            "_dom_classes": [],
            "description": "",
            "_model_name": "FloatProgressModel",
            "bar_style": "success",
            "max": 190,
            "_view_module": "@jupyter-widgets/controls",
            "_model_module_version": "1.5.0",
            "value": 190,
            "_view_count": null,
            "_view_module_version": "1.5.0",
            "orientation": "horizontal",
            "min": 0,
            "description_tooltip": null,
            "_model_module": "@jupyter-widgets/controls",
            "layout": "IPY_MODEL_e70d24cd6b574bbc9693203d37b25015"
          }
        },
        "33969ac5d72243b3a16fce6601b8240a": {
          "model_module": "@jupyter-widgets/controls",
          "model_name": "HTMLModel",
          "model_module_version": "1.5.0",
          "state": {
            "_view_name": "HTMLView",
            "style": "IPY_MODEL_9a3fec2fe0f440c7a4210ab9e5f50be2",
            "_dom_classes": [],
            "description": "",
            "_model_name": "HTMLModel",
            "placeholder": "​",
            "_view_module": "@jupyter-widgets/controls",
            "_model_module_version": "1.5.0",
            "value": " 190/190 [00:00&lt;00:00, 8.27kB/s]",
            "_view_count": null,
            "_view_module_version": "1.5.0",
            "description_tooltip": null,
            "_model_module": "@jupyter-widgets/controls",
            "layout": "IPY_MODEL_88109992e8074f748e550e1d88fdc715"
          }
        },
        "5d9ac26e64ce4cabb7ea566dd543e396": {
          "model_module": "@jupyter-widgets/controls",
          "model_name": "DescriptionStyleModel",
          "model_module_version": "1.5.0",
          "state": {
            "_view_name": "StyleView",
            "_model_name": "DescriptionStyleModel",
            "description_width": "",
            "_view_module": "@jupyter-widgets/base",
            "_model_module_version": "1.5.0",
            "_view_count": null,
            "_view_module_version": "1.2.0",
            "_model_module": "@jupyter-widgets/controls"
          }
        },
        "2f09ffb544a74952b7f5e36ad2ef44bc": {
          "model_module": "@jupyter-widgets/base",
          "model_name": "LayoutModel",
          "model_module_version": "1.2.0",
          "state": {
            "_view_name": "LayoutView",
            "grid_template_rows": null,
            "right": null,
            "justify_content": null,
            "_view_module": "@jupyter-widgets/base",
            "overflow": null,
            "_model_module_version": "1.2.0",
            "_view_count": null,
            "flex_flow": null,
            "width": null,
            "min_width": null,
            "border": null,
            "align_items": null,
            "bottom": null,
            "_model_module": "@jupyter-widgets/base",
            "top": null,
            "grid_column": null,
            "overflow_y": null,
            "overflow_x": null,
            "grid_auto_flow": null,
            "grid_area": null,
            "grid_template_columns": null,
            "flex": null,
            "_model_name": "LayoutModel",
            "justify_items": null,
            "grid_row": null,
            "max_height": null,
            "align_content": null,
            "visibility": null,
            "align_self": null,
            "height": null,
            "min_height": null,
            "padding": null,
            "grid_auto_rows": null,
            "grid_gap": null,
            "max_width": null,
            "order": null,
            "_view_module_version": "1.2.0",
            "grid_template_areas": null,
            "object_position": null,
            "object_fit": null,
            "grid_auto_columns": null,
            "margin": null,
            "display": null,
            "left": null
          }
        },
        "1c4fefdcd6ea4ab1a39fe7d49012ba21": {
          "model_module": "@jupyter-widgets/controls",
          "model_name": "ProgressStyleModel",
          "model_module_version": "1.5.0",
          "state": {
            "_view_name": "StyleView",
            "_model_name": "ProgressStyleModel",
            "description_width": "",
            "_view_module": "@jupyter-widgets/base",
            "_model_module_version": "1.5.0",
            "_view_count": null,
            "_view_module_version": "1.2.0",
            "bar_color": null,
            "_model_module": "@jupyter-widgets/controls"
          }
        },
        "e70d24cd6b574bbc9693203d37b25015": {
          "model_module": "@jupyter-widgets/base",
          "model_name": "LayoutModel",
          "model_module_version": "1.2.0",
          "state": {
            "_view_name": "LayoutView",
            "grid_template_rows": null,
            "right": null,
            "justify_content": null,
            "_view_module": "@jupyter-widgets/base",
            "overflow": null,
            "_model_module_version": "1.2.0",
            "_view_count": null,
            "flex_flow": null,
            "width": null,
            "min_width": null,
            "border": null,
            "align_items": null,
            "bottom": null,
            "_model_module": "@jupyter-widgets/base",
            "top": null,
            "grid_column": null,
            "overflow_y": null,
            "overflow_x": null,
            "grid_auto_flow": null,
            "grid_area": null,
            "grid_template_columns": null,
            "flex": null,
            "_model_name": "LayoutModel",
            "justify_items": null,
            "grid_row": null,
            "max_height": null,
            "align_content": null,
            "visibility": null,
            "align_self": null,
            "height": null,
            "min_height": null,
            "padding": null,
            "grid_auto_rows": null,
            "grid_gap": null,
            "max_width": null,
            "order": null,
            "_view_module_version": "1.2.0",
            "grid_template_areas": null,
            "object_position": null,
            "object_fit": null,
            "grid_auto_columns": null,
            "margin": null,
            "display": null,
            "left": null
          }
        },
        "9a3fec2fe0f440c7a4210ab9e5f50be2": {
          "model_module": "@jupyter-widgets/controls",
          "model_name": "DescriptionStyleModel",
          "model_module_version": "1.5.0",
          "state": {
            "_view_name": "StyleView",
            "_model_name": "DescriptionStyleModel",
            "description_width": "",
            "_view_module": "@jupyter-widgets/base",
            "_model_module_version": "1.5.0",
            "_view_count": null,
            "_view_module_version": "1.2.0",
            "_model_module": "@jupyter-widgets/controls"
          }
        },
        "88109992e8074f748e550e1d88fdc715": {
          "model_module": "@jupyter-widgets/base",
          "model_name": "LayoutModel",
          "model_module_version": "1.2.0",
          "state": {
            "_view_name": "LayoutView",
            "grid_template_rows": null,
            "right": null,
            "justify_content": null,
            "_view_module": "@jupyter-widgets/base",
            "overflow": null,
            "_model_module_version": "1.2.0",
            "_view_count": null,
            "flex_flow": null,
            "width": null,
            "min_width": null,
            "border": null,
            "align_items": null,
            "bottom": null,
            "_model_module": "@jupyter-widgets/base",
            "top": null,
            "grid_column": null,
            "overflow_y": null,
            "overflow_x": null,
            "grid_auto_flow": null,
            "grid_area": null,
            "grid_template_columns": null,
            "flex": null,
            "_model_name": "LayoutModel",
            "justify_items": null,
            "grid_row": null,
            "max_height": null,
            "align_content": null,
            "visibility": null,
            "align_self": null,
            "height": null,
            "min_height": null,
            "padding": null,
            "grid_auto_rows": null,
            "grid_gap": null,
            "max_width": null,
            "order": null,
            "_view_module_version": "1.2.0",
            "grid_template_areas": null,
            "object_position": null,
            "object_fit": null,
            "grid_auto_columns": null,
            "margin": null,
            "display": null,
            "left": null
          }
        }
      }
    }
  },
  "cells": [
    {
      "cell_type": "markdown",
      "metadata": {
        "id": "view-in-github",
        "colab_type": "text"
      },
      "source": [
        "<a href=\"https://colab.research.google.com/github/poandpo/final_project/blob/main/AI_06_%EC%9E%84%EC%B1%84%EC%9D%80.ipynb\" target=\"_parent\"><img src=\"https://colab.research.google.com/assets/colab-badge.svg\" alt=\"Open In Colab\"/></a>"
      ]
    },
    {
      "cell_type": "markdown",
      "source": [
        "# 필요한 모듈"
      ],
      "metadata": {
        "id": "kqQdhWa8marq"
      }
    },
    {
      "cell_type": "code",
      "source": [
        "!pip install sentence_transformers\n",
        "!pip install mxnet\n",
        "!pip install transformers==3 \n",
        "!pip install gluonnlp pandas tqdm\n",
        "!pip install sentencepiece\n",
        "!pip install torch\n",
        "!pip install git+https://git@github.com/SKTBrain/KoBERT.git@master"
      ],
      "metadata": {
        "colab": {
          "base_uri": "https://localhost:8080/"
        },
        "id": "zjOq54f6fBcM",
        "outputId": "16f657ec-6821-4230-e9ee-f8c473dfc74b"
      },
      "execution_count": null,
      "outputs": [
        {
          "output_type": "stream",
          "name": "stdout",
          "text": [
            "Collecting sentence_transformers\n",
            "  Downloading sentence-transformers-2.1.0.tar.gz (78 kB)\n",
            "\u001b[K     |████████████████████████████████| 78 kB 4.6 MB/s \n",
            "\u001b[?25hCollecting transformers<5.0.0,>=4.6.0\n",
            "  Downloading transformers-4.15.0-py3-none-any.whl (3.4 MB)\n",
            "\u001b[K     |████████████████████████████████| 3.4 MB 18.7 MB/s \n",
            "\u001b[?25hCollecting tokenizers>=0.10.3\n",
            "  Downloading tokenizers-0.11.4-cp37-cp37m-manylinux_2_12_x86_64.manylinux2010_x86_64.whl (6.8 MB)\n",
            "\u001b[K     |████████████████████████████████| 6.8 MB 36.9 MB/s \n",
            "\u001b[?25hRequirement already satisfied: tqdm in /usr/local/lib/python3.7/dist-packages (from sentence_transformers) (4.62.3)\n",
            "Requirement already satisfied: torch>=1.6.0 in /usr/local/lib/python3.7/dist-packages (from sentence_transformers) (1.10.0+cu111)\n",
            "Requirement already satisfied: torchvision in /usr/local/lib/python3.7/dist-packages (from sentence_transformers) (0.11.1+cu111)\n",
            "Requirement already satisfied: numpy in /usr/local/lib/python3.7/dist-packages (from sentence_transformers) (1.19.5)\n",
            "Requirement already satisfied: scikit-learn in /usr/local/lib/python3.7/dist-packages (from sentence_transformers) (1.0.2)\n",
            "Requirement already satisfied: scipy in /usr/local/lib/python3.7/dist-packages (from sentence_transformers) (1.4.1)\n",
            "Requirement already satisfied: nltk in /usr/local/lib/python3.7/dist-packages (from sentence_transformers) (3.2.5)\n",
            "Collecting sentencepiece\n",
            "  Downloading sentencepiece-0.1.96-cp37-cp37m-manylinux_2_17_x86_64.manylinux2014_x86_64.whl (1.2 MB)\n",
            "\u001b[K     |████████████████████████████████| 1.2 MB 51.0 MB/s \n",
            "\u001b[?25hCollecting huggingface-hub\n",
            "  Downloading huggingface_hub-0.4.0-py3-none-any.whl (67 kB)\n",
            "\u001b[K     |████████████████████████████████| 67 kB 5.7 MB/s \n",
            "\u001b[?25hRequirement already satisfied: typing-extensions in /usr/local/lib/python3.7/dist-packages (from torch>=1.6.0->sentence_transformers) (3.10.0.2)\n",
            "Collecting sacremoses\n",
            "  Downloading sacremoses-0.0.47-py2.py3-none-any.whl (895 kB)\n",
            "\u001b[K     |████████████████████████████████| 895 kB 57.5 MB/s \n",
            "\u001b[?25hCollecting tokenizers>=0.10.3\n",
            "  Downloading tokenizers-0.10.3-cp37-cp37m-manylinux_2_5_x86_64.manylinux1_x86_64.manylinux_2_12_x86_64.manylinux2010_x86_64.whl (3.3 MB)\n",
            "\u001b[K     |████████████████████████████████| 3.3 MB 60.4 MB/s \n",
            "\u001b[?25hCollecting pyyaml>=5.1\n",
            "  Downloading PyYAML-6.0-cp37-cp37m-manylinux_2_5_x86_64.manylinux1_x86_64.manylinux_2_12_x86_64.manylinux2010_x86_64.whl (596 kB)\n",
            "\u001b[K     |████████████████████████████████| 596 kB 53.8 MB/s \n",
            "\u001b[?25hRequirement already satisfied: requests in /usr/local/lib/python3.7/dist-packages (from transformers<5.0.0,>=4.6.0->sentence_transformers) (2.23.0)\n",
            "Requirement already satisfied: importlib-metadata in /usr/local/lib/python3.7/dist-packages (from transformers<5.0.0,>=4.6.0->sentence_transformers) (4.10.0)\n",
            "Requirement already satisfied: regex!=2019.12.17 in /usr/local/lib/python3.7/dist-packages (from transformers<5.0.0,>=4.6.0->sentence_transformers) (2019.12.20)\n",
            "Requirement already satisfied: packaging>=20.0 in /usr/local/lib/python3.7/dist-packages (from transformers<5.0.0,>=4.6.0->sentence_transformers) (21.3)\n",
            "Requirement already satisfied: filelock in /usr/local/lib/python3.7/dist-packages (from transformers<5.0.0,>=4.6.0->sentence_transformers) (3.4.2)\n",
            "Requirement already satisfied: pyparsing!=3.0.5,>=2.0.2 in /usr/local/lib/python3.7/dist-packages (from packaging>=20.0->transformers<5.0.0,>=4.6.0->sentence_transformers) (3.0.6)\n",
            "Requirement already satisfied: zipp>=0.5 in /usr/local/lib/python3.7/dist-packages (from importlib-metadata->transformers<5.0.0,>=4.6.0->sentence_transformers) (3.7.0)\n",
            "Requirement already satisfied: six in /usr/local/lib/python3.7/dist-packages (from nltk->sentence_transformers) (1.15.0)\n",
            "Requirement already satisfied: certifi>=2017.4.17 in /usr/local/lib/python3.7/dist-packages (from requests->transformers<5.0.0,>=4.6.0->sentence_transformers) (2021.10.8)\n",
            "Requirement already satisfied: idna<3,>=2.5 in /usr/local/lib/python3.7/dist-packages (from requests->transformers<5.0.0,>=4.6.0->sentence_transformers) (2.10)\n",
            "Requirement already satisfied: chardet<4,>=3.0.2 in /usr/local/lib/python3.7/dist-packages (from requests->transformers<5.0.0,>=4.6.0->sentence_transformers) (3.0.4)\n",
            "Requirement already satisfied: urllib3!=1.25.0,!=1.25.1,<1.26,>=1.21.1 in /usr/local/lib/python3.7/dist-packages (from requests->transformers<5.0.0,>=4.6.0->sentence_transformers) (1.24.3)\n",
            "Requirement already satisfied: click in /usr/local/lib/python3.7/dist-packages (from sacremoses->transformers<5.0.0,>=4.6.0->sentence_transformers) (7.1.2)\n",
            "Requirement already satisfied: joblib in /usr/local/lib/python3.7/dist-packages (from sacremoses->transformers<5.0.0,>=4.6.0->sentence_transformers) (1.1.0)\n",
            "Requirement already satisfied: threadpoolctl>=2.0.0 in /usr/local/lib/python3.7/dist-packages (from scikit-learn->sentence_transformers) (3.0.0)\n",
            "Requirement already satisfied: pillow!=8.3.0,>=5.3.0 in /usr/local/lib/python3.7/dist-packages (from torchvision->sentence_transformers) (7.1.2)\n",
            "Building wheels for collected packages: sentence-transformers\n",
            "  Building wheel for sentence-transformers (setup.py) ... \u001b[?25l\u001b[?25hdone\n",
            "  Created wheel for sentence-transformers: filename=sentence_transformers-2.1.0-py3-none-any.whl size=120999 sha256=2c7d8d0e830f65a6ad9f6bfc81f33103e10b8173995f8fdce201742eb667607e\n",
            "  Stored in directory: /root/.cache/pip/wheels/90/f0/bb/ed1add84da70092ea526466eadc2bfb197c4bcb8d4fa5f7bad\n",
            "Successfully built sentence-transformers\n",
            "Installing collected packages: pyyaml, tokenizers, sacremoses, huggingface-hub, transformers, sentencepiece, sentence-transformers\n",
            "  Attempting uninstall: pyyaml\n",
            "    Found existing installation: PyYAML 3.13\n",
            "    Uninstalling PyYAML-3.13:\n",
            "      Successfully uninstalled PyYAML-3.13\n",
            "Successfully installed huggingface-hub-0.4.0 pyyaml-6.0 sacremoses-0.0.47 sentence-transformers-2.1.0 sentencepiece-0.1.96 tokenizers-0.10.3 transformers-4.15.0\n",
            "Collecting mxnet\n",
            "  Downloading mxnet-1.9.0-py3-none-manylinux2014_x86_64.whl (47.3 MB)\n",
            "\u001b[K     |████████████████████████████████| 47.3 MB 63.7 MB/s \n",
            "\u001b[?25hRequirement already satisfied: numpy<2.0.0,>1.16.0 in /usr/local/lib/python3.7/dist-packages (from mxnet) (1.19.5)\n",
            "Requirement already satisfied: requests<3,>=2.20.0 in /usr/local/lib/python3.7/dist-packages (from mxnet) (2.23.0)\n",
            "Collecting graphviz<0.9.0,>=0.8.1\n",
            "  Downloading graphviz-0.8.4-py2.py3-none-any.whl (16 kB)\n",
            "Requirement already satisfied: idna<3,>=2.5 in /usr/local/lib/python3.7/dist-packages (from requests<3,>=2.20.0->mxnet) (2.10)\n",
            "Requirement already satisfied: chardet<4,>=3.0.2 in /usr/local/lib/python3.7/dist-packages (from requests<3,>=2.20.0->mxnet) (3.0.4)\n",
            "Requirement already satisfied: urllib3!=1.25.0,!=1.25.1,<1.26,>=1.21.1 in /usr/local/lib/python3.7/dist-packages (from requests<3,>=2.20.0->mxnet) (1.24.3)\n",
            "Requirement already satisfied: certifi>=2017.4.17 in /usr/local/lib/python3.7/dist-packages (from requests<3,>=2.20.0->mxnet) (2021.10.8)\n",
            "Installing collected packages: graphviz, mxnet\n",
            "  Attempting uninstall: graphviz\n",
            "    Found existing installation: graphviz 0.10.1\n",
            "    Uninstalling graphviz-0.10.1:\n",
            "      Successfully uninstalled graphviz-0.10.1\n",
            "Successfully installed graphviz-0.8.4 mxnet-1.9.0\n",
            "Collecting transformers==3\n",
            "  Downloading transformers-3.0.0-py3-none-any.whl (754 kB)\n",
            "\u001b[K     |████████████████████████████████| 754 kB 7.9 MB/s \n",
            "\u001b[?25hCollecting tokenizers==0.8.0-rc4\n",
            "  Downloading tokenizers-0.8.0rc4-cp37-cp37m-manylinux1_x86_64.whl (3.0 MB)\n",
            "\u001b[K     |████████████████████████████████| 3.0 MB 59.8 MB/s \n",
            "\u001b[?25hRequirement already satisfied: packaging in /usr/local/lib/python3.7/dist-packages (from transformers==3) (21.3)\n",
            "Requirement already satisfied: numpy in /usr/local/lib/python3.7/dist-packages (from transformers==3) (1.19.5)\n",
            "Requirement already satisfied: sacremoses in /usr/local/lib/python3.7/dist-packages (from transformers==3) (0.0.47)\n",
            "Requirement already satisfied: filelock in /usr/local/lib/python3.7/dist-packages (from transformers==3) (3.4.2)\n",
            "Requirement already satisfied: sentencepiece in /usr/local/lib/python3.7/dist-packages (from transformers==3) (0.1.96)\n",
            "Requirement already satisfied: regex!=2019.12.17 in /usr/local/lib/python3.7/dist-packages (from transformers==3) (2019.12.20)\n",
            "Requirement already satisfied: tqdm>=4.27 in /usr/local/lib/python3.7/dist-packages (from transformers==3) (4.62.3)\n",
            "Requirement already satisfied: requests in /usr/local/lib/python3.7/dist-packages (from transformers==3) (2.23.0)\n",
            "Requirement already satisfied: pyparsing!=3.0.5,>=2.0.2 in /usr/local/lib/python3.7/dist-packages (from packaging->transformers==3) (3.0.6)\n",
            "Requirement already satisfied: urllib3!=1.25.0,!=1.25.1,<1.26,>=1.21.1 in /usr/local/lib/python3.7/dist-packages (from requests->transformers==3) (1.24.3)\n",
            "Requirement already satisfied: chardet<4,>=3.0.2 in /usr/local/lib/python3.7/dist-packages (from requests->transformers==3) (3.0.4)\n",
            "Requirement already satisfied: idna<3,>=2.5 in /usr/local/lib/python3.7/dist-packages (from requests->transformers==3) (2.10)\n",
            "Requirement already satisfied: certifi>=2017.4.17 in /usr/local/lib/python3.7/dist-packages (from requests->transformers==3) (2021.10.8)\n",
            "Requirement already satisfied: joblib in /usr/local/lib/python3.7/dist-packages (from sacremoses->transformers==3) (1.1.0)\n",
            "Requirement already satisfied: six in /usr/local/lib/python3.7/dist-packages (from sacremoses->transformers==3) (1.15.0)\n",
            "Requirement already satisfied: click in /usr/local/lib/python3.7/dist-packages (from sacremoses->transformers==3) (7.1.2)\n",
            "Installing collected packages: tokenizers, transformers\n",
            "  Attempting uninstall: tokenizers\n",
            "    Found existing installation: tokenizers 0.10.3\n",
            "    Uninstalling tokenizers-0.10.3:\n",
            "      Successfully uninstalled tokenizers-0.10.3\n",
            "  Attempting uninstall: transformers\n",
            "    Found existing installation: transformers 4.15.0\n",
            "    Uninstalling transformers-4.15.0:\n",
            "      Successfully uninstalled transformers-4.15.0\n",
            "\u001b[31mERROR: pip's dependency resolver does not currently take into account all the packages that are installed. This behaviour is the source of the following dependency conflicts.\n",
            "sentence-transformers 2.1.0 requires tokenizers>=0.10.3, but you have tokenizers 0.8.0rc4 which is incompatible.\n",
            "sentence-transformers 2.1.0 requires transformers<5.0.0,>=4.6.0, but you have transformers 3.0.0 which is incompatible.\u001b[0m\n",
            "Successfully installed tokenizers-0.8.0rc4 transformers-3.0.0\n",
            "Collecting gluonnlp\n",
            "  Downloading gluonnlp-0.10.0.tar.gz (344 kB)\n",
            "\u001b[K     |████████████████████████████████| 344 kB 9.7 MB/s \n",
            "\u001b[?25hRequirement already satisfied: pandas in /usr/local/lib/python3.7/dist-packages (1.1.5)\n",
            "Requirement already satisfied: tqdm in /usr/local/lib/python3.7/dist-packages (4.62.3)\n",
            "Requirement already satisfied: numpy>=1.16.0 in /usr/local/lib/python3.7/dist-packages (from gluonnlp) (1.19.5)\n",
            "Requirement already satisfied: cython in /usr/local/lib/python3.7/dist-packages (from gluonnlp) (0.29.26)\n",
            "Requirement already satisfied: packaging in /usr/local/lib/python3.7/dist-packages (from gluonnlp) (21.3)\n",
            "Requirement already satisfied: python-dateutil>=2.7.3 in /usr/local/lib/python3.7/dist-packages (from pandas) (2.8.2)\n",
            "Requirement already satisfied: pytz>=2017.2 in /usr/local/lib/python3.7/dist-packages (from pandas) (2018.9)\n",
            "Requirement already satisfied: six>=1.5 in /usr/local/lib/python3.7/dist-packages (from python-dateutil>=2.7.3->pandas) (1.15.0)\n",
            "Requirement already satisfied: pyparsing!=3.0.5,>=2.0.2 in /usr/local/lib/python3.7/dist-packages (from packaging->gluonnlp) (3.0.6)\n",
            "Building wheels for collected packages: gluonnlp\n",
            "  Building wheel for gluonnlp (setup.py) ... \u001b[?25l\u001b[?25hdone\n",
            "  Created wheel for gluonnlp: filename=gluonnlp-0.10.0-cp37-cp37m-linux_x86_64.whl size=595747 sha256=a0fc791899ce49669120b42e411d74068f0cbe8148ed3bfb073f38a302b33169\n",
            "  Stored in directory: /root/.cache/pip/wheels/be/b4/06/7f3fdfaf707e6b5e98b79c041e023acffbe395d78a527eae00\n",
            "Successfully built gluonnlp\n",
            "Installing collected packages: gluonnlp\n",
            "Successfully installed gluonnlp-0.10.0\n",
            "Requirement already satisfied: sentencepiece in /usr/local/lib/python3.7/dist-packages (0.1.96)\n",
            "Requirement already satisfied: torch in /usr/local/lib/python3.7/dist-packages (1.10.0+cu111)\n",
            "Requirement already satisfied: typing-extensions in /usr/local/lib/python3.7/dist-packages (from torch) (3.10.0.2)\n",
            "Collecting git+https://****@github.com/SKTBrain/KoBERT.git@master\n",
            "  Cloning https://****@github.com/SKTBrain/KoBERT.git (to revision master) to /tmp/pip-req-build-lbgayz2a\n",
            "  Running command git clone -q 'https://****@github.com/SKTBrain/KoBERT.git' /tmp/pip-req-build-lbgayz2a\n",
            "Collecting boto3\n",
            "  Downloading boto3-1.20.37-py3-none-any.whl (131 kB)\n",
            "\u001b[K     |████████████████████████████████| 131 kB 8.1 MB/s \n",
            "\u001b[?25hRequirement already satisfied: gluonnlp>=0.6.0 in /usr/local/lib/python3.7/dist-packages (from kobert==0.2.3) (0.10.0)\n",
            "Requirement already satisfied: mxnet>=1.4.0 in /usr/local/lib/python3.7/dist-packages (from kobert==0.2.3) (1.9.0)\n",
            "Collecting onnxruntime==1.8.0\n",
            "  Downloading onnxruntime-1.8.0-cp37-cp37m-manylinux_2_17_x86_64.manylinux2014_x86_64.whl (4.5 MB)\n",
            "\u001b[K     |████████████████████████████████| 4.5 MB 60.8 MB/s \n",
            "\u001b[?25hRequirement already satisfied: sentencepiece>=0.1.6 in /usr/local/lib/python3.7/dist-packages (from kobert==0.2.3) (0.1.96)\n",
            "Requirement already satisfied: torch>=1.7.0 in /usr/local/lib/python3.7/dist-packages (from kobert==0.2.3) (1.10.0+cu111)\n",
            "Collecting transformers>=4.8.1\n",
            "  Using cached transformers-4.15.0-py3-none-any.whl (3.4 MB)\n",
            "Requirement already satisfied: flatbuffers in /usr/local/lib/python3.7/dist-packages (from onnxruntime==1.8.0->kobert==0.2.3) (2.0)\n",
            "Requirement already satisfied: numpy>=1.16.6 in /usr/local/lib/python3.7/dist-packages (from onnxruntime==1.8.0->kobert==0.2.3) (1.19.5)\n",
            "Requirement already satisfied: protobuf in /usr/local/lib/python3.7/dist-packages (from onnxruntime==1.8.0->kobert==0.2.3) (3.17.3)\n",
            "Requirement already satisfied: cython in /usr/local/lib/python3.7/dist-packages (from gluonnlp>=0.6.0->kobert==0.2.3) (0.29.26)\n",
            "Requirement already satisfied: packaging in /usr/local/lib/python3.7/dist-packages (from gluonnlp>=0.6.0->kobert==0.2.3) (21.3)\n",
            "Requirement already satisfied: graphviz<0.9.0,>=0.8.1 in /usr/local/lib/python3.7/dist-packages (from mxnet>=1.4.0->kobert==0.2.3) (0.8.4)\n",
            "Requirement already satisfied: requests<3,>=2.20.0 in /usr/local/lib/python3.7/dist-packages (from mxnet>=1.4.0->kobert==0.2.3) (2.23.0)\n",
            "Requirement already satisfied: certifi>=2017.4.17 in /usr/local/lib/python3.7/dist-packages (from requests<3,>=2.20.0->mxnet>=1.4.0->kobert==0.2.3) (2021.10.8)\n",
            "Requirement already satisfied: urllib3!=1.25.0,!=1.25.1,<1.26,>=1.21.1 in /usr/local/lib/python3.7/dist-packages (from requests<3,>=2.20.0->mxnet>=1.4.0->kobert==0.2.3) (1.24.3)\n",
            "Requirement already satisfied: chardet<4,>=3.0.2 in /usr/local/lib/python3.7/dist-packages (from requests<3,>=2.20.0->mxnet>=1.4.0->kobert==0.2.3) (3.0.4)\n",
            "Requirement already satisfied: idna<3,>=2.5 in /usr/local/lib/python3.7/dist-packages (from requests<3,>=2.20.0->mxnet>=1.4.0->kobert==0.2.3) (2.10)\n",
            "Requirement already satisfied: typing-extensions in /usr/local/lib/python3.7/dist-packages (from torch>=1.7.0->kobert==0.2.3) (3.10.0.2)\n",
            "Collecting tokenizers<0.11,>=0.10.1\n",
            "  Using cached tokenizers-0.10.3-cp37-cp37m-manylinux_2_5_x86_64.manylinux1_x86_64.manylinux_2_12_x86_64.manylinux2010_x86_64.whl (3.3 MB)\n",
            "Requirement already satisfied: sacremoses in /usr/local/lib/python3.7/dist-packages (from transformers>=4.8.1->kobert==0.2.3) (0.0.47)\n",
            "Requirement already satisfied: pyyaml>=5.1 in /usr/local/lib/python3.7/dist-packages (from transformers>=4.8.1->kobert==0.2.3) (6.0)\n",
            "Requirement already satisfied: regex!=2019.12.17 in /usr/local/lib/python3.7/dist-packages (from transformers>=4.8.1->kobert==0.2.3) (2019.12.20)\n",
            "Requirement already satisfied: tqdm>=4.27 in /usr/local/lib/python3.7/dist-packages (from transformers>=4.8.1->kobert==0.2.3) (4.62.3)\n",
            "Requirement already satisfied: huggingface-hub<1.0,>=0.1.0 in /usr/local/lib/python3.7/dist-packages (from transformers>=4.8.1->kobert==0.2.3) (0.4.0)\n",
            "Requirement already satisfied: filelock in /usr/local/lib/python3.7/dist-packages (from transformers>=4.8.1->kobert==0.2.3) (3.4.2)\n",
            "Requirement already satisfied: importlib-metadata in /usr/local/lib/python3.7/dist-packages (from transformers>=4.8.1->kobert==0.2.3) (4.10.0)\n",
            "Requirement already satisfied: pyparsing!=3.0.5,>=2.0.2 in /usr/local/lib/python3.7/dist-packages (from packaging->gluonnlp>=0.6.0->kobert==0.2.3) (3.0.6)\n",
            "Collecting jmespath<1.0.0,>=0.7.1\n",
            "  Downloading jmespath-0.10.0-py2.py3-none-any.whl (24 kB)\n",
            "Collecting botocore<1.24.0,>=1.23.37\n",
            "  Downloading botocore-1.23.37-py3-none-any.whl (8.5 MB)\n",
            "\u001b[K     |████████████████████████████████| 8.5 MB 61.1 MB/s \n",
            "\u001b[?25hCollecting s3transfer<0.6.0,>=0.5.0\n",
            "  Downloading s3transfer-0.5.0-py3-none-any.whl (79 kB)\n",
            "\u001b[K     |████████████████████████████████| 79 kB 7.8 MB/s \n",
            "\u001b[?25hRequirement already satisfied: python-dateutil<3.0.0,>=2.1 in /usr/local/lib/python3.7/dist-packages (from botocore<1.24.0,>=1.23.37->boto3->kobert==0.2.3) (2.8.2)\n",
            "Collecting urllib3!=1.25.0,!=1.25.1,<1.26,>=1.21.1\n",
            "  Downloading urllib3-1.25.11-py2.py3-none-any.whl (127 kB)\n",
            "\u001b[K     |████████████████████████████████| 127 kB 60.7 MB/s \n",
            "\u001b[?25hRequirement already satisfied: six>=1.5 in /usr/local/lib/python3.7/dist-packages (from python-dateutil<3.0.0,>=2.1->botocore<1.24.0,>=1.23.37->boto3->kobert==0.2.3) (1.15.0)\n",
            "Requirement already satisfied: zipp>=0.5 in /usr/local/lib/python3.7/dist-packages (from importlib-metadata->transformers>=4.8.1->kobert==0.2.3) (3.7.0)\n",
            "Requirement already satisfied: joblib in /usr/local/lib/python3.7/dist-packages (from sacremoses->transformers>=4.8.1->kobert==0.2.3) (1.1.0)\n",
            "Requirement already satisfied: click in /usr/local/lib/python3.7/dist-packages (from sacremoses->transformers>=4.8.1->kobert==0.2.3) (7.1.2)\n",
            "Building wheels for collected packages: kobert\n",
            "  Building wheel for kobert (setup.py) ... \u001b[?25l\u001b[?25hdone\n",
            "  Created wheel for kobert: filename=kobert-0.2.3-py3-none-any.whl size=15449 sha256=3c5b3e881dd834d1605568cab1c13680c9582ffb5c3e778355f255f4be8d9a2f\n",
            "  Stored in directory: /tmp/pip-ephem-wheel-cache-dguey35g/wheels/d3/68/ca/334747dfb038313b49cf71f84832a33372f3470d9ddfd051c0\n",
            "Successfully built kobert\n",
            "Installing collected packages: urllib3, jmespath, botocore, tokenizers, s3transfer, transformers, onnxruntime, boto3, kobert\n",
            "  Attempting uninstall: urllib3\n",
            "    Found existing installation: urllib3 1.24.3\n",
            "    Uninstalling urllib3-1.24.3:\n",
            "      Successfully uninstalled urllib3-1.24.3\n",
            "  Attempting uninstall: tokenizers\n",
            "    Found existing installation: tokenizers 0.8.0rc4\n",
            "    Uninstalling tokenizers-0.8.0rc4:\n",
            "      Successfully uninstalled tokenizers-0.8.0rc4\n",
            "  Attempting uninstall: transformers\n",
            "    Found existing installation: transformers 3.0.0\n",
            "    Uninstalling transformers-3.0.0:\n",
            "      Successfully uninstalled transformers-3.0.0\n",
            "\u001b[31mERROR: pip's dependency resolver does not currently take into account all the packages that are installed. This behaviour is the source of the following dependency conflicts.\n",
            "datascience 0.10.6 requires folium==0.2.1, but you have folium 0.8.3 which is incompatible.\u001b[0m\n",
            "Successfully installed boto3-1.20.37 botocore-1.23.37 jmespath-0.10.0 kobert-0.2.3 onnxruntime-1.8.0 s3transfer-0.5.0 tokenizers-0.10.3 transformers-4.15.0 urllib3-1.25.11\n"
          ]
        }
      ]
    },
    {
      "cell_type": "code",
      "source": [
        "import pandas as pd\n",
        "import numpy as np\n",
        "import matplotlib.pyplot as plt\n",
        "import re\n",
        "import urllib.request\n",
        "import time\n",
        "import tensorflow_datasets as tfds\n",
        "import tensorflow as tf\n",
        "from numpy import dot\n",
        "from numpy.linalg import norm\n",
        "import urllib.request\n",
        "from sentence_transformers import SentenceTransformer\n",
        "import torch\n",
        "from torch import nn\n",
        "import torch.nn.functional as F\n",
        "import torch.optim as optim\n",
        "from torch.utils.data import Dataset, DataLoader\n",
        "import gluonnlp as nlp\n",
        "from tqdm import tqdm, tqdm_notebook\n",
        "from kobert.utils import get_tokenizer\n",
        "from kobert.pytorch_kobert import get_pytorch_kobert_model\n",
        "from transformers import AdamW\n",
        "from transformers.optimization import get_cosine_schedule_with_warmup"
      ],
      "metadata": {
        "id": "dzowy8RorWeB"
      },
      "execution_count": null,
      "outputs": []
    },
    {
      "cell_type": "markdown",
      "source": [
        "# 데이터 불러오기 & 확인"
      ],
      "metadata": {
        "id": "H3fUZosO9HtX"
      }
    },
    {
      "cell_type": "markdown",
      "source": [
        "깃헙에서 올린 파일 가져올때는 public으로 해놔야 가져옴 아니면 HTTPError 404 오류 뜸(당연한 건데,,)"
      ],
      "metadata": {
        "id": "riubbAuzKjFF"
      }
    },
    {
      "cell_type": "code",
      "source": [
        "path1 = 'https://raw.githubusercontent.com/poandpo/project-4/main/%EA%B0%90%EC%84%B1%EB%8C%80%ED%99%94%EB%A7%90%EB%AD%89%EC%B9%98(%EC%B5%9C%EC%A2%85%EB%8D%B0%EC%9D%B4%ED%84%B0)_Training.csv'\n",
        "path2 = 'https://raw.githubusercontent.com/poandpo/project-4/main/%EA%B0%90%EC%84%B1%EB%8C%80%ED%99%94%EB%A7%90%EB%AD%89%EC%B9%98_Validation.csv'\n",
        "path3 = 'https://raw.githubusercontent.com/poandpo/final_project/main/%EC%9B%B0%EB%8B%88%EC%8A%A4_%EB%8C%80%ED%99%94_%EC%8A%A4%ED%81%AC%EB%A6%BD%ED%8A%B8_%EB%8D%B0%EC%9D%B4%ED%84%B0%EC%85%8B(%EB%B3%84).csv'\n",
        "data_1 = pd.read_csv(path1, delimiter= ',')\n",
        "data_2 = pd.read_csv(path2, delimiter= ',')\n",
        "data_3 = pd.read_csv(path3, delimiter= ',')"
      ],
      "metadata": {
        "id": "vocd0gOShqVF"
      },
      "execution_count": null,
      "outputs": []
    },
    {
      "cell_type": "code",
      "source": [
        "data_1.head()"
      ],
      "metadata": {
        "id": "cNmqbn5mGiop",
        "outputId": "fb4b3633-1b38-46d8-94bd-c6e4b6805d9f",
        "colab": {
          "base_uri": "https://localhost:8080/",
          "height": 457
        }
      },
      "execution_count": null,
      "outputs": [
        {
          "output_type": "execute_result",
          "data": {
            "text/html": [
              "\n",
              "  <div id=\"df-2767c826-6bf5-4d8e-8079-ac41d4402b06\">\n",
              "    <div class=\"colab-df-container\">\n",
              "      <div>\n",
              "<style scoped>\n",
              "    .dataframe tbody tr th:only-of-type {\n",
              "        vertical-align: middle;\n",
              "    }\n",
              "\n",
              "    .dataframe tbody tr th {\n",
              "        vertical-align: top;\n",
              "    }\n",
              "\n",
              "    .dataframe thead th {\n",
              "        text-align: right;\n",
              "    }\n",
              "</style>\n",
              "<table border=\"1\" class=\"dataframe\">\n",
              "  <thead>\n",
              "    <tr style=\"text-align: right;\">\n",
              "      <th></th>\n",
              "      <th>번호</th>\n",
              "      <th>연령</th>\n",
              "      <th>성별</th>\n",
              "      <th>상황키워드</th>\n",
              "      <th>신체질환</th>\n",
              "      <th>감정_대분류</th>\n",
              "      <th>감정_소분류</th>\n",
              "      <th>사람문장1</th>\n",
              "      <th>시스템응답1</th>\n",
              "      <th>사람문장2</th>\n",
              "      <th>시스템응답2</th>\n",
              "      <th>사람문장3</th>\n",
              "      <th>시스템응답3</th>\n",
              "      <th>사람문장4</th>\n",
              "      <th>시스템응답4</th>\n",
              "    </tr>\n",
              "  </thead>\n",
              "  <tbody>\n",
              "    <tr>\n",
              "      <th>0</th>\n",
              "      <td>44164</td>\n",
              "      <td>청년</td>\n",
              "      <td>남성</td>\n",
              "      <td>연애, 결혼, 출산</td>\n",
              "      <td>해당없음</td>\n",
              "      <td>기쁨</td>\n",
              "      <td>신이 난</td>\n",
              "      <td>아내가 드디어 출산하게 되어서 정말 신이 나.</td>\n",
              "      <td>아내분이 출산을 하시는군요. 정말 축하드려요.</td>\n",
              "      <td>아 지금 정말 신이 나.</td>\n",
              "      <td>잘 된 일이네요.</td>\n",
              "      <td>아기가 점점 클게 벌써 기대가 되네. 내가 많이 놀아줘야지.</td>\n",
              "      <td>좋은 아빠가 되실 거 같아요. 진심으로 축하드려요.</td>\n",
              "      <td>NaN</td>\n",
              "      <td>NaN</td>\n",
              "    </tr>\n",
              "    <tr>\n",
              "      <th>1</th>\n",
              "      <td>3926</td>\n",
              "      <td>노년</td>\n",
              "      <td>남성</td>\n",
              "      <td>건강, 죽음</td>\n",
              "      <td>만성질환 유</td>\n",
              "      <td>불안</td>\n",
              "      <td>스트레스 받는</td>\n",
              "      <td>당뇨랑 합병증 때문에 먹어야 할 약이 열 가지가 넘어가니까 스트레스야.</td>\n",
              "      <td>약 종류가 많아 번거로우시겠어요.</td>\n",
              "      <td>건강할 때 관리 좀 잘할걸 하는 생각이 들더라고.</td>\n",
              "      <td>현재 상황에서 변화를 주기 위해 어떻게 하면 될까요?</td>\n",
              "      <td>약을 잘 챙겨 먹고 나을 수 있도록 노력해야지.</td>\n",
              "      <td>약을 잘 챙겨 먹어 건강해지시길 바랄게요.</td>\n",
              "      <td>NaN</td>\n",
              "      <td>NaN</td>\n",
              "    </tr>\n",
              "    <tr>\n",
              "      <th>2</th>\n",
              "      <td>50882</td>\n",
              "      <td>청소년</td>\n",
              "      <td>여성</td>\n",
              "      <td>학업 및 진로</td>\n",
              "      <td>해당없음</td>\n",
              "      <td>당황</td>\n",
              "      <td>당황</td>\n",
              "      <td>고등학교에 올라오니 중학교 때보다 수업이 갑자기 어려워져서 당황스러워.</td>\n",
              "      <td>고등학교 수업이 중학교 때와는 다르게 갑자기 어려워서 당황스러우시군요.</td>\n",
              "      <td>아직 학기 초인데 내가 수업에 잘 따라갈 수 있을지 걱정돼.</td>\n",
              "      <td>이 상황에서 할 수 있는 게 어떤 것이 있을까요?</td>\n",
              "      <td>중학교 수업을 들을 때보다 훨씬 더 열심히 할 거야.</td>\n",
              "      <td>수업을 어떤 방식으로 열심히 듣는게 좋을까요?</td>\n",
              "      <td>선생님이 강조하신 부분을 필기하고 집에서 매일 수업 내용을 복습하려고 해.</td>\n",
              "      <td>열심히 해서 좋은 결과가 있었으면 좋겠어요.</td>\n",
              "    </tr>\n",
              "    <tr>\n",
              "      <th>3</th>\n",
              "      <td>31303</td>\n",
              "      <td>노년</td>\n",
              "      <td>남성</td>\n",
              "      <td>재정</td>\n",
              "      <td>만성질환 무</td>\n",
              "      <td>기쁨</td>\n",
              "      <td>신이 난</td>\n",
              "      <td>재취업이 돼서 받게 된 첫 월급으로 온 가족이 외식을 할 예정이야. 너무 행복해.</td>\n",
              "      <td>재취업 후 첫 월급이라 정말 기쁘시겠어요.</td>\n",
              "      <td>퇴직 후 다시는 돈을 못 벌 줄 알았는데 이렇게 월급으로 가족에게 맛있는 밥을 살 ...</td>\n",
              "      <td>이 기분을 유지하려면 어떻게 해야 할까요?</td>\n",
              "      <td>회사생활을 열심히 해서 계속 월급을 받을거야!</td>\n",
              "      <td>계속 원하시는 대로 회사생활이 이어지길 바랄게요.</td>\n",
              "      <td>NaN</td>\n",
              "      <td>NaN</td>\n",
              "    </tr>\n",
              "    <tr>\n",
              "      <th>4</th>\n",
              "      <td>47200</td>\n",
              "      <td>노년</td>\n",
              "      <td>여성</td>\n",
              "      <td>재정</td>\n",
              "      <td>만성질환 유</td>\n",
              "      <td>기쁨</td>\n",
              "      <td>안도</td>\n",
              "      <td>빚을 드디어 다 갚게 되어서 이제야 안도감이 들어.</td>\n",
              "      <td>기분 좋으시겠어요. 앞으로는 어떻게 하실 생각이신가요?</td>\n",
              "      <td>빚도 다 갚았으니 당분간은 아무 생각도 안 하며 살고 싶어.</td>\n",
              "      <td>빚도 다 갚았으니 당분간은 아무 생각도 안 하며 살고 싶으시군요.</td>\n",
              "      <td>NaN</td>\n",
              "      <td>NaN</td>\n",
              "      <td>NaN</td>\n",
              "      <td>NaN</td>\n",
              "    </tr>\n",
              "  </tbody>\n",
              "</table>\n",
              "</div>\n",
              "      <button class=\"colab-df-convert\" onclick=\"convertToInteractive('df-2767c826-6bf5-4d8e-8079-ac41d4402b06')\"\n",
              "              title=\"Convert this dataframe to an interactive table.\"\n",
              "              style=\"display:none;\">\n",
              "        \n",
              "  <svg xmlns=\"http://www.w3.org/2000/svg\" height=\"24px\"viewBox=\"0 0 24 24\"\n",
              "       width=\"24px\">\n",
              "    <path d=\"M0 0h24v24H0V0z\" fill=\"none\"/>\n",
              "    <path d=\"M18.56 5.44l.94 2.06.94-2.06 2.06-.94-2.06-.94-.94-2.06-.94 2.06-2.06.94zm-11 1L8.5 8.5l.94-2.06 2.06-.94-2.06-.94L8.5 2.5l-.94 2.06-2.06.94zm10 10l.94 2.06.94-2.06 2.06-.94-2.06-.94-.94-2.06-.94 2.06-2.06.94z\"/><path d=\"M17.41 7.96l-1.37-1.37c-.4-.4-.92-.59-1.43-.59-.52 0-1.04.2-1.43.59L10.3 9.45l-7.72 7.72c-.78.78-.78 2.05 0 2.83L4 21.41c.39.39.9.59 1.41.59.51 0 1.02-.2 1.41-.59l7.78-7.78 2.81-2.81c.8-.78.8-2.07 0-2.86zM5.41 20L4 18.59l7.72-7.72 1.47 1.35L5.41 20z\"/>\n",
              "  </svg>\n",
              "      </button>\n",
              "      \n",
              "  <style>\n",
              "    .colab-df-container {\n",
              "      display:flex;\n",
              "      flex-wrap:wrap;\n",
              "      gap: 12px;\n",
              "    }\n",
              "\n",
              "    .colab-df-convert {\n",
              "      background-color: #E8F0FE;\n",
              "      border: none;\n",
              "      border-radius: 50%;\n",
              "      cursor: pointer;\n",
              "      display: none;\n",
              "      fill: #1967D2;\n",
              "      height: 32px;\n",
              "      padding: 0 0 0 0;\n",
              "      width: 32px;\n",
              "    }\n",
              "\n",
              "    .colab-df-convert:hover {\n",
              "      background-color: #E2EBFA;\n",
              "      box-shadow: 0px 1px 2px rgba(60, 64, 67, 0.3), 0px 1px 3px 1px rgba(60, 64, 67, 0.15);\n",
              "      fill: #174EA6;\n",
              "    }\n",
              "\n",
              "    [theme=dark] .colab-df-convert {\n",
              "      background-color: #3B4455;\n",
              "      fill: #D2E3FC;\n",
              "    }\n",
              "\n",
              "    [theme=dark] .colab-df-convert:hover {\n",
              "      background-color: #434B5C;\n",
              "      box-shadow: 0px 1px 3px 1px rgba(0, 0, 0, 0.15);\n",
              "      filter: drop-shadow(0px 1px 2px rgba(0, 0, 0, 0.3));\n",
              "      fill: #FFFFFF;\n",
              "    }\n",
              "  </style>\n",
              "\n",
              "      <script>\n",
              "        const buttonEl =\n",
              "          document.querySelector('#df-2767c826-6bf5-4d8e-8079-ac41d4402b06 button.colab-df-convert');\n",
              "        buttonEl.style.display =\n",
              "          google.colab.kernel.accessAllowed ? 'block' : 'none';\n",
              "\n",
              "        async function convertToInteractive(key) {\n",
              "          const element = document.querySelector('#df-2767c826-6bf5-4d8e-8079-ac41d4402b06');\n",
              "          const dataTable =\n",
              "            await google.colab.kernel.invokeFunction('convertToInteractive',\n",
              "                                                     [key], {});\n",
              "          if (!dataTable) return;\n",
              "\n",
              "          const docLinkHtml = 'Like what you see? Visit the ' +\n",
              "            '<a target=\"_blank\" href=https://colab.research.google.com/notebooks/data_table.ipynb>data table notebook</a>'\n",
              "            + ' to learn more about interactive tables.';\n",
              "          element.innerHTML = '';\n",
              "          dataTable['output_type'] = 'display_data';\n",
              "          await google.colab.output.renderOutput(dataTable, element);\n",
              "          const docLink = document.createElement('div');\n",
              "          docLink.innerHTML = docLinkHtml;\n",
              "          element.appendChild(docLink);\n",
              "        }\n",
              "      </script>\n",
              "    </div>\n",
              "  </div>\n",
              "  "
            ],
            "text/plain": [
              "      번호  ...                    시스템응답4\n",
              "0  44164  ...                       NaN\n",
              "1   3926  ...                       NaN\n",
              "2  50882  ...  열심히 해서 좋은 결과가 있었으면 좋겠어요.\n",
              "3  31303  ...                       NaN\n",
              "4  47200  ...                       NaN\n",
              "\n",
              "[5 rows x 15 columns]"
            ]
          },
          "metadata": {},
          "execution_count": 4
        }
      ]
    },
    {
      "cell_type": "code",
      "source": [
        "data_1.shape, data_2.shape"
      ],
      "metadata": {
        "colab": {
          "base_uri": "https://localhost:8080/"
        },
        "id": "07SU58Ujqdvg",
        "outputId": "ef78143f-45e7-49d6-e2bb-50bec3690b64"
      },
      "execution_count": null,
      "outputs": [
        {
          "output_type": "execute_result",
          "data": {
            "text/plain": [
              "((40879, 15), (5130, 15))"
            ]
          },
          "metadata": {},
          "execution_count": 4
        }
      ]
    },
    {
      "cell_type": "code",
      "source": [
        "print(data_3.shape)\n",
        "data_3.head() # 특이사항, 추가발화 2개 삭제 "
      ],
      "metadata": {
        "colab": {
          "base_uri": "https://localhost:8080/",
          "height": 224
        },
        "id": "l_SSsNWBtk02",
        "outputId": "034a496e-ac5d-40fe-d84d-d3c73bbdedbe"
      },
      "execution_count": null,
      "outputs": [
        {
          "output_type": "stream",
          "name": "stdout",
          "text": [
            "(5231, 4)\n"
          ]
        },
        {
          "output_type": "execute_result",
          "data": {
            "text/html": [
              "\n",
              "  <div id=\"df-0819f780-21d2-4a06-8cfd-6f056a0164e9\">\n",
              "    <div class=\"colab-df-container\">\n",
              "      <div>\n",
              "<style scoped>\n",
              "    .dataframe tbody tr th:only-of-type {\n",
              "        vertical-align: middle;\n",
              "    }\n",
              "\n",
              "    .dataframe tbody tr th {\n",
              "        vertical-align: top;\n",
              "    }\n",
              "\n",
              "    .dataframe thead th {\n",
              "        text-align: right;\n",
              "    }\n",
              "</style>\n",
              "<table border=\"1\" class=\"dataframe\">\n",
              "  <thead>\n",
              "    <tr style=\"text-align: right;\">\n",
              "      <th></th>\n",
              "      <th>구분</th>\n",
              "      <th>유저</th>\n",
              "      <th>챗봇</th>\n",
              "      <th>Unnamed: 3</th>\n",
              "    </tr>\n",
              "  </thead>\n",
              "  <tbody>\n",
              "    <tr>\n",
              "      <th>0</th>\n",
              "      <td>감정/감정조절이상</td>\n",
              "      <td>제 감정이 이상해진 것 같아요. 남편만 보면 화가 치밀어 오르고 감정 조절이 안되요.</td>\n",
              "      <td>감정이 조절이 안 될 때만큼 힘들 때는 없는 거 같아요.</td>\n",
              "      <td>NaN</td>\n",
              "    </tr>\n",
              "    <tr>\n",
              "      <th>1</th>\n",
              "      <td>감정/감정조절이상</td>\n",
              "      <td>더 이상 내 감정을 내가 컨트롤 못 하겠어.</td>\n",
              "      <td>저도 그 기분 이해해요. 많이 힘드시죠?</td>\n",
              "      <td>NaN</td>\n",
              "    </tr>\n",
              "    <tr>\n",
              "      <th>2</th>\n",
              "      <td>감정/감정조절이상</td>\n",
              "      <td>하루종일 오르락내리락 롤러코스터 타는 기분이에요.</td>\n",
              "      <td>그럴 때는 밥은 잘 먹었는지, 잠은 잘 잤는지 체크해보는 것도 좋아요.</td>\n",
              "      <td>NaN</td>\n",
              "    </tr>\n",
              "    <tr>\n",
              "      <th>3</th>\n",
              "      <td>감정/감정조절이상</td>\n",
              "      <td>꼭 롤러코스터 타는 것 같아요.</td>\n",
              "      <td>NaN</td>\n",
              "      <td>NaN</td>\n",
              "    </tr>\n",
              "    <tr>\n",
              "      <th>4</th>\n",
              "      <td>감정/감정조절이상</td>\n",
              "      <td>롤러코스터 타는 것처럼 기분이 왔다 갔다 해요.</td>\n",
              "      <td>NaN</td>\n",
              "      <td>NaN</td>\n",
              "    </tr>\n",
              "  </tbody>\n",
              "</table>\n",
              "</div>\n",
              "      <button class=\"colab-df-convert\" onclick=\"convertToInteractive('df-0819f780-21d2-4a06-8cfd-6f056a0164e9')\"\n",
              "              title=\"Convert this dataframe to an interactive table.\"\n",
              "              style=\"display:none;\">\n",
              "        \n",
              "  <svg xmlns=\"http://www.w3.org/2000/svg\" height=\"24px\"viewBox=\"0 0 24 24\"\n",
              "       width=\"24px\">\n",
              "    <path d=\"M0 0h24v24H0V0z\" fill=\"none\"/>\n",
              "    <path d=\"M18.56 5.44l.94 2.06.94-2.06 2.06-.94-2.06-.94-.94-2.06-.94 2.06-2.06.94zm-11 1L8.5 8.5l.94-2.06 2.06-.94-2.06-.94L8.5 2.5l-.94 2.06-2.06.94zm10 10l.94 2.06.94-2.06 2.06-.94-2.06-.94-.94-2.06-.94 2.06-2.06.94z\"/><path d=\"M17.41 7.96l-1.37-1.37c-.4-.4-.92-.59-1.43-.59-.52 0-1.04.2-1.43.59L10.3 9.45l-7.72 7.72c-.78.78-.78 2.05 0 2.83L4 21.41c.39.39.9.59 1.41.59.51 0 1.02-.2 1.41-.59l7.78-7.78 2.81-2.81c.8-.78.8-2.07 0-2.86zM5.41 20L4 18.59l7.72-7.72 1.47 1.35L5.41 20z\"/>\n",
              "  </svg>\n",
              "      </button>\n",
              "      \n",
              "  <style>\n",
              "    .colab-df-container {\n",
              "      display:flex;\n",
              "      flex-wrap:wrap;\n",
              "      gap: 12px;\n",
              "    }\n",
              "\n",
              "    .colab-df-convert {\n",
              "      background-color: #E8F0FE;\n",
              "      border: none;\n",
              "      border-radius: 50%;\n",
              "      cursor: pointer;\n",
              "      display: none;\n",
              "      fill: #1967D2;\n",
              "      height: 32px;\n",
              "      padding: 0 0 0 0;\n",
              "      width: 32px;\n",
              "    }\n",
              "\n",
              "    .colab-df-convert:hover {\n",
              "      background-color: #E2EBFA;\n",
              "      box-shadow: 0px 1px 2px rgba(60, 64, 67, 0.3), 0px 1px 3px 1px rgba(60, 64, 67, 0.15);\n",
              "      fill: #174EA6;\n",
              "    }\n",
              "\n",
              "    [theme=dark] .colab-df-convert {\n",
              "      background-color: #3B4455;\n",
              "      fill: #D2E3FC;\n",
              "    }\n",
              "\n",
              "    [theme=dark] .colab-df-convert:hover {\n",
              "      background-color: #434B5C;\n",
              "      box-shadow: 0px 1px 3px 1px rgba(0, 0, 0, 0.15);\n",
              "      filter: drop-shadow(0px 1px 2px rgba(0, 0, 0, 0.3));\n",
              "      fill: #FFFFFF;\n",
              "    }\n",
              "  </style>\n",
              "\n",
              "      <script>\n",
              "        const buttonEl =\n",
              "          document.querySelector('#df-0819f780-21d2-4a06-8cfd-6f056a0164e9 button.colab-df-convert');\n",
              "        buttonEl.style.display =\n",
              "          google.colab.kernel.accessAllowed ? 'block' : 'none';\n",
              "\n",
              "        async function convertToInteractive(key) {\n",
              "          const element = document.querySelector('#df-0819f780-21d2-4a06-8cfd-6f056a0164e9');\n",
              "          const dataTable =\n",
              "            await google.colab.kernel.invokeFunction('convertToInteractive',\n",
              "                                                     [key], {});\n",
              "          if (!dataTable) return;\n",
              "\n",
              "          const docLinkHtml = 'Like what you see? Visit the ' +\n",
              "            '<a target=\"_blank\" href=https://colab.research.google.com/notebooks/data_table.ipynb>data table notebook</a>'\n",
              "            + ' to learn more about interactive tables.';\n",
              "          element.innerHTML = '';\n",
              "          dataTable['output_type'] = 'display_data';\n",
              "          await google.colab.output.renderOutput(dataTable, element);\n",
              "          const docLink = document.createElement('div');\n",
              "          docLink.innerHTML = docLinkHtml;\n",
              "          element.appendChild(docLink);\n",
              "        }\n",
              "      </script>\n",
              "    </div>\n",
              "  </div>\n",
              "  "
            ],
            "text/plain": [
              "          구분  ... Unnamed: 3\n",
              "0  감정/감정조절이상  ...        NaN\n",
              "1  감정/감정조절이상  ...        NaN\n",
              "2  감정/감정조절이상  ...        NaN\n",
              "3  감정/감정조절이상  ...        NaN\n",
              "4  감정/감정조절이상  ...        NaN\n",
              "\n",
              "[5 rows x 4 columns]"
            ]
          },
          "metadata": {},
          "execution_count": 82
        }
      ]
    },
    {
      "cell_type": "code",
      "source": [
        "data_1.isnull().sum()"
      ],
      "metadata": {
        "colab": {
          "base_uri": "https://localhost:8080/"
        },
        "id": "uGBwPhA_nRVP",
        "outputId": "d6a6cd19-c93e-48f5-dce5-f075438456c5"
      },
      "execution_count": null,
      "outputs": [
        {
          "output_type": "execute_result",
          "data": {
            "text/plain": [
              "번호            0\n",
              "연령            0\n",
              "성별            0\n",
              "상황키워드         0\n",
              "신체질환          0\n",
              "감정_대분류        0\n",
              "감정_소분류        0\n",
              "사람문장1         0\n",
              "시스템응답1        0\n",
              "사람문장2         0\n",
              "시스템응답2        0\n",
              "사람문장3      9820\n",
              "시스템응답3     9820\n",
              "사람문장4     39407\n",
              "시스템응답4    39517\n",
              "dtype: int64"
            ]
          },
          "metadata": {},
          "execution_count": 6
        }
      ]
    },
    {
      "cell_type": "code",
      "source": [
        "data_2.isnull().sum()"
      ],
      "metadata": {
        "colab": {
          "base_uri": "https://localhost:8080/"
        },
        "id": "bjm9HuecqUeA",
        "outputId": "8cb3d49c-5c54-4120-ac13-6dda60807324"
      },
      "execution_count": null,
      "outputs": [
        {
          "output_type": "execute_result",
          "data": {
            "text/plain": [
              "번호           0\n",
              "연령           0\n",
              "성별           0\n",
              "상황키워드        0\n",
              "신체질환         0\n",
              "감정_대분류       0\n",
              "감정_소분류       0\n",
              "사람문장1        0\n",
              "시스템응답1       0\n",
              "사람문장2        0\n",
              "시스템응답2       0\n",
              "사람문장3     1256\n",
              "시스템응답3    1256\n",
              "사람문장4     4979\n",
              "시스템응답4    4994\n",
              "dtype: int64"
            ]
          },
          "metadata": {},
          "execution_count": 9
        }
      ]
    },
    {
      "cell_type": "markdown",
      "source": [
        "# 데이터 합치기"
      ],
      "metadata": {
        "id": "dhByoxsKp0Vr"
      }
    },
    {
      "cell_type": "code",
      "source": [
        "df_1 = data_1[['감정_대분류','감정_소분류','사람문장1', '시스템응답1']]\n",
        "df_2 = data_2[['감정_대분류','감정_소분류','사람문장1', '시스템응답1']]\n",
        "half_df = pd.concat([df_1,df_2])"
      ],
      "metadata": {
        "id": "18jbJK-Tr8VS"
      },
      "execution_count": null,
      "outputs": []
    },
    {
      "cell_type": "code",
      "source": [
        "half_df['감정_대분류'].unique()"
      ],
      "metadata": {
        "colab": {
          "base_uri": "https://localhost:8080/"
        },
        "id": "umEHrouhBBmN",
        "outputId": "66fb36c5-3f5a-4f7e-9b2f-b8ecf9a37521"
      },
      "execution_count": null,
      "outputs": [
        {
          "output_type": "execute_result",
          "data": {
            "text/plain": [
              "array(['기쁨', '불안', '당황', '슬픔', '분노', '상처', '불안 ', '기쁨 '], dtype=object)"
            ]
          },
          "metadata": {},
          "execution_count": 11
        }
      ]
    },
    {
      "cell_type": "code",
      "source": [
        "# data_3에 맞게 수정\n",
        "half_df.loc[ half_df['감정_대분류'] == '기쁨','감정_대분류'] = '즐거움'\n",
        "half_df.loc[ half_df['감정_대분류'] == '기쁨 ', '감정_대분류'] = '즐거움'\n",
        "half_df.loc[ half_df['감정_대분류'] == '불안', '감정_대분류'] = '불안감'\n",
        "half_df.loc[ half_df['감정_대분류'] == '불안 ', '감정_대분류'] = '불안감'\n",
        "## half_df['감정_대분류'] == '상처' --> 수정\n",
        "half_df.loc[(half_df['감정_대분류'] == '상처') & (half_df['감정_소분류']== '억울한'), '감정_대분류'] = '억울함'\n",
        "half_df.loc[(half_df['감정_대분류'] == '상처') & (half_df['감정_소분류']== '배신당한'), '감정_대분류'] = '배신감'\n",
        "half_df.loc[(half_df['감정_대분류'] == '상처') & (half_df['감정_소분류']== '괴로워하는'), '감정_대분류'] = '괴로움'\n",
        "half_df.loc[(half_df['감정_대분류'] == '상처') & (half_df['감정_소분류']== '충격 받은'), '감정_대분류'] = '충격'\n",
        "half_df.loc[(half_df['감정_대분류'] == '상처') & (half_df['감정_소분류']== '버려진'), '감정_대분류'] = '고독감'\n",
        "half_df.loc[(half_df['감정_대분류'] == '상처') & (half_df['감정_소분류']== '고립된'), '감정_대분류'] = '외로움'\n",
        "half_df.loc[(half_df['감정_대분류'] == '상처') & (half_df['감정_소분류']== '질투하는'), '감정_대분류'] = '질투'\n",
        "half_df.loc[(half_df['감정_대분류'] == '상처') & (half_df['감정_소분류']== '가난한, 불우한'), '감정_대분류'] = '배경/경제적문제/가난'\n",
        "half_df.loc[(half_df['감정_대분류'] == '상처') & (half_df['감정_소분류']== '조심스러운'), '감정_대분류'] = '모호함'\n",
        "half_df.loc[(half_df['감정_대분류'] == '상처') & (half_df['감정_소분류']== '상처'), '감정_대분류'] = '속상함'\n",
        "half_df.loc[(half_df['감정_대분류'] == '상처') & (half_df['감정_소분류']== '희생된'), '감정_대분류'] = '속상함'\n",
        "half_df.drop(labels= '감정_소분류', axis= 1, inplace= True)\n",
        "## '감정/' 더하기\n",
        "half_df['감정_대분류'] = '감정/'+ half_df['감정_대분류']\n",
        "half_df.loc[ half_df['감정_대분류'] == '감정/배경/경제적문제/가난', '감정_대분류'] = '배경/경제적문제/가난'\n",
        "\n",
        "#데이터 합치기\n",
        "data_3.drop(labels= 'Unnamed: 3', axis= 1, inplace= True )\n",
        "half_df.columns = ['구분', '유저', '챗봇']\n",
        "df = pd.concat([half_df,data_3])\n",
        "## 인텍스 정렬\n",
        "df = df.reset_index(drop=True)\n"
      ],
      "metadata": {
        "id": "I-tbsotnHxXN"
      },
      "execution_count": null,
      "outputs": []
    },
    {
      "cell_type": "code",
      "source": [
        "print(df.shape)\n",
        "df.head(5)"
      ],
      "metadata": {
        "colab": {
          "base_uri": "https://localhost:8080/",
          "height": 224
        },
        "id": "-VAoO9mgCyz5",
        "outputId": "39beb974-4a9f-4ebf-f64f-cca3a34cf4e6"
      },
      "execution_count": null,
      "outputs": [
        {
          "output_type": "stream",
          "name": "stdout",
          "text": [
            "(51240, 3)\n"
          ]
        },
        {
          "output_type": "execute_result",
          "data": {
            "text/html": [
              "\n",
              "  <div id=\"df-cd9006ad-d423-43f9-9aee-a5bbfea3f77f\">\n",
              "    <div class=\"colab-df-container\">\n",
              "      <div>\n",
              "<style scoped>\n",
              "    .dataframe tbody tr th:only-of-type {\n",
              "        vertical-align: middle;\n",
              "    }\n",
              "\n",
              "    .dataframe tbody tr th {\n",
              "        vertical-align: top;\n",
              "    }\n",
              "\n",
              "    .dataframe thead th {\n",
              "        text-align: right;\n",
              "    }\n",
              "</style>\n",
              "<table border=\"1\" class=\"dataframe\">\n",
              "  <thead>\n",
              "    <tr style=\"text-align: right;\">\n",
              "      <th></th>\n",
              "      <th>구분</th>\n",
              "      <th>유저</th>\n",
              "      <th>챗봇</th>\n",
              "    </tr>\n",
              "  </thead>\n",
              "  <tbody>\n",
              "    <tr>\n",
              "      <th>0</th>\n",
              "      <td>감정/즐거움</td>\n",
              "      <td>아내가 드디어 출산하게 되어서 정말 신이 나.</td>\n",
              "      <td>아내분이 출산을 하시는군요. 정말 축하드려요.</td>\n",
              "    </tr>\n",
              "    <tr>\n",
              "      <th>1</th>\n",
              "      <td>감정/불안감</td>\n",
              "      <td>당뇨랑 합병증 때문에 먹어야 할 약이 열 가지가 넘어가니까 스트레스야.</td>\n",
              "      <td>약 종류가 많아 번거로우시겠어요.</td>\n",
              "    </tr>\n",
              "    <tr>\n",
              "      <th>2</th>\n",
              "      <td>감정/당황</td>\n",
              "      <td>고등학교에 올라오니 중학교 때보다 수업이 갑자기 어려워져서 당황스러워.</td>\n",
              "      <td>고등학교 수업이 중학교 때와는 다르게 갑자기 어려워서 당황스러우시군요.</td>\n",
              "    </tr>\n",
              "    <tr>\n",
              "      <th>3</th>\n",
              "      <td>감정/즐거움</td>\n",
              "      <td>재취업이 돼서 받게 된 첫 월급으로 온 가족이 외식을 할 예정이야. 너무 행복해.</td>\n",
              "      <td>재취업 후 첫 월급이라 정말 기쁘시겠어요.</td>\n",
              "    </tr>\n",
              "    <tr>\n",
              "      <th>4</th>\n",
              "      <td>감정/즐거움</td>\n",
              "      <td>빚을 드디어 다 갚게 되어서 이제야 안도감이 들어.</td>\n",
              "      <td>기분 좋으시겠어요. 앞으로는 어떻게 하실 생각이신가요?</td>\n",
              "    </tr>\n",
              "  </tbody>\n",
              "</table>\n",
              "</div>\n",
              "      <button class=\"colab-df-convert\" onclick=\"convertToInteractive('df-cd9006ad-d423-43f9-9aee-a5bbfea3f77f')\"\n",
              "              title=\"Convert this dataframe to an interactive table.\"\n",
              "              style=\"display:none;\">\n",
              "        \n",
              "  <svg xmlns=\"http://www.w3.org/2000/svg\" height=\"24px\"viewBox=\"0 0 24 24\"\n",
              "       width=\"24px\">\n",
              "    <path d=\"M0 0h24v24H0V0z\" fill=\"none\"/>\n",
              "    <path d=\"M18.56 5.44l.94 2.06.94-2.06 2.06-.94-2.06-.94-.94-2.06-.94 2.06-2.06.94zm-11 1L8.5 8.5l.94-2.06 2.06-.94-2.06-.94L8.5 2.5l-.94 2.06-2.06.94zm10 10l.94 2.06.94-2.06 2.06-.94-2.06-.94-.94-2.06-.94 2.06-2.06.94z\"/><path d=\"M17.41 7.96l-1.37-1.37c-.4-.4-.92-.59-1.43-.59-.52 0-1.04.2-1.43.59L10.3 9.45l-7.72 7.72c-.78.78-.78 2.05 0 2.83L4 21.41c.39.39.9.59 1.41.59.51 0 1.02-.2 1.41-.59l7.78-7.78 2.81-2.81c.8-.78.8-2.07 0-2.86zM5.41 20L4 18.59l7.72-7.72 1.47 1.35L5.41 20z\"/>\n",
              "  </svg>\n",
              "      </button>\n",
              "      \n",
              "  <style>\n",
              "    .colab-df-container {\n",
              "      display:flex;\n",
              "      flex-wrap:wrap;\n",
              "      gap: 12px;\n",
              "    }\n",
              "\n",
              "    .colab-df-convert {\n",
              "      background-color: #E8F0FE;\n",
              "      border: none;\n",
              "      border-radius: 50%;\n",
              "      cursor: pointer;\n",
              "      display: none;\n",
              "      fill: #1967D2;\n",
              "      height: 32px;\n",
              "      padding: 0 0 0 0;\n",
              "      width: 32px;\n",
              "    }\n",
              "\n",
              "    .colab-df-convert:hover {\n",
              "      background-color: #E2EBFA;\n",
              "      box-shadow: 0px 1px 2px rgba(60, 64, 67, 0.3), 0px 1px 3px 1px rgba(60, 64, 67, 0.15);\n",
              "      fill: #174EA6;\n",
              "    }\n",
              "\n",
              "    [theme=dark] .colab-df-convert {\n",
              "      background-color: #3B4455;\n",
              "      fill: #D2E3FC;\n",
              "    }\n",
              "\n",
              "    [theme=dark] .colab-df-convert:hover {\n",
              "      background-color: #434B5C;\n",
              "      box-shadow: 0px 1px 3px 1px rgba(0, 0, 0, 0.15);\n",
              "      filter: drop-shadow(0px 1px 2px rgba(0, 0, 0, 0.3));\n",
              "      fill: #FFFFFF;\n",
              "    }\n",
              "  </style>\n",
              "\n",
              "      <script>\n",
              "        const buttonEl =\n",
              "          document.querySelector('#df-cd9006ad-d423-43f9-9aee-a5bbfea3f77f button.colab-df-convert');\n",
              "        buttonEl.style.display =\n",
              "          google.colab.kernel.accessAllowed ? 'block' : 'none';\n",
              "\n",
              "        async function convertToInteractive(key) {\n",
              "          const element = document.querySelector('#df-cd9006ad-d423-43f9-9aee-a5bbfea3f77f');\n",
              "          const dataTable =\n",
              "            await google.colab.kernel.invokeFunction('convertToInteractive',\n",
              "                                                     [key], {});\n",
              "          if (!dataTable) return;\n",
              "\n",
              "          const docLinkHtml = 'Like what you see? Visit the ' +\n",
              "            '<a target=\"_blank\" href=https://colab.research.google.com/notebooks/data_table.ipynb>data table notebook</a>'\n",
              "            + ' to learn more about interactive tables.';\n",
              "          element.innerHTML = '';\n",
              "          dataTable['output_type'] = 'display_data';\n",
              "          await google.colab.output.renderOutput(dataTable, element);\n",
              "          const docLink = document.createElement('div');\n",
              "          docLink.innerHTML = docLinkHtml;\n",
              "          element.appendChild(docLink);\n",
              "        }\n",
              "      </script>\n",
              "    </div>\n",
              "  </div>\n",
              "  "
            ],
            "text/plain": [
              "       구분  ...                                       챗봇\n",
              "0  감정/즐거움  ...                아내분이 출산을 하시는군요. 정말 축하드려요.\n",
              "1  감정/불안감  ...                       약 종류가 많아 번거로우시겠어요.\n",
              "2   감정/당황  ...  고등학교 수업이 중학교 때와는 다르게 갑자기 어려워서 당황스러우시군요.\n",
              "3  감정/즐거움  ...                  재취업 후 첫 월급이라 정말 기쁘시겠어요.\n",
              "4  감정/즐거움  ...           기분 좋으시겠어요. 앞으로는 어떻게 하실 생각이신가요?\n",
              "\n",
              "[5 rows x 3 columns]"
            ]
          },
          "metadata": {},
          "execution_count": 13
        }
      ]
    },
    {
      "cell_type": "markdown",
      "source": [
        "# 전처리 과정"
      ],
      "metadata": {
        "id": "W-X0AM6s9U5S"
      }
    },
    {
      "cell_type": "code",
      "source": [
        "df.duplicated().sum(), data_3.duplicated().sum()"
      ],
      "metadata": {
        "id": "ej_vCHBEY8B_",
        "outputId": "c68617b6-6ecb-4d6b-99a3-dd27b24305d1",
        "colab": {
          "base_uri": "https://localhost:8080/"
        }
      },
      "execution_count": null,
      "outputs": [
        {
          "output_type": "execute_result",
          "data": {
            "text/plain": [
              "(1282, 16)"
            ]
          },
          "metadata": {},
          "execution_count": 86
        }
      ]
    },
    {
      "cell_type": "code",
      "source": [
        "df.drop_duplicates(inplace= True)"
      ],
      "metadata": {
        "id": "KXIAaazSaCSc"
      },
      "execution_count": null,
      "outputs": []
    },
    {
      "cell_type": "code",
      "source": [
        "df['챗봇'].isnull().sum()"
      ],
      "metadata": {
        "colab": {
          "base_uri": "https://localhost:8080/"
        },
        "id": "AfPfQmwzwilA",
        "outputId": "8894ba8d-32d2-4aae-d833-08851a0f48c6"
      },
      "execution_count": null,
      "outputs": [
        {
          "output_type": "execute_result",
          "data": {
            "text/plain": [
              "4181"
            ]
          },
          "metadata": {},
          "execution_count": 89
        }
      ]
    },
    {
      "cell_type": "code",
      "source": [
        "df=df.dropna()"
      ],
      "metadata": {
        "id": "jmMZXtCnpCIj"
      },
      "execution_count": null,
      "outputs": []
    },
    {
      "cell_type": "code",
      "source": [
        "df['챗봇'].isnull().sum()"
      ],
      "metadata": {
        "colab": {
          "base_uri": "https://localhost:8080/"
        },
        "id": "60Ys9V7BxE2d",
        "outputId": "7c286bdc-fc5a-47da-c67a-921919bb6041"
      },
      "execution_count": null,
      "outputs": [
        {
          "output_type": "execute_result",
          "data": {
            "text/plain": [
              "0"
            ]
          },
          "metadata": {},
          "execution_count": 91
        }
      ]
    },
    {
      "cell_type": "code",
      "source": [
        "#labelencoder로 바꾸기\n",
        "np.random.seed(3)\n",
        "from sklearn.preprocessing import LabelEncoder\n",
        "le = LabelEncoder()\n",
        "enc = le.fit_transform(df['구분'])\n",
        "df['구분'] = enc"
      ],
      "metadata": {
        "id": "9LVVdyTKmHUP"
      },
      "execution_count": null,
      "outputs": []
    },
    {
      "cell_type": "code",
      "source": [
        "print(df.shape)\n",
        "df.head()"
      ],
      "metadata": {
        "colab": {
          "base_uri": "https://localhost:8080/",
          "height": 224
        },
        "id": "G0wVD1glxSub",
        "outputId": "129af9b5-0320-4366-ad7f-aa923fdc0b10"
      },
      "execution_count": null,
      "outputs": [
        {
          "output_type": "stream",
          "name": "stdout",
          "text": [
            "(45777, 3)\n"
          ]
        },
        {
          "output_type": "execute_result",
          "data": {
            "text/html": [
              "\n",
              "  <div id=\"df-0165ea11-ce04-4078-8dd9-39290d6419d3\">\n",
              "    <div class=\"colab-df-container\">\n",
              "      <div>\n",
              "<style scoped>\n",
              "    .dataframe tbody tr th:only-of-type {\n",
              "        vertical-align: middle;\n",
              "    }\n",
              "\n",
              "    .dataframe tbody tr th {\n",
              "        vertical-align: top;\n",
              "    }\n",
              "\n",
              "    .dataframe thead th {\n",
              "        text-align: right;\n",
              "    }\n",
              "</style>\n",
              "<table border=\"1\" class=\"dataframe\">\n",
              "  <thead>\n",
              "    <tr style=\"text-align: right;\">\n",
              "      <th></th>\n",
              "      <th>구분</th>\n",
              "      <th>유저</th>\n",
              "      <th>챗봇</th>\n",
              "    </tr>\n",
              "  </thead>\n",
              "  <tbody>\n",
              "    <tr>\n",
              "      <th>0</th>\n",
              "      <td>74</td>\n",
              "      <td>아내가 드디어 출산하게 되어서 정말 신이 나.</td>\n",
              "      <td>아내분이 출산을 하시는군요. 정말 축하드려요.</td>\n",
              "    </tr>\n",
              "    <tr>\n",
              "      <th>1</th>\n",
              "      <td>41</td>\n",
              "      <td>당뇨랑 합병증 때문에 먹어야 할 약이 열 가지가 넘어가니까 스트레스야.</td>\n",
              "      <td>약 종류가 많아 번거로우시겠어요.</td>\n",
              "    </tr>\n",
              "    <tr>\n",
              "      <th>2</th>\n",
              "      <td>25</td>\n",
              "      <td>고등학교에 올라오니 중학교 때보다 수업이 갑자기 어려워져서 당황스러워.</td>\n",
              "      <td>고등학교 수업이 중학교 때와는 다르게 갑자기 어려워서 당황스러우시군요.</td>\n",
              "    </tr>\n",
              "    <tr>\n",
              "      <th>3</th>\n",
              "      <td>74</td>\n",
              "      <td>재취업이 돼서 받게 된 첫 월급으로 온 가족이 외식을 할 예정이야. 너무 행복해.</td>\n",
              "      <td>재취업 후 첫 월급이라 정말 기쁘시겠어요.</td>\n",
              "    </tr>\n",
              "    <tr>\n",
              "      <th>4</th>\n",
              "      <td>74</td>\n",
              "      <td>빚을 드디어 다 갚게 되어서 이제야 안도감이 들어.</td>\n",
              "      <td>기분 좋으시겠어요. 앞으로는 어떻게 하실 생각이신가요?</td>\n",
              "    </tr>\n",
              "  </tbody>\n",
              "</table>\n",
              "</div>\n",
              "      <button class=\"colab-df-convert\" onclick=\"convertToInteractive('df-0165ea11-ce04-4078-8dd9-39290d6419d3')\"\n",
              "              title=\"Convert this dataframe to an interactive table.\"\n",
              "              style=\"display:none;\">\n",
              "        \n",
              "  <svg xmlns=\"http://www.w3.org/2000/svg\" height=\"24px\"viewBox=\"0 0 24 24\"\n",
              "       width=\"24px\">\n",
              "    <path d=\"M0 0h24v24H0V0z\" fill=\"none\"/>\n",
              "    <path d=\"M18.56 5.44l.94 2.06.94-2.06 2.06-.94-2.06-.94-.94-2.06-.94 2.06-2.06.94zm-11 1L8.5 8.5l.94-2.06 2.06-.94-2.06-.94L8.5 2.5l-.94 2.06-2.06.94zm10 10l.94 2.06.94-2.06 2.06-.94-2.06-.94-.94-2.06-.94 2.06-2.06.94z\"/><path d=\"M17.41 7.96l-1.37-1.37c-.4-.4-.92-.59-1.43-.59-.52 0-1.04.2-1.43.59L10.3 9.45l-7.72 7.72c-.78.78-.78 2.05 0 2.83L4 21.41c.39.39.9.59 1.41.59.51 0 1.02-.2 1.41-.59l7.78-7.78 2.81-2.81c.8-.78.8-2.07 0-2.86zM5.41 20L4 18.59l7.72-7.72 1.47 1.35L5.41 20z\"/>\n",
              "  </svg>\n",
              "      </button>\n",
              "      \n",
              "  <style>\n",
              "    .colab-df-container {\n",
              "      display:flex;\n",
              "      flex-wrap:wrap;\n",
              "      gap: 12px;\n",
              "    }\n",
              "\n",
              "    .colab-df-convert {\n",
              "      background-color: #E8F0FE;\n",
              "      border: none;\n",
              "      border-radius: 50%;\n",
              "      cursor: pointer;\n",
              "      display: none;\n",
              "      fill: #1967D2;\n",
              "      height: 32px;\n",
              "      padding: 0 0 0 0;\n",
              "      width: 32px;\n",
              "    }\n",
              "\n",
              "    .colab-df-convert:hover {\n",
              "      background-color: #E2EBFA;\n",
              "      box-shadow: 0px 1px 2px rgba(60, 64, 67, 0.3), 0px 1px 3px 1px rgba(60, 64, 67, 0.15);\n",
              "      fill: #174EA6;\n",
              "    }\n",
              "\n",
              "    [theme=dark] .colab-df-convert {\n",
              "      background-color: #3B4455;\n",
              "      fill: #D2E3FC;\n",
              "    }\n",
              "\n",
              "    [theme=dark] .colab-df-convert:hover {\n",
              "      background-color: #434B5C;\n",
              "      box-shadow: 0px 1px 3px 1px rgba(0, 0, 0, 0.15);\n",
              "      filter: drop-shadow(0px 1px 2px rgba(0, 0, 0, 0.3));\n",
              "      fill: #FFFFFF;\n",
              "    }\n",
              "  </style>\n",
              "\n",
              "      <script>\n",
              "        const buttonEl =\n",
              "          document.querySelector('#df-0165ea11-ce04-4078-8dd9-39290d6419d3 button.colab-df-convert');\n",
              "        buttonEl.style.display =\n",
              "          google.colab.kernel.accessAllowed ? 'block' : 'none';\n",
              "\n",
              "        async function convertToInteractive(key) {\n",
              "          const element = document.querySelector('#df-0165ea11-ce04-4078-8dd9-39290d6419d3');\n",
              "          const dataTable =\n",
              "            await google.colab.kernel.invokeFunction('convertToInteractive',\n",
              "                                                     [key], {});\n",
              "          if (!dataTable) return;\n",
              "\n",
              "          const docLinkHtml = 'Like what you see? Visit the ' +\n",
              "            '<a target=\"_blank\" href=https://colab.research.google.com/notebooks/data_table.ipynb>data table notebook</a>'\n",
              "            + ' to learn more about interactive tables.';\n",
              "          element.innerHTML = '';\n",
              "          dataTable['output_type'] = 'display_data';\n",
              "          await google.colab.output.renderOutput(dataTable, element);\n",
              "          const docLink = document.createElement('div');\n",
              "          docLink.innerHTML = docLinkHtml;\n",
              "          element.appendChild(docLink);\n",
              "        }\n",
              "      </script>\n",
              "    </div>\n",
              "  </div>\n",
              "  "
            ],
            "text/plain": [
              "   구분  ...                                       챗봇\n",
              "0  74  ...                아내분이 출산을 하시는군요. 정말 축하드려요.\n",
              "1  41  ...                       약 종류가 많아 번거로우시겠어요.\n",
              "2  25  ...  고등학교 수업이 중학교 때와는 다르게 갑자기 어려워서 당황스러우시군요.\n",
              "3  74  ...                  재취업 후 첫 월급이라 정말 기쁘시겠어요.\n",
              "4  74  ...           기분 좋으시겠어요. 앞으로는 어떻게 하실 생각이신가요?\n",
              "\n",
              "[5 rows x 3 columns]"
            ]
          },
          "metadata": {},
          "execution_count": 20
        }
      ]
    },
    {
      "cell_type": "code",
      "source": [
        "df['구분'].nunique()"
      ],
      "metadata": {
        "id": "9yk3iTU80dlw",
        "outputId": "3068a399-e82c-45b5-f370-30ef471d0be9",
        "colab": {
          "base_uri": "https://localhost:8080/"
        }
      },
      "execution_count": null,
      "outputs": [
        {
          "output_type": "execute_result",
          "data": {
            "text/plain": [
              "356"
            ]
          },
          "metadata": {},
          "execution_count": 21
        }
      ]
    },
    {
      "cell_type": "code",
      "source": [
        "questions = []\n",
        "for sentence in df['유저']:\n",
        "    # 구두점에 대해서 띄어쓰기\n",
        "    # ex) 12시 땡! -> 12시 땡 !\n",
        "    sentence = re.sub(r\"([?.!,])\", r\" \\1 \", sentence)\n",
        "    sentence = sentence.strip()\n",
        "    questions.append(sentence)"
      ],
      "metadata": {
        "id": "sskiwky6rLK6"
      },
      "execution_count": null,
      "outputs": []
    },
    {
      "cell_type": "code",
      "source": [
        "answers = []\n",
        "for sentence in df['챗봇']:\n",
        "    # 구두점에 대해서 띄어쓰기\n",
        "    # ex) 12시 땡! -> 12시 땡 !\n",
        "    try: \n",
        "        sentence = re.sub(r\"([?.!,])\", r\" \\1 \", sentence)\n",
        "        sentence = sentence.strip()\n",
        "        answers.append(sentence)\n",
        "    except TypeError as e:\n",
        "        pass"
      ],
      "metadata": {
        "id": "sJJU5RwBsALE"
      },
      "execution_count": null,
      "outputs": []
    },
    {
      "cell_type": "code",
      "source": [
        "# 단어 집합 생성\n",
        "tokenizer = tfds.deprecated.text.SubwordTextEncoder.build_from_corpus(\n",
        "    questions + answers, target_vocab_size=2**13)"
      ],
      "metadata": {
        "id": "LW9tezuwxyfz",
        "colab": {
          "base_uri": "https://localhost:8080/"
        },
        "outputId": "d0dfbe83-10f5-4d0f-a6ac-06e332fa72c8"
      },
      "execution_count": null,
      "outputs": [
        {
          "output_type": "stream",
          "name": "stderr",
          "text": [
            "INFO:absl:SubwordTextEncoder build: trying min_token_count 36319\n",
            "INFO:absl:SubwordTextEncoder build: trying min_token_count 18159\n",
            "INFO:absl:SubwordTextEncoder build: trying min_token_count 9079\n",
            "INFO:absl:SubwordTextEncoder build: trying min_token_count 4539\n",
            "INFO:absl:SubwordTextEncoder build: trying min_token_count 2269\n",
            "INFO:absl:SubwordTextEncoder build: trying min_token_count 1134\n",
            "INFO:absl:SubwordTextEncoder build: trying min_token_count 567\n",
            "INFO:absl:SubwordTextEncoder build: trying min_token_count 283\n",
            "INFO:absl:SubwordTextEncoder build: trying min_token_count 141\n",
            "INFO:absl:SubwordTextEncoder build: trying min_token_count 70\n",
            "INFO:absl:SubwordTextEncoder build: trying min_token_count 35\n",
            "INFO:absl:SubwordTextEncoder build: trying min_token_count 17\n",
            "INFO:absl:SubwordTextEncoder build: trying min_token_count 26\n",
            "INFO:absl:SubwordTextEncoder build: trying min_token_count 21\n",
            "INFO:absl:SubwordTextEncoder build: trying min_token_count 23\n",
            "INFO:absl:SubwordTextEncoder build: trying min_token_count 24\n",
            "INFO:absl:SubwordTextEncoder build: trying min_token_count 25\n"
          ]
        }
      ]
    },
    {
      "cell_type": "code",
      "source": [
        "# 시작 토큰과 종료 토큰에 대한 정수 부여.\n",
        "START_TOKEN, END_TOKEN = [tokenizer.vocab_size], [tokenizer.vocab_size + 1]\n",
        "\n",
        "# 시작 토큰과 종료 토큰을 고려하여 단어 집합의 크기를 + 2\n",
        "VOCAB_SIZE = tokenizer.vocab_size + 2"
      ],
      "metadata": {
        "id": "axcWQwmux7fr"
      },
      "execution_count": null,
      "outputs": []
    },
    {
      "cell_type": "code",
      "source": [
        "print('시작 토큰 번호 :',START_TOKEN)\n",
        "print('종료 토큰 번호 :',END_TOKEN)\n",
        "print('단어 집합의 크기 :',VOCAB_SIZE)"
      ],
      "metadata": {
        "colab": {
          "base_uri": "https://localhost:8080/"
        },
        "id": "Nlg4XBCvyNsq",
        "outputId": "9f6fde23-53b7-4fdb-f18c-42c5771a08fc"
      },
      "execution_count": null,
      "outputs": [
        {
          "output_type": "stream",
          "name": "stdout",
          "text": [
            "시작 토큰 번호 : [8276]\n",
            "종료 토큰 번호 : [8277]\n",
            "단어 집합의 크기 : 8278\n"
          ]
        }
      ]
    },
    {
      "cell_type": "code",
      "source": [
        "# 서브워드텍스트인코더 토크나이저의 .encode()와 .decode() 테스트해보기\n",
        "# 임의의 입력 문장을 sample_string에 저장\n",
        "sample_string = questions[20]\n",
        "\n",
        "# encode() : 텍스트 시퀀스 --> 정수 시퀀스\n",
        "tokenized_string = tokenizer.encode(sample_string)\n",
        "print ('정수 인코딩 후의 문장 {}'.format(tokenized_string))\n",
        "\n",
        "# decode() : 정수 시퀀스 --> 텍스트 시퀀스\n",
        "original_string = tokenizer.decode(tokenized_string)\n",
        "print ('기존 문장: {}'.format(original_string))"
      ],
      "metadata": {
        "colab": {
          "base_uri": "https://localhost:8080/"
        },
        "id": "-UzZ5F2Qyw2t",
        "outputId": "b9a96851-8f39-4355-b192-e08d987f0d5a"
      },
      "execution_count": null,
      "outputs": [
        {
          "output_type": "stream",
          "name": "stdout",
          "text": [
            "정수 인코딩 후의 문장 [5407, 1975, 1938, 1469, 19, 4, 197, 3683, 1232, 2, 37, 91, 4617, 6480, 3234, 3044, 6, 34, 1]\n",
            "기존 문장: 지난주에 주식이 폭락해서 너무 큰 손해를 봤어 .  어떻게 해야 좋을지 모르겠고 정신이 나갈 것 같아 .\n"
          ]
        }
      ]
    },
    {
      "cell_type": "code",
      "source": [
        "# 각 정수는 각 단어와 어떻게 mapping되는지 병렬로 출력\n",
        "# 서브워드텍스트인코더는 의미있는 단위의 서브워드로 토크나이징한다. 띄어쓰기 단위 X 형태소 분석 단위 X\n",
        "for ts in tokenized_string:\n",
        "  print ('{} ----> {}'.format(ts, tokenizer.decode([ts])))"
      ],
      "metadata": {
        "colab": {
          "base_uri": "https://localhost:8080/"
        },
        "id": "VIxTWZdgy3hU",
        "outputId": "77a2f3a8-7fdf-4c2f-c618-abb2718e703e"
      },
      "execution_count": null,
      "outputs": [
        {
          "output_type": "stream",
          "name": "stdout",
          "text": [
            "5407 ----> 지난주에 \n",
            "1975 ----> 주식이 \n",
            "1938 ----> 폭\n",
            "1469 ----> 락\n",
            "19 ----> 해서 \n",
            "4 ----> 너무 \n",
            "197 ----> 큰 \n",
            "3683 ----> 손해를 \n",
            "1232 ----> 봤어\n",
            "2 ---->  .  \n",
            "37 ----> 어떻게 \n",
            "91 ----> 해야 \n",
            "4617 ----> 좋을지 \n",
            "6480 ----> 모르겠고 \n",
            "3234 ----> 정신이 \n",
            "3044 ----> 나갈 \n",
            "6 ----> 것 \n",
            "34 ----> 같아\n",
            "1 ---->  .\n"
          ]
        }
      ]
    },
    {
      "cell_type": "code",
      "source": [
        "# 최대 길이를 40으로 정의\n",
        "MAX_LENGTH = 40\n",
        "\n",
        "# 토큰화 / 정수 인코딩 / 시작 토큰과 종료 토큰 추가 / 패딩\n",
        "def tokenize_and_filter(inputs, outputs):\n",
        "  tokenized_inputs, tokenized_outputs = [], []\n",
        "\n",
        "  for (sentence1, sentence2) in zip(inputs, outputs):\n",
        "    # encode(토큰화 + 정수 인코딩), 시작 토큰과 종료 토큰 추가\n",
        "    sentence1 = START_TOKEN + tokenizer.encode(sentence1) + END_TOKEN\n",
        "    sentence2 = START_TOKEN + tokenizer.encode(sentence2) + END_TOKEN\n",
        "\n",
        "    tokenized_inputs.append(sentence1)\n",
        "    tokenized_outputs.append(sentence2)\n",
        "\n",
        "  # 패딩\n",
        "  tokenized_inputs = tf.keras.preprocessing.sequence.pad_sequences(\n",
        "      tokenized_inputs, maxlen=MAX_LENGTH, padding='post')\n",
        "  tokenized_outputs = tf.keras.preprocessing.sequence.pad_sequences(\n",
        "      tokenized_outputs, maxlen=MAX_LENGTH, padding='post')\n",
        "\n",
        "  return tokenized_inputs, tokenized_outputs"
      ],
      "metadata": {
        "id": "UE5VGMSVy7I4"
      },
      "execution_count": null,
      "outputs": []
    },
    {
      "cell_type": "code",
      "source": [
        "questions, answers = tokenize_and_filter(questions, answers)"
      ],
      "metadata": {
        "id": "1XIcUZpNy-Cx"
      },
      "execution_count": null,
      "outputs": []
    },
    {
      "cell_type": "code",
      "source": [
        "print('질문 데이터의 크기(shape) :', questions.shape)\n",
        "print('답변 데이터의 크기(shape) :', answers.shape)"
      ],
      "metadata": {
        "colab": {
          "base_uri": "https://localhost:8080/"
        },
        "id": "GsZZgrT8zKKG",
        "outputId": "7adf62d1-e43d-4622-dea6-26d0bce54a22"
      },
      "execution_count": null,
      "outputs": [
        {
          "output_type": "stream",
          "name": "stdout",
          "text": [
            "질문 데이터의 크기(shape) : (45777, 40)\n",
            "답변 데이터의 크기(shape) : (45777, 40)\n"
          ]
        }
      ]
    },
    {
      "cell_type": "code",
      "source": [
        "questions[20]"
      ],
      "metadata": {
        "colab": {
          "base_uri": "https://localhost:8080/"
        },
        "id": "9_JcpF5TzhBT",
        "outputId": "d5c4d035-8162-4364-e427-0e53974fb1a3"
      },
      "execution_count": null,
      "outputs": [
        {
          "output_type": "execute_result",
          "data": {
            "text/plain": [
              "array([8276, 5407, 1975, 1938, 1469,   19,    4,  197, 3683, 1232,    2,\n",
              "         37,   91, 4617, 6480, 3234, 3044,    6,   34,    1, 8277,    0,\n",
              "          0,    0,    0,    0,    0,    0,    0,    0,    0,    0,    0,\n",
              "          0,    0,    0,    0,    0,    0,    0], dtype=int32)"
            ]
          },
          "metadata": {},
          "execution_count": 59
        }
      ]
    },
    {
      "cell_type": "markdown",
      "source": [
        "- 오늘까지 전처리, 패딩까지 끝내놓고\n",
        "- 내일 트랜스포머, 바트임배딩을 이용한 해보기"
      ],
      "metadata": {
        "id": "-lnB-6pusi01"
      }
    },
    {
      "cell_type": "markdown",
      "source": [
        "# 모델 구현"
      ],
      "metadata": {
        "id": "kQFPlcN4AYEr"
      }
    },
    {
      "cell_type": "markdown",
      "source": [
        "## transformer 구현- 다시 복습"
      ],
      "metadata": {
        "id": "6EKUdgF--JFn"
      }
    },
    {
      "cell_type": "code",
      "source": [
        "class PositionalEncoding(tf.keras.layers.Layer):\n",
        "  def __init__(self, position, d_model):\n",
        "    super(PositionalEncoding, self).__init__()\n",
        "    self.pos_encoding = self.positional_encoding(position, d_model) \n",
        "\n",
        "  def get_config(self):\n",
        "        config = super().get_config().copy()\n",
        "        return config  \n",
        "\n",
        "  def get_angles(self, position, i, d_model):\n",
        "    angles = 1 / tf.pow(10000, (2 * (i // 2)) / tf.cast(d_model, tf.float32))\n",
        "    return position * angles\n",
        "\n",
        "  def positional_encoding(self, position, d_model):\n",
        "    angle_rads = self.get_angles(\n",
        "        position=tf.range(position, dtype=tf.float32)[:, tf.newaxis],\n",
        "        i=tf.range(d_model, dtype=tf.float32)[tf.newaxis, :],\n",
        "        d_model=d_model)\n",
        "\n",
        "    # 배열의 짝수 인덱스(2i)에는 사인 함수 적용\n",
        "    sines = tf.math.sin(angle_rads[:, 0::2])\n",
        "\n",
        "    # 배열의 홀수 인덱스(2i+1)에는 코사인 함수 적용\n",
        "    cosines = tf.math.cos(angle_rads[:, 1::2])\n",
        "\n",
        "    angle_rads = np.zeros(angle_rads.shape)\n",
        "    angle_rads[:, 0::2] = sines\n",
        "    angle_rads[:, 1::2] = cosines\n",
        "    pos_encoding = tf.constant(angle_rads)\n",
        "    pos_encoding = pos_encoding[tf.newaxis, ...]\n",
        "\n",
        "    print(pos_encoding.shape)\n",
        "    return tf.cast(pos_encoding, tf.float32)\n",
        "\n",
        "  def call(self, inputs):\n",
        "    return inputs + self.pos_encoding[:, :tf.shape(inputs)[1], :]"
      ],
      "metadata": {
        "id": "5gq0huK2G40w"
      },
      "execution_count": null,
      "outputs": []
    },
    {
      "cell_type": "code",
      "source": [
        "def create_padding_mask(x):\n",
        "  mask = tf.cast(tf.math.equal(x, 0), tf.float32)\n",
        "  # (batch_size, 1, 1, key의 문장 길이)\n",
        "  return mask[:, tf.newaxis, tf.newaxis, :]"
      ],
      "metadata": {
        "id": "vHcLIgEM_IiJ"
      },
      "execution_count": null,
      "outputs": []
    },
    {
      "cell_type": "code",
      "source": [
        "def create_look_ahead_mask(x):\n",
        "  seq_len = tf.shape(x)[1]\n",
        "  look_ahead_mask = 1 - tf.linalg.band_part(tf.ones((seq_len, seq_len)), -1, 0)\n",
        "  padding_mask = create_padding_mask(x) # 패딩 마스크도 포함\n",
        "  return tf.maximum(look_ahead_mask, padding_mask)"
      ],
      "metadata": {
        "id": "pHQ340Qt_fFR"
      },
      "execution_count": null,
      "outputs": []
    },
    {
      "cell_type": "code",
      "source": [
        "def scaled_dot_product_attention(query, key, value, mask):\n",
        "\n",
        "  # Q와 K의 곱. 어텐션 스코어 행렬.\n",
        "  matmul_qk = tf.matmul(query, key, transpose_b=True)\n",
        "\n",
        "  # 스케일링\n",
        "  # dk의 루트값으로 나눠준다.\n",
        "  depth = tf.cast(tf.shape(key)[-1], tf.float32)\n",
        "  logits = matmul_qk / tf.math.sqrt(depth)\n",
        "\n",
        "  # 마스킹. 어텐션 스코어 행렬의 마스킹 할 위치에 매우 작은 음수값을 넣는다.\n",
        "  # 매우 작은 값이므로 소프트맥스 함수를 지나면 행렬의 해당 위치의 값은 0이 된다.\n",
        "  if mask is not None:\n",
        "    logits += (mask * -1e9)\n",
        "\n",
        "  # 소프트맥스 함수는 마지막 차원인 key의 문장 길이 방향으로 수행된다.\n",
        "  # attention weight : (batch_size, num_heads, query의 문장 길이, key의 문장 길이)\n",
        "  attention_weights = tf.nn.softmax(logits, axis=-1)\n",
        "\n",
        "  # output : (batch_size, num_heads, query의 문장 길이, d_model/num_heads)\n",
        "  output = tf.matmul(attention_weights, value)\n",
        "\n",
        "  return output, attention_weights"
      ],
      "metadata": {
        "id": "IwPbvMy0k0ju"
      },
      "execution_count": null,
      "outputs": []
    },
    {
      "cell_type": "code",
      "source": [
        "class MultiHeadAttention(tf.keras.layers.Layer):\n",
        "\n",
        "  def __init__(self, d_model, num_heads, name=\"multi_head_attention\"):\n",
        "    super(MultiHeadAttention, self).__init__(name=name)\n",
        "    self.num_heads = num_heads\n",
        "    self.d_model = d_model\n",
        "\n",
        "    assert d_model % self.num_heads == 0\n",
        "\n",
        "    # d_model을 num_heads로 나눈 값.\n",
        "    # 논문 기준 : 64\n",
        "    self.depth = d_model // self.num_heads\n",
        "\n",
        "    # WQ, WK, WV에 해당하는 밀집층 정의\n",
        "    self.query_dense = tf.keras.layers.Dense(units=d_model)\n",
        "    self.key_dense = tf.keras.layers.Dense(units=d_model)\n",
        "    self.value_dense = tf.keras.layers.Dense(units=d_model)\n",
        "\n",
        "    # WO에 해당하는 밀집층 정의\n",
        "    self.dense = tf.keras.layers.Dense(units=d_model)\n",
        "\n",
        "  def get_config(self):\n",
        "        config = super().get_config().copy()\n",
        "        return config  \n",
        "\n",
        "\n",
        "  # num_heads 개수만큼 q, k, v를 split하는 함수\n",
        "  def split_heads(self, inputs, batch_size):\n",
        "    inputs = tf.reshape(\n",
        "        inputs, shape=(batch_size, -1, self.num_heads, self.depth))\n",
        "    return tf.transpose(inputs, perm=[0, 2, 1, 3])\n",
        "\n",
        "  def call(self, inputs):\n",
        "    query, key, value, mask = inputs['query'], inputs['key'], inputs[\n",
        "        'value'], inputs['mask']\n",
        "    batch_size = tf.shape(query)[0]\n",
        "\n",
        "    # 참고) 인코더(k, v)-디코더(q) 어텐션에서는 query 길이와 key, value의 길이는 다를 수 있다.\n",
        "    query = self.query_dense(query)\n",
        "    key = self.key_dense(key)\n",
        "    value = self.value_dense(value)\n",
        "\n",
        "    query = self.split_heads(query, batch_size)\n",
        "    key = self.split_heads(key, batch_size)\n",
        "    value = self.split_heads(value, batch_size)\n",
        "\n",
        "    # 3. 스케일드 닷 프로덕트 어텐션. 앞서 구현한 함수 사용.\n",
        "    # (batch_size, num_heads, query의 문장 길이, d_model/num_heads)\n",
        "    scaled_attention, _ = scaled_dot_product_attention(query, key, value, mask)\n",
        "    # (batch_size, query의 문장 길이, num_heads, d_model/num_heads)\n",
        "    scaled_attention = tf.transpose(scaled_attention, perm=[0, 2, 1, 3])\n",
        "\n",
        "    # 4. 헤드 연결(concatenate)하기\n",
        "    # (batch_size, query의 문장 길이, d_model)\n",
        "    concat_attention = tf.reshape(scaled_attention,\n",
        "                                  (batch_size, -1, self.d_model))\n",
        "\n",
        "    # 5. WO에 해당하는 밀집층 지나기\n",
        "    # (batch_size, query의 문장 길이, d_model)\n",
        "    outputs = self.dense(concat_attention)\n",
        "\n",
        "    return outputs"
      ],
      "metadata": {
        "id": "IJLgr1Xsi1Zx"
      },
      "execution_count": null,
      "outputs": []
    },
    {
      "cell_type": "code",
      "source": [
        "def encoder_layer(dff, d_model, num_heads, dropout, name=\"encoder_layer\"):\n",
        "  inputs = tf.keras.Input(shape=(None, d_model), name=\"inputs\")\n",
        "\n",
        "  # 인코더는 패딩 마스크 사용\n",
        "  padding_mask = tf.keras.Input(shape=(1, 1, None), name=\"padding_mask\")\n",
        "\n",
        "  # 멀티-헤드 어텐션 (첫번째 서브층 / 셀프 어텐션)\n",
        "  attention = MultiHeadAttention(\n",
        "      d_model, num_heads, name=\"attention\")({\n",
        "          'query': inputs, 'key': inputs, 'value': inputs, # Q = K = V\n",
        "          'mask': padding_mask # 패딩 마스크 사용\n",
        "      })\n",
        "\n",
        "  # 드롭아웃 + 잔차 연결과 층 정규화\n",
        "  attention = tf.keras.layers.Dropout(rate=dropout)(attention)\n",
        "  attention = tf.keras.layers.LayerNormalization(\n",
        "      epsilon=1e-6)(inputs + attention)\n",
        "\n",
        "  # 포지션 와이즈 피드 포워드 신경망 (두번째 서브층)\n",
        "  outputs = tf.keras.layers.Dense(units=dff, activation='relu')(attention)\n",
        "  outputs = tf.keras.layers.Dense(units=d_model)(outputs)\n",
        "\n",
        "  # 드롭아웃 + 잔차 연결과 층 정규화\n",
        "  outputs = tf.keras.layers.Dropout(rate=dropout)(outputs)\n",
        "  outputs = tf.keras.layers.LayerNormalization(\n",
        "      epsilon=1e-6)(attention + outputs)\n",
        "\n",
        "  return tf.keras.Model(\n",
        "      inputs=[inputs, padding_mask], outputs=outputs, name=name)"
      ],
      "metadata": {
        "id": "lKuDr6qCa-qw"
      },
      "execution_count": null,
      "outputs": []
    },
    {
      "cell_type": "code",
      "source": [
        "#num_layer개 만큼 인코더 쌓고 마지막층에 행렬을 디코더로 보내주는 코드\n",
        "def encoder(vocab_size, num_layers, dff,\n",
        "            d_model, num_heads, dropout,\n",
        "            name=\"encoder\"):\n",
        "  inputs = tf.keras.Input(shape=(None,), name=\"inputs\")\n",
        "\n",
        "  # 인코더는 패딩 마스크 사용\n",
        "  padding_mask = tf.keras.Input(shape=(1, 1, None), name=\"padding_mask\")\n",
        "\n",
        "  # 포지셔널 인코딩 + 드롭아웃\n",
        "  embeddings = tf.keras.layers.Embedding(vocab_size, d_model)(inputs)\n",
        "  embeddings *= tf.math.sqrt(tf.cast(d_model, tf.float32))\n",
        "  embeddings = PositionalEncoding(vocab_size, d_model)(embeddings)\n",
        "  outputs = tf.keras.layers.Dropout(rate=dropout)(embeddings)\n",
        "\n",
        "  # 인코더를 num_layers개 쌓기\n",
        "  for i in range(num_layers):\n",
        "    outputs = encoder_layer(dff=dff, d_model=d_model, num_heads=num_heads,\n",
        "        dropout=dropout, name=\"encoder_layer_{}\".format(i),\n",
        "    )([outputs, padding_mask])\n",
        "\n",
        "  return tf.keras.Model(\n",
        "      inputs=[inputs, padding_mask], outputs=outputs, name=name)"
      ],
      "metadata": {
        "id": "FzI-5bwhDC4I"
      },
      "execution_count": null,
      "outputs": []
    },
    {
      "cell_type": "code",
      "source": [
        "def decoder_layer(dff, d_model, num_heads, dropout, name=\"decoder_layer\"):\n",
        "  inputs = tf.keras.Input(shape=(None, d_model), name=\"inputs\")\n",
        "  enc_outputs = tf.keras.Input(shape=(None, d_model), name=\"encoder_outputs\")\n",
        "\n",
        "  # 룩어헤드 마스크(첫번째 서브층)\n",
        "  look_ahead_mask = tf.keras.Input(\n",
        "      shape=(1, None, None), name=\"look_ahead_mask\")\n",
        "\n",
        "  # 패딩 마스크(두번째 서브층)\n",
        "  padding_mask = tf.keras.Input(shape=(1, 1, None), name='padding_mask')\n",
        "\n",
        "  # 멀티-헤드 어텐션 (첫번째 서브층 / 마스크드 셀프 어텐션)\n",
        "  attention1 = MultiHeadAttention(\n",
        "      d_model, num_heads, name=\"attention_1\")(inputs={\n",
        "          'query': inputs, 'key': inputs, 'value': inputs, # Q = K = V\n",
        "          'mask': look_ahead_mask # 룩어헤드 마스크\n",
        "      })\n",
        "\n",
        "  # 잔차 연결과 층 정규화\n",
        "  attention1 = tf.keras.layers.LayerNormalization(\n",
        "      epsilon=1e-6)(attention1 + inputs)\n",
        "\n",
        "  # 멀티-헤드 어텐션 (두번째 서브층 / 디코더-인코더 어텐션)\n",
        "  attention2 = MultiHeadAttention(\n",
        "      d_model, num_heads, name=\"attention_2\")(inputs={\n",
        "          'query': attention1, 'key': enc_outputs, 'value': enc_outputs, # Q != K = V\n",
        "          'mask': padding_mask # 패딩 마스크\n",
        "      })\n",
        "\n",
        "  # 드롭아웃 + 잔차 연결과 층 정규화\n",
        "  attention2 = tf.keras.layers.Dropout(rate=dropout)(attention2)\n",
        "  attention2 = tf.keras.layers.LayerNormalization(\n",
        "      epsilon=1e-6)(attention2 + attention1)\n",
        "\n",
        "  # 포지션 와이즈 피드 포워드 신경망 (세번째 서브층)\n",
        "  outputs = tf.keras.layers.Dense(units=dff, activation='relu')(attention2)\n",
        "  outputs = tf.keras.layers.Dense(units=d_model)(outputs)\n",
        "\n",
        "  # 드롭아웃 + 잔차 연결과 층 정규화\n",
        "  outputs = tf.keras.layers.Dropout(rate=dropout)(outputs)\n",
        "  outputs = tf.keras.layers.LayerNormalization(\n",
        "      epsilon=1e-6)(outputs + attention2)\n",
        "\n",
        "  return tf.keras.Model(\n",
        "      inputs=[inputs, enc_outputs, look_ahead_mask, padding_mask],\n",
        "      outputs=outputs,\n",
        "      name=name)"
      ],
      "metadata": {
        "id": "yyphWXSZqVUE"
      },
      "execution_count": null,
      "outputs": []
    },
    {
      "cell_type": "code",
      "source": [
        "def decoder(vocab_size, num_layers, dff,\n",
        "            d_model, num_heads, dropout,\n",
        "            name='decoder'):\n",
        "  inputs = tf.keras.Input(shape=(None,), name='inputs')\n",
        "  enc_outputs = tf.keras.Input(shape=(None, d_model), name='encoder_outputs')\n",
        "\n",
        "  # 디코더는 룩어헤드 마스크(첫번째 서브층)와 패딩 마스크(두번째 서브층) 둘 다 사용.\n",
        "  look_ahead_mask = tf.keras.Input(\n",
        "      shape=(1, None, None), name='look_ahead_mask')\n",
        "  padding_mask = tf.keras.Input(shape=(1, 1, None), name='padding_mask')\n",
        "\n",
        "  # 포지셔널 인코딩 + 드롭아웃\n",
        "  embeddings = tf.keras.layers.Embedding(vocab_size, d_model)(inputs)\n",
        "  embeddings *= tf.math.sqrt(tf.cast(d_model, tf.float32))\n",
        "  embeddings = PositionalEncoding(vocab_size, d_model)(embeddings)\n",
        "  outputs = tf.keras.layers.Dropout(rate=dropout)(embeddings)\n",
        "\n",
        "  # 디코더를 num_layers개 쌓기\n",
        "  for i in range(num_layers):\n",
        "    outputs = decoder_layer(dff=dff, d_model=d_model, num_heads=num_heads,\n",
        "        dropout=dropout, name='decoder_layer_{}'.format(i),\n",
        "    )(inputs=[outputs, enc_outputs, look_ahead_mask, padding_mask])\n",
        "\n",
        "  return tf.keras.Model(\n",
        "      inputs=[inputs, enc_outputs, look_ahead_mask, padding_mask],\n",
        "      outputs=outputs,\n",
        "      name=name)"
      ],
      "metadata": {
        "id": "Sp4Lnfdsq7WU"
      },
      "execution_count": null,
      "outputs": []
    },
    {
      "cell_type": "code",
      "source": [
        "def transformer(vocab_size, num_layers, dff,\n",
        "                d_model, num_heads, dropout,\n",
        "                name=\"transformer\"):\n",
        "\n",
        "  # 인코더의 입력\n",
        "  inputs = tf.keras.Input(shape=(None,), name=\"inputs\")\n",
        "\n",
        "  # 디코더의 입력\n",
        "  dec_inputs = tf.keras.Input(shape=(None,), name=\"dec_inputs\")\n",
        "\n",
        "  # 인코더의 패딩 마스크\n",
        "  enc_padding_mask = tf.keras.layers.Lambda(\n",
        "      create_padding_mask, output_shape=(1, 1, None),\n",
        "      name='enc_padding_mask')(inputs)\n",
        "\n",
        "  # 디코더의 룩어헤드 마스크(첫번째 서브층)\n",
        "  look_ahead_mask = tf.keras.layers.Lambda(\n",
        "      create_look_ahead_mask, output_shape=(1, None, None),\n",
        "      name='look_ahead_mask')(dec_inputs)\n",
        "\n",
        "  # 디코더의 패딩 마스크(두번째 서브층)\n",
        "  dec_padding_mask = tf.keras.layers.Lambda(\n",
        "      create_padding_mask, output_shape=(1, 1, None),\n",
        "      name='dec_padding_mask')(inputs)\n",
        "\n",
        "  # 인코더의 출력은 enc_outputs. 디코더로 전달된다.\n",
        "  enc_outputs = encoder(vocab_size=vocab_size, num_layers=num_layers, dff=dff,\n",
        "      d_model=d_model, num_heads=num_heads, dropout=dropout,\n",
        "  )(inputs=[inputs, enc_padding_mask]) # 인코더의 입력은 입력 문장과 패딩 마스크\n",
        "\n",
        "  # 디코더의 출력은 dec_outputs. 출력층으로 전달된다.\n",
        "  dec_outputs = decoder(vocab_size=vocab_size, num_layers=num_layers, dff=dff,\n",
        "      d_model=d_model, num_heads=num_heads, dropout=dropout,\n",
        "  )(inputs=[dec_inputs, enc_outputs, look_ahead_mask, dec_padding_mask])\n",
        "\n",
        "  # 다음 단어 예측을 위한 출력층\n",
        "  outputs = tf.keras.layers.Dense(units=vocab_size, name=\"outputs\")(dec_outputs)\n",
        "\n",
        "  return tf.keras.Model(inputs=[inputs, dec_inputs], outputs=outputs, name=name)"
      ],
      "metadata": {
        "id": "4_JPufV4-u5U"
      },
      "execution_count": null,
      "outputs": []
    },
    {
      "cell_type": "code",
      "source": [
        "def loss_function(y_true, y_pred):\n",
        "  y_true = tf.reshape(y_true, shape=(-1, MAX_LENGTH - 1))\n",
        "\n",
        "  loss = tf.keras.losses.SparseCategoricalCrossentropy(\n",
        "      from_logits=True, reduction='none')(y_true, y_pred)\n",
        "\n",
        "  mask = tf.cast(tf.not_equal(y_true, 0), tf.float32)\n",
        "  loss = tf.multiply(loss, mask)\n",
        "\n",
        "  return tf.reduce_mean(loss)"
      ],
      "metadata": {
        "id": "9JwoePAziqVC"
      },
      "execution_count": null,
      "outputs": []
    },
    {
      "cell_type": "code",
      "source": [
        "class CustomSchedule(tf.keras.optimizers.schedules.LearningRateSchedule):\n",
        "\n",
        "  def __init__(self, d_model, warmup_steps=4000):\n",
        "    super(CustomSchedule, self).__init__()\n",
        "    self.d_model = d_model\n",
        "    self.d_model = tf.cast(self.d_model, tf.float32)\n",
        "    self.warmup_steps = warmup_steps\n",
        "\n",
        "  def get_config(self):\n",
        "    config = {\n",
        "    'd_model': self.d_model,\n",
        "    'warmup_steps': self.warmup_steps,\n",
        "\n",
        "     }\n",
        "    return config\n",
        "  def __call__(self, step):\n",
        "    arg1 = tf.math.rsqrt(step)\n",
        "    arg2 = step * (self.warmup_steps**-1.5)\n",
        "\n",
        "    return tf.math.rsqrt(self.d_model) * tf.math.minimum(arg1, arg2)"
      ],
      "metadata": {
        "id": "cnutRZwRiism"
      },
      "execution_count": null,
      "outputs": []
    },
    {
      "cell_type": "markdown",
      "source": [
        "## transformer 챗봇 "
      ],
      "metadata": {
        "id": "j6hXY5LxATE6"
      }
    },
    {
      "cell_type": "code",
      "source": [
        "BATCH_SIZE = 64\n",
        "BUFFER_SIZE = 20000\n",
        "\n",
        "# 디코더의 실제값 시퀀스에서는 시작 토큰을 제거해야 한다.\n",
        "dataset = tf.data.Dataset.from_tensor_slices((\n",
        "    {\n",
        "        'inputs': questions,\n",
        "        'dec_inputs': answers[:, :-1] # 디코더의 입력. 마지막 패딩 토큰이 제거된다.\n",
        "    },\n",
        "    {\n",
        "        'outputs': answers[:, 1:]  # 맨 처음 토큰이 제거된다. 다시 말해 시작 토큰이 제거된다.\n",
        "    },\n",
        "))\n",
        "\n",
        "dataset = dataset.cache()\n",
        "dataset = dataset.shuffle(BUFFER_SIZE)\n",
        "dataset = dataset.batch(BATCH_SIZE)\n",
        "dataset = dataset.prefetch(tf.data.experimental.AUTOTUNE)"
      ],
      "metadata": {
        "id": "7tEsY7KI-NTH"
      },
      "execution_count": null,
      "outputs": []
    },
    {
      "cell_type": "code",
      "source": [
        "\n",
        "\n",
        "\n",
        "# memory footprint support libraries/code\n",
        "!ln -sf /opt/bin/nvidia-smi /usr/bin/nvidia-smi\n",
        "!pip install gputil\n",
        "!pip install psutil\n",
        "!pip install humanize\n",
        "\n",
        "import psutil\n",
        "import humanize\n",
        "import os\n",
        "import GPUtil as GPU\n",
        "\n",
        "GPUs = GPU.getGPUs()\n",
        "# XXX: only one GPU on Colab and isn’t guaranteed\n",
        "gpu = GPUs[0]\n",
        "def printm():\n",
        "    process = psutil.Process(os.getpid())\n",
        "    print(\"Gen RAM Free: \" + humanize.naturalsize(psutil.virtual_memory().available), \" |     Proc size: \" + humanize.naturalsize(process.memory_info().rss))\n",
        "    print(\"GPU RAM Free: {0:.0f}MB | Used: {1:.0f}MB | Util {2:3.0f}% | Total     {3:.0f}MB\".format(gpu.memoryFree, gpu.memoryUsed, gpu.memoryUtil*100, gpu.memoryTotal))\n",
        "printm()"
      ],
      "metadata": {
        "id": "kCQ3k7L0cVLK",
        "outputId": "e83f8007-e5c3-4bc8-d6b9-c3a30f9c06f0",
        "colab": {
          "base_uri": "https://localhost:8080/"
        }
      },
      "execution_count": null,
      "outputs": [
        {
          "output_type": "stream",
          "name": "stdout",
          "text": [
            "Collecting gputil\n",
            "  Downloading GPUtil-1.4.0.tar.gz (5.5 kB)\n",
            "Building wheels for collected packages: gputil\n",
            "  Building wheel for gputil (setup.py) ... \u001b[?25l\u001b[?25hdone\n",
            "  Created wheel for gputil: filename=GPUtil-1.4.0-py3-none-any.whl size=7411 sha256=ea44a6c4548ba6626a251475e4edda3cf075c31d4dae0303043059f7d3bf9699\n",
            "  Stored in directory: /root/.cache/pip/wheels/6e/f8/83/534c52482d6da64622ddbf72cd93c35d2ef2881b78fd08ff0c\n",
            "Successfully built gputil\n",
            "Installing collected packages: gputil\n",
            "Successfully installed gputil-1.4.0\n",
            "Requirement already satisfied: psutil in /usr/local/lib/python3.7/dist-packages (5.4.8)\n",
            "Requirement already satisfied: humanize in /usr/local/lib/python3.7/dist-packages (0.5.1)\n",
            "Gen RAM Free: 25.4 GB  |     Proc size: 2.6 GB\n",
            "GPU RAM Free: 15903MB | Used: 377MB | Util   2% | Total     16280MB\n"
          ]
        }
      ]
    },
    {
      "cell_type": "code",
      "source": [
        "D_MODEL = 256\n",
        "NUM_LAYERS = 2\n",
        "NUM_HEADS = 8\n",
        "DFF = 512\n",
        "DROPOUT = 0.1\n",
        "\n",
        "model = transformer(\n",
        "    vocab_size=VOCAB_SIZE,\n",
        "    num_layers=NUM_LAYERS,\n",
        "    dff=DFF,\n",
        "    d_model=D_MODEL,\n",
        "    num_heads=NUM_HEADS,\n",
        "    dropout=DROPOUT)"
      ],
      "metadata": {
        "colab": {
          "base_uri": "https://localhost:8080/"
        },
        "id": "sXzuzkQ1-T5T",
        "outputId": "a2fff076-9129-4114-806b-f4bf41b1510f"
      },
      "execution_count": null,
      "outputs": [
        {
          "output_type": "stream",
          "name": "stdout",
          "text": [
            "(1, 8278, 256)\n",
            "(1, 8278, 256)\n"
          ]
        }
      ]
    },
    {
      "cell_type": "code",
      "source": [
        "learning_rate = CustomSchedule(D_MODEL)\n",
        "\n",
        "optimizer = tf.keras.optimizers.Adam(\n",
        "    learning_rate, beta_1=0.9, beta_2=0.98, epsilon=1e-9)\n",
        "\n",
        "def accuracy(y_true, y_pred):\n",
        "  # 레이블의 크기는 (batch_size, MAX_LENGTH - 1)\n",
        "  y_true = tf.reshape(y_true, shape=(-1, MAX_LENGTH - 1))\n",
        "  return tf.keras.metrics.sparse_categorical_accuracy(y_true, y_pred)\n",
        "\n",
        "model.compile(optimizer=optimizer, loss=loss_function, metrics=[accuracy])"
      ],
      "metadata": {
        "id": "aFxxOW_8-WNq"
      },
      "execution_count": null,
      "outputs": []
    },
    {
      "cell_type": "code",
      "source": [
        "EPOCHS = 50\n",
        "model.fit(dataset, epochs=EPOCHS)"
      ],
      "metadata": {
        "id": "3wAGjgSZ-XLi",
        "colab": {
          "base_uri": "https://localhost:8080/"
        },
        "outputId": "6bb727a1-0b76-4b1c-9541-40354dcd2b93"
      },
      "execution_count": null,
      "outputs": [
        {
          "output_type": "stream",
          "name": "stdout",
          "text": [
            "Epoch 1/50\n",
            "716/716 [==============================] - 52s 60ms/step - loss: 1.9881 - accuracy: 0.0417\n",
            "Epoch 2/50\n",
            "716/716 [==============================] - 43s 60ms/step - loss: 1.4394 - accuracy: 0.0767\n",
            "Epoch 3/50\n",
            "716/716 [==============================] - 43s 60ms/step - loss: 1.2153 - accuracy: 0.0912\n",
            "Epoch 4/50\n",
            "716/716 [==============================] - 43s 60ms/step - loss: 1.0496 - accuracy: 0.1024\n",
            "Epoch 5/50\n",
            "716/716 [==============================] - 43s 60ms/step - loss: 0.9293 - accuracy: 0.1109\n",
            "Epoch 6/50\n",
            "716/716 [==============================] - 43s 60ms/step - loss: 0.8408 - accuracy: 0.1185\n",
            "Epoch 7/50\n",
            "716/716 [==============================] - 43s 60ms/step - loss: 0.7425 - accuracy: 0.1289\n",
            "Epoch 8/50\n",
            "716/716 [==============================] - 43s 60ms/step - loss: 0.6463 - accuracy: 0.1413\n",
            "Epoch 9/50\n",
            "716/716 [==============================] - 43s 60ms/step - loss: 0.5648 - accuracy: 0.1535\n",
            "Epoch 10/50\n",
            "716/716 [==============================] - 43s 60ms/step - loss: 0.4939 - accuracy: 0.1651\n",
            "Epoch 11/50\n",
            "716/716 [==============================] - 43s 60ms/step - loss: 0.4345 - accuracy: 0.1755\n",
            "Epoch 12/50\n",
            "716/716 [==============================] - 43s 59ms/step - loss: 0.3835 - accuracy: 0.1853\n",
            "Epoch 13/50\n",
            "716/716 [==============================] - 43s 59ms/step - loss: 0.3397 - accuracy: 0.1941\n",
            "Epoch 14/50\n",
            "716/716 [==============================] - 43s 59ms/step - loss: 0.3026 - accuracy: 0.2018\n",
            "Epoch 15/50\n",
            "716/716 [==============================] - 43s 59ms/step - loss: 0.2707 - accuracy: 0.2089\n",
            "Epoch 16/50\n",
            "716/716 [==============================] - 43s 60ms/step - loss: 0.2441 - accuracy: 0.2147\n",
            "Epoch 17/50\n",
            "716/716 [==============================] - 43s 59ms/step - loss: 0.2207 - accuracy: 0.2204\n",
            "Epoch 18/50\n",
            "716/716 [==============================] - 43s 60ms/step - loss: 0.2009 - accuracy: 0.2252\n",
            "Epoch 19/50\n",
            "716/716 [==============================] - 43s 60ms/step - loss: 0.1840 - accuracy: 0.2294\n",
            "Epoch 20/50\n",
            "716/716 [==============================] - 43s 59ms/step - loss: 0.1692 - accuracy: 0.2332\n",
            "Epoch 21/50\n",
            "716/716 [==============================] - 42s 59ms/step - loss: 0.1563 - accuracy: 0.2365\n",
            "Epoch 22/50\n",
            "716/716 [==============================] - 42s 59ms/step - loss: 0.1450 - accuracy: 0.2395\n",
            "Epoch 23/50\n",
            "716/716 [==============================] - 43s 59ms/step - loss: 0.1350 - accuracy: 0.2423\n",
            "Epoch 24/50\n",
            "716/716 [==============================] - 43s 59ms/step - loss: 0.1260 - accuracy: 0.2447\n",
            "Epoch 25/50\n",
            "716/716 [==============================] - 42s 59ms/step - loss: 0.1185 - accuracy: 0.2468\n",
            "Epoch 26/50\n",
            "716/716 [==============================] - 42s 59ms/step - loss: 0.1112 - accuracy: 0.2488\n",
            "Epoch 27/50\n",
            "716/716 [==============================] - 43s 59ms/step - loss: 0.1055 - accuracy: 0.2504\n",
            "Epoch 28/50\n",
            "716/716 [==============================] - 43s 60ms/step - loss: 0.0990 - accuracy: 0.2524\n",
            "Epoch 29/50\n",
            "716/716 [==============================] - 43s 60ms/step - loss: 0.0944 - accuracy: 0.2538\n",
            "Epoch 30/50\n",
            "716/716 [==============================] - 43s 59ms/step - loss: 0.0901 - accuracy: 0.2548\n",
            "Epoch 31/50\n",
            "716/716 [==============================] - 43s 60ms/step - loss: 0.0862 - accuracy: 0.2561\n",
            "Epoch 32/50\n",
            "716/716 [==============================] - 42s 59ms/step - loss: 0.0822 - accuracy: 0.2572\n",
            "Epoch 33/50\n",
            "716/716 [==============================] - 43s 60ms/step - loss: 0.0782 - accuracy: 0.2585\n",
            "Epoch 34/50\n",
            "716/716 [==============================] - 42s 59ms/step - loss: 0.0753 - accuracy: 0.2592\n",
            "Epoch 35/50\n",
            "716/716 [==============================] - 43s 59ms/step - loss: 0.0730 - accuracy: 0.2599\n",
            "Epoch 36/50\n",
            "716/716 [==============================] - 43s 59ms/step - loss: 0.0697 - accuracy: 0.2609\n",
            "Epoch 37/50\n",
            "716/716 [==============================] - 43s 59ms/step - loss: 0.0674 - accuracy: 0.2617\n",
            "Epoch 38/50\n",
            "716/716 [==============================] - 43s 60ms/step - loss: 0.0652 - accuracy: 0.2623\n",
            "Epoch 39/50\n",
            "716/716 [==============================] - 43s 59ms/step - loss: 0.0630 - accuracy: 0.2629\n",
            "Epoch 40/50\n",
            "716/716 [==============================] - 42s 59ms/step - loss: 0.0609 - accuracy: 0.2636\n",
            "Epoch 41/50\n",
            "716/716 [==============================] - 42s 59ms/step - loss: 0.0587 - accuracy: 0.2643\n",
            "Epoch 42/50\n",
            "716/716 [==============================] - 42s 59ms/step - loss: 0.0574 - accuracy: 0.2648\n",
            "Epoch 43/50\n",
            "716/716 [==============================] - 42s 59ms/step - loss: 0.0558 - accuracy: 0.2652\n",
            "Epoch 44/50\n",
            "716/716 [==============================] - 43s 59ms/step - loss: 0.0540 - accuracy: 0.2657\n",
            "Epoch 45/50\n",
            "716/716 [==============================] - 43s 60ms/step - loss: 0.0525 - accuracy: 0.2662\n",
            "Epoch 46/50\n",
            "716/716 [==============================] - 43s 60ms/step - loss: 0.0512 - accuracy: 0.2666\n",
            "Epoch 47/50\n",
            "716/716 [==============================] - 43s 60ms/step - loss: 0.0496 - accuracy: 0.2670\n",
            "Epoch 48/50\n",
            "716/716 [==============================] - 43s 60ms/step - loss: 0.0485 - accuracy: 0.2673\n",
            "Epoch 49/50\n",
            "716/716 [==============================] - 43s 60ms/step - loss: 0.0475 - accuracy: 0.2676\n",
            "Epoch 50/50\n",
            "716/716 [==============================] - 43s 60ms/step - loss: 0.0464 - accuracy: 0.2681\n"
          ]
        },
        {
          "output_type": "execute_result",
          "data": {
            "text/plain": [
              "<keras.callbacks.History at 0x7f4b1835ee90>"
            ]
          },
          "metadata": {},
          "execution_count": 48
        }
      ]
    },
    {
      "cell_type": "code",
      "source": [
        "sample_learning_rate = CustomSchedule(d_model=128)\n",
        "\n",
        "plt.plot(sample_learning_rate(tf.range(200000, dtype=tf.float32)))\n",
        "plt.ylabel(\"Learning Rate\")\n",
        "plt.xlabel(\"Train Step\")"
      ],
      "metadata": {
        "colab": {
          "base_uri": "https://localhost:8080/",
          "height": 297
        },
        "id": "u6lB-LPBlLg3",
        "outputId": "0891c1a9-ecaa-4064-cae8-1323d4d5274f"
      },
      "execution_count": null,
      "outputs": [
        {
          "output_type": "execute_result",
          "data": {
            "text/plain": [
              "Text(0.5, 0, 'Train Step')"
            ]
          },
          "metadata": {},
          "execution_count": 49
        },
        {
          "output_type": "display_data",
          "data": {
            "image/png": "[encoded data removed]",
            "text/plain": [
              "<Figure size 432x288 with 1 Axes>"
            ]
          },
          "metadata": {
            "needs_background": "light"
          }
        }
      ]
    },
    {
      "cell_type": "code",
      "source": [
        "def preprocess_sentence(sentence):\n",
        "  sentence = re.sub(r\"([?.!,])\", r\"\", sentence)\n",
        "  sentence = sentence.strip()\n",
        "  return sentence"
      ],
      "metadata": {
        "id": "8FcRC4eni7ai"
      },
      "execution_count": null,
      "outputs": []
    },
    {
      "cell_type": "code",
      "source": [
        "def evaluate(sentence):\n",
        "  sentence = preprocess_sentence(sentence)\n",
        "\n",
        "  sentence = tf.expand_dims(\n",
        "      START_TOKEN + tokenizer.encode(sentence) + END_TOKEN, axis=0)\n",
        "\n",
        "  output = tf.expand_dims(START_TOKEN, 0)\n",
        "\n",
        "  for i in range(MAX_LENGTH):\n",
        "    predictions = model(inputs=[sentence, output], training=False)\n",
        "\n",
        "\n",
        "    predictions = predictions[:, -1:, :]\n",
        "    predicted_id = tf.cast(tf.argmax(predictions, axis=-1), tf.int32)\n",
        "\n",
        "    if tf.equal(predicted_id, END_TOKEN[0]):\n",
        "      break\n",
        "\n",
        "    output = tf.concat([output, predicted_id], axis=-1)\n",
        "\n",
        "  return tf.squeeze(output, axis=0)"
      ],
      "metadata": {
        "id": "rM9Y5THTi-wq"
      },
      "execution_count": null,
      "outputs": []
    },
    {
      "cell_type": "code",
      "source": [
        "def predict(sentence):\n",
        "  prediction = evaluate(sentence)\n",
        "\n",
        "  predicted_sentence = tokenizer.decode(\n",
        "      [i for i in prediction if i < tokenizer.vocab_size])\n",
        "\n",
        "  #print('Input: {}'.format(sentence))\n",
        "  print('chatbot: {}'.format(predicted_sentence))\n",
        "\n",
        "  return predicted_sentence"
      ],
      "metadata": {
        "id": "ERVVqSDrjBAq"
      },
      "execution_count": null,
      "outputs": []
    },
    {
      "cell_type": "markdown",
      "source": [
        "# 건들지 마셈"
      ],
      "metadata": {
        "id": "-UXxxyJuZPvk"
      }
    },
    {
      "cell_type": "code",
      "source": [
        "output = predict(\"엄마 때문에 너무 화나\")"
      ],
      "metadata": {
        "id": "kAg9q97H4NQL",
        "colab": {
          "base_uri": "https://localhost:8080/"
        },
        "outputId": "dd0300ee-211b-4dad-a852-3437062ff37a"
      },
      "execution_count": null,
      "outputs": [
        {
          "output_type": "stream",
          "name": "stdout",
          "text": [
            "chatbot: 어머니 때문에 화가 나신 일이 있군요 .\n"
          ]
        }
      ]
    },
    {
      "cell_type": "code",
      "source": [
        "output = predict(\"자살생각이 계속 들어\")"
      ],
      "metadata": {
        "colab": {
          "base_uri": "https://localhost:8080/"
        },
        "id": "9qPFmyScyUTr",
        "outputId": "61e87a0e-4ca9-40f6-b07d-0514ed6da9b7"
      },
      "execution_count": null,
      "outputs": [
        {
          "output_type": "stream",
          "name": "stdout",
          "text": [
            "chatbot: 그런 생각이 드신 이유가 있나요 ?\n"
          ]
        }
      ]
    },
    {
      "cell_type": "code",
      "source": [
        "output = predict(\"대박이야\")"
      ],
      "metadata": {
        "id": "iSDPBmQJlGuo",
        "outputId": "47e3f974-5d98-45c1-8451-89e746ac7b88",
        "colab": {
          "base_uri": "https://localhost:8080/"
        }
      },
      "execution_count": null,
      "outputs": [
        {
          "output_type": "stream",
          "name": "stdout",
          "text": [
            "chatbot: 대박이군요 .  무슨 일인가요 ?\n"
          ]
        }
      ]
    },
    {
      "cell_type": "code",
      "source": [
        "output = predict(\"취업때문에 너무 스트레스 받아\")"
      ],
      "metadata": {
        "id": "0rdRIKgYY9zI",
        "outputId": "1684b868-b579-4319-9d9d-1bfcdb5cad11",
        "colab": {
          "base_uri": "https://localhost:8080/"
        }
      },
      "execution_count": null,
      "outputs": [
        {
          "output_type": "stream",
          "name": "stdout",
          "text": [
            "chatbot: 취업 때문에 스트레스가 많으시군요 .  어떤 시험이었나요 ?\n"
          ]
        }
      ]
    },
    {
      "cell_type": "markdown",
      "source": [
        "Layer PositionalEncoding has arguments in `__init__` and therefore must override `get_config`오류\n",
        ": https://lsjsj92.tistory.com/598"
      ],
      "metadata": {
        "id": "EltzFJaJzdfm"
      }
    },
    {
      "cell_type": "markdown",
      "source": [
        "## BERT 챗봇"
      ],
      "metadata": {
        "id": "PiNIx0MfBa5F"
      }
    },
    {
      "cell_type": "code",
      "source": [
        "model_2 = SentenceTransformer('sentence-transformers/xlm-r-100langs-bert-base-nli-stsb-mean-tokens')"
      ],
      "metadata": {
        "id": "FAxR5ix9BwiP",
        "colab": {
          "base_uri": "https://localhost:8080/",
          "height": 401,
          "referenced_widgets": [
            "286a2959577543a4b5750f800019c997",
            "e14b9cb7b2a841a0987bd0bc28239a25",
            "1a3a56c574f842818a3138afa01f78f4",
            "cea7bb8225564c35858ee9bf7b27ca95",
            "f7822dc2a15b4b749126599a24526c85",
            "acb443e8708149e5b9efe5ae3c117644",
            "c174e877c22b44559c441bdd0d1fb328",
            "524ecfdc8f37405499d0eff06880802a",
            "a36ba97ad97344b896ee1885f8844508",
            "b04ca35a580e4fcd8f43b1433afde42c",
            "f2c71e05087942cd9b5007743d5a68fa",
            "e8c3d35a4270485d99fb7a36a8356353",
            "96079b50762f48a6807b9b8aa1755be1",
            "cdd90f4967f244709c8e8e2a6d6d3662",
            "ab86c4eeb8f14723b4da9fddd262f422",
            "181dfcea22d74729ac108bf874437baa",
            "31db65b3308c4db8902d6510d4528ed1",
            "21f6bf7ede5b4e56ba8d4358ecf5e283",
            "23a9373264654d45b65bf6653d150240",
            "e814d69ea1a8433cad1d8e7e05ed5e25",
            "ea23fb4a0eda4bca923a52814c4cb9b8",
            "d00086d608694786a3ba80ae3fa6913a",
            "3dadc9806b024767aafb9ac773858b31",
            "490aadd70f2a44679cd2ff551ae28374",
            "ddef5ddf31e74f188e2ace14d020152e",
            "e09d5e8468454836add90def4fda7495",
            "21ff1ac162694a2d858430303db0dde6",
            "11ef1dfe7cbc44ffb2b6f18e89cfc16e",
            "ef7c4ef68d8941a4bea34fb7427e2d9c",
            "bd624834c69344d68063e72783e3cd1c",
            "6e6d264d98124a329ef4b311055582a9",
            "d4134253d1c844c0a729608038a76355",
            "34689f602e5e41bbbc0f1c7903dc8887",
            "79b6a0446eba474a8d2d022114977f47",
            "7816450c94a6436c921abbef20873957",
            "eff949091b7e4100ae6e6e9b8d48e2fe",
            "2cff3b915cb74cbe84236f16d2bdd275",
            "06e26c1a2c564dc7a22d3a963d5f3710",
            "3c7718e509ac42c19e44105ede27dfa2",
            "54d0784eed0b4308b2c77147f1e506cc",
            "cccf234276e34e0c924f4fc134454502",
            "105c979ec747402bae37476762481c79",
            "f633ad78c28748458e4500c10e8e00f8",
            "73914db749f44708b9428ead8600e23a",
            "b6e41e26fce54b2f8e8860eb2b80fb8a",
            "a95ea439e0e84c29a82a27fed063cc3f",
            "857b61812cab4594a71cedf801137bf1",
            "e8e109a4ab9045b584ff31dfa12dc944",
            "b7a7189cb7c34a29bdd1323dd2a906bb",
            "b21a0e2906904cb2b635c350f26a597b",
            "9348ba6d925e43e797dd45132f299d45",
            "0af849a7f3aa4034b37802dd58e123f9",
            "a7b561884cc2480e93687c5bc3cb910e",
            "987bbb5d81c54010b2bcc8ac12ef5faa",
            "d4a68da5b29b4415a856ba1e176c565f",
            "92e346cc45d945928c09f16c06492207",
            "7f8d24ee7fee4e1d8fd47462fccb7166",
            "056a2b7c87a74bbaae876020499b850d",
            "d7ca3892c8c84ed49cbee48363594a4d",
            "b3f88384212d4dbab2deeadd4675f617",
            "0a9b39f3ea4a400e9c7699cd0620b179",
            "cdfb82b4152f4861ac67cb46c253a918",
            "ac0efbdb5bee4df1be3b04a0448c95c5",
            "cf5a00dc53e247f88dd0fbd14bbc8b08",
            "3a9a85504aca440cb500be7dffc59181",
            "aee35126fbde4bcabb7cf24d385cb15b",
            "ecae87e9d9d34a10a0713cd9b3c0adc0",
            "c02fa456a32d4f19b422e8884602c8f2",
            "1f9ebfdd8288470db3424cd1bdcf4dec",
            "0d728233bf964cf4a80cfd91339403d2",
            "ed811b3d9f5e4e27a4e5b96fa15a26b7",
            "9a647bcd4cc94fb880798372cd193e50",
            "82a55afe270540449d34fc31dfae181c",
            "6a24b332c7cc470bbcc9d32a419e4d3d",
            "0da9d8f1a1114b1fb93bc05049c7a5dc",
            "1b693de8f17a4a3398be075e4d5a776e",
            "b4f28a0754da4a6a82d65088594cdbcd",
            "632c1563f4f140d9adf9937440d659df",
            "c499dcc98ec74039881a1d303c7d50b4",
            "f7d7646ce05a4ec09212415d82ae4a41",
            "59ddfb631ab2470ebd6912e2b299ac26",
            "388ab0ea167b4e03882300b6ba36d619",
            "6e07a26f1d5f44869b844d3cf9652b07",
            "1c45eec2198f4dfaaafa16ee2fe2d74b",
            "df2449680158484f86d5a35d077fddbb",
            "fc62c8c54ebd422ea8d78c058450086e",
            "4bb44a60ef414fe3a066656e59bd7d9d",
            "d24b989e7adb4e48b21b5aaa5ecdd26c",
            "842e9c17f6034b2390d444094fd85c06",
            "a5c8ce850f4e41b1818ad88abaaac31e",
            "a83c6620fd95433db91e4288ee0be6f3",
            "b2115ca4cd684b1fb19f84942ab31035",
            "46273f79e45c4fe8aca50864472a0e60",
            "f01f27758e7a41cf844bb15299336d9b",
            "137364e6c90647fba2faba6b957f7116",
            "409878d585f4460eb053381a14a1e1b5",
            "22d582714dcf4247a58ae54577440977",
            "0ddfee0d20264293b8fffbfd160f1cc7",
            "1c35e9352ac14b439fda925249c36a41",
            "8be924136f5a45c6b6c5e4a76b51a7b4",
            "e8bb8e2d6a0c40f28e7859bf45739654",
            "b63bd68e5ff646f4a82afd068d580b2b",
            "2d1225da3f0c4b2892add325a782d530",
            "2b8b22f5f61e4ecd865bdcf50349c339",
            "b80dcc3883274475bd01508888d5972d",
            "c7b7aec967414ddf83a3832045ba981d",
            "0054de0900624c2188941ad8e393e957",
            "cbca47d101644f80aa1b6f608b000d92",
            "344133db5bb5494a95ff681c82b05c09",
            "fdcac9c81731450b9261c08f201ac82a",
            "62a6cdf95be44427ac79a6398b5d2747",
            "c6914fae0304410fa4d858d690a003a2",
            "e7e6a21c4ecc4b388285c84a8a318fe6",
            "db56f495ea7448d6bced51918655854e",
            "ae63369f958242bbae9d7f70fd0cd0dc",
            "1c037ce31042496592059eba98775a84",
            "c708089485704c26a77dca5c9ae4413a",
            "0b0c2ea7341f49459abb91fc6ac1ebb0",
            "c12164fbe466451293dd10c6302cb28b",
            "23b625d454ae40eeb349a0b8e2eea297",
            "b2e5409b30ae47159af0815a4550e551",
            "173399efaf974c0f834b4ab9b6643ea8",
            "2a91562c9481425d88ac5d07cfb01070",
            "0a237af571594f36b06c1eef1d1a250f",
            "9362b5c64cb44cf7a4ffd6ca75a05c95",
            "33969ac5d72243b3a16fce6601b8240a",
            "5d9ac26e64ce4cabb7ea566dd543e396",
            "2f09ffb544a74952b7f5e36ad2ef44bc",
            "1c4fefdcd6ea4ab1a39fe7d49012ba21",
            "e70d24cd6b574bbc9693203d37b25015",
            "9a3fec2fe0f440c7a4210ab9e5f50be2",
            "88109992e8074f748e550e1d88fdc715"
          ]
        },
        "outputId": "bbccb37a-3c17-4451-cd3a-424e6218ddf9"
      },
      "execution_count": null,
      "outputs": [
        {
          "output_type": "display_data",
          "data": {
            "application/vnd.jupyter.widget-view+json": {
              "model_id": "286a2959577543a4b5750f800019c997",
              "version_minor": 0,
              "version_major": 2
            },
            "text/plain": [
              "Downloading:   0%|          | 0.00/574 [00:00<?, ?B/s]"
            ]
          },
          "metadata": {}
        },
        {
          "output_type": "display_data",
          "data": {
            "application/vnd.jupyter.widget-view+json": {
              "model_id": "e8c3d35a4270485d99fb7a36a8356353",
              "version_minor": 0,
              "version_major": 2
            },
            "text/plain": [
              "Downloading:   0%|          | 0.00/4.06k [00:00<?, ?B/s]"
            ]
          },
          "metadata": {}
        },
        {
          "output_type": "display_data",
          "data": {
            "application/vnd.jupyter.widget-view+json": {
              "model_id": "3dadc9806b024767aafb9ac773858b31",
              "version_minor": 0,
              "version_major": 2
            },
            "text/plain": [
              "Downloading:   0%|          | 0.00/731 [00:00<?, ?B/s]"
            ]
          },
          "metadata": {}
        },
        {
          "output_type": "display_data",
          "data": {
            "application/vnd.jupyter.widget-view+json": {
              "model_id": "79b6a0446eba474a8d2d022114977f47",
              "version_minor": 0,
              "version_major": 2
            },
            "text/plain": [
              "Downloading:   0%|          | 0.00/122 [00:00<?, ?B/s]"
            ]
          },
          "metadata": {}
        },
        {
          "output_type": "display_data",
          "data": {
            "application/vnd.jupyter.widget-view+json": {
              "model_id": "b6e41e26fce54b2f8e8860eb2b80fb8a",
              "version_minor": 0,
              "version_major": 2
            },
            "text/plain": [
              "Downloading:   0%|          | 0.00/229 [00:00<?, ?B/s]"
            ]
          },
          "metadata": {}
        },
        {
          "output_type": "display_data",
          "data": {
            "application/vnd.jupyter.widget-view+json": {
              "model_id": "92e346cc45d945928c09f16c06492207",
              "version_minor": 0,
              "version_major": 2
            },
            "text/plain": [
              "Downloading:   0%|          | 0.00/1.11G [00:00<?, ?B/s]"
            ]
          },
          "metadata": {}
        },
        {
          "output_type": "display_data",
          "data": {
            "application/vnd.jupyter.widget-view+json": {
              "model_id": "ecae87e9d9d34a10a0713cd9b3c0adc0",
              "version_minor": 0,
              "version_major": 2
            },
            "text/plain": [
              "Downloading:   0%|          | 0.00/53.0 [00:00<?, ?B/s]"
            ]
          },
          "metadata": {}
        },
        {
          "output_type": "display_data",
          "data": {
            "application/vnd.jupyter.widget-view+json": {
              "model_id": "632c1563f4f140d9adf9937440d659df",
              "version_minor": 0,
              "version_major": 2
            },
            "text/plain": [
              "Downloading:   0%|          | 0.00/5.07M [00:00<?, ?B/s]"
            ]
          },
          "metadata": {}
        },
        {
          "output_type": "display_data",
          "data": {
            "application/vnd.jupyter.widget-view+json": {
              "model_id": "842e9c17f6034b2390d444094fd85c06",
              "version_minor": 0,
              "version_major": 2
            },
            "text/plain": [
              "Downloading:   0%|          | 0.00/150 [00:00<?, ?B/s]"
            ]
          },
          "metadata": {}
        },
        {
          "output_type": "display_data",
          "data": {
            "application/vnd.jupyter.widget-view+json": {
              "model_id": "8be924136f5a45c6b6c5e4a76b51a7b4",
              "version_minor": 0,
              "version_major": 2
            },
            "text/plain": [
              "Downloading:   0%|          | 0.00/9.10M [00:00<?, ?B/s]"
            ]
          },
          "metadata": {}
        },
        {
          "output_type": "display_data",
          "data": {
            "application/vnd.jupyter.widget-view+json": {
              "model_id": "62a6cdf95be44427ac79a6398b5d2747",
              "version_minor": 0,
              "version_major": 2
            },
            "text/plain": [
              "Downloading:   0%|          | 0.00/527 [00:00<?, ?B/s]"
            ]
          },
          "metadata": {}
        },
        {
          "output_type": "display_data",
          "data": {
            "application/vnd.jupyter.widget-view+json": {
              "model_id": "173399efaf974c0f834b4ab9b6643ea8",
              "version_minor": 0,
              "version_major": 2
            },
            "text/plain": [
              "Downloading:   0%|          | 0.00/190 [00:00<?, ?B/s]"
            ]
          },
          "metadata": {}
        }
      ]
    },
    {
      "cell_type": "code",
      "source": [
        "df['embedding'] = df.apply(lambda row: model_2.encode(row.유저), axis = 1)"
      ],
      "metadata": {
        "id": "afxgVJlFCDWy"
      },
      "execution_count": null,
      "outputs": []
    },
    {
      "cell_type": "code",
      "source": [
        "def cos_sim(A, B):\n",
        "  return dot(A, B)/(norm(A)*norm(B))"
      ],
      "metadata": {
        "id": "S9q-hWrEBoCP"
      },
      "execution_count": null,
      "outputs": []
    },
    {
      "cell_type": "code",
      "source": [
        "def return_answer(question):\n",
        "    embedding = model_2.encode(question)\n",
        "    df['score'] = df.apply(lambda x: cos_sim(x['embedding'], embedding), axis=1)\n",
        "    re =df.loc[df['score'].idxmax()]['챗봇']\n",
        "    print(re)"
      ],
      "metadata": {
        "id": "KgUi7bQ1CMSJ"
      },
      "execution_count": null,
      "outputs": []
    },
    {
      "cell_type": "code",
      "source": [
        "return_answer('죽고싶다')"
      ],
      "metadata": {
        "colab": {
          "base_uri": "https://localhost:8080/"
        },
        "id": "dH8fMqwQdU1g",
        "outputId": "ca07c176-f1e8-4fa6-94d8-8a6b2085fe69"
      },
      "execution_count": null,
      "outputs": [
        {
          "output_type": "stream",
          "name": "stdout",
          "text": [
            "전문가와 상담을 받아보신 적이 있나요? 힘이 들 땐 도움을 받는 게 좋아요.\n"
          ]
        }
      ]
    },
    {
      "cell_type": "code",
      "source": [
        "return_answer('자살할래')"
      ],
      "metadata": {
        "colab": {
          "base_uri": "https://localhost:8080/"
        },
        "id": "paTnJ6h4dmVM",
        "outputId": "83815b05-ddc2-4389-f75f-6e8e5815d308"
      },
      "execution_count": null,
      "outputs": [
        {
          "output_type": "stream",
          "name": "stdout",
          "text": [
            "오늘은 삶의 그래프를 한번 그려보면 어때요? 늘 안 좋은 일만 있었던 건 아닐 거예요.\n"
          ]
        }
      ]
    },
    {
      "cell_type": "code",
      "source": [
        "return_answer('답이 없어') # 1"
      ],
      "metadata": {
        "colab": {
          "base_uri": "https://localhost:8080/"
        },
        "id": "GcYhyHhOibKl",
        "outputId": "ebefe63f-5bd6-49a9-aacd-c8cc86e2b610"
      },
      "execution_count": null,
      "outputs": [
        {
          "output_type": "stream",
          "name": "stdout",
          "text": [
            "힘드신가 봐요. 무슨 일 있으세요?\n"
          ]
        }
      ]
    },
    {
      "cell_type": "code",
      "source": [
        "return_answer('집에 큰일이 생겼어') # 2"
      ],
      "metadata": {
        "colab": {
          "base_uri": "https://localhost:8080/"
        },
        "id": "8vvtyKJ-ifCh",
        "outputId": "459f649b-11e9-4509-9403-95c840cb420e"
      },
      "execution_count": null,
      "outputs": [
        {
          "output_type": "stream",
          "name": "stdout",
          "text": [
            "마음이 힘드시겠어요.\n"
          ]
        }
      ]
    },
    {
      "cell_type": "code",
      "source": [
        "return_answer('너무 힘들어') #3"
      ],
      "metadata": {
        "colab": {
          "base_uri": "https://localhost:8080/"
        },
        "id": "rM4bbiOLimLR",
        "outputId": "c64b3f8b-9874-457d-c84c-a016a7170a73"
      },
      "execution_count": null,
      "outputs": [
        {
          "output_type": "stream",
          "name": "stdout",
          "text": [
            "많이 곤란하셨을 거 같아요.\n"
          ]
        }
      ]
    },
    {
      "cell_type": "code",
      "source": [
        "pip freeze > requirements.txt"
      ],
      "metadata": {
        "id": "wcNaHhqZNHdn"
      },
      "execution_count": null,
      "outputs": []
    },
    {
      "cell_type": "markdown",
      "source": [
        "## 다중분류 모델(Bert)"
      ],
      "metadata": {
        "id": "75WxDtsRhpA_"
      }
    },
    {
      "cell_type": "code",
      "source": [
        "device = torch.device(\"cuda:0\") # #GPU 사용"
      ],
      "metadata": {
        "id": "XJDG4OUSm9DZ"
      },
      "execution_count": null,
      "outputs": []
    },
    {
      "cell_type": "code",
      "source": [
        "bertmodel, vocab = get_pytorch_kobert_model() #BERT 모델, Vocabulary 불러오기"
      ],
      "metadata": {
        "colab": {
          "base_uri": "https://localhost:8080/"
        },
        "id": "6td4pw4Lm9_d",
        "outputId": "4df7b1e6-98f7-4837-ebdc-c0d3281ae54e"
      },
      "execution_count": null,
      "outputs": [
        {
          "output_type": "stream",
          "name": "stdout",
          "text": [
            "/content/.cache/kobert_v1.zip[██████████████████████████████████████████████████]\n",
            "/content/.cache/kobert_news_wiki_ko_cased-1087f8699e.spiece[██████████████████████████████████████████████████]\n"
          ]
        }
      ]
    },
    {
      "cell_type": "code",
      "source": [
        "from sklearn.model_selection import train_test_split"
      ],
      "metadata": {
        "id": "CVwfuw63o3DV"
      },
      "execution_count": null,
      "outputs": []
    },
    {
      "cell_type": "code",
      "source": [
        "train, test = train_test_split(df, test_size= 0.2, random_state=1234)"
      ],
      "metadata": {
        "id": "1tL6cbMtnAWD"
      },
      "execution_count": null,
      "outputs": []
    },
    {
      "cell_type": "code",
      "source": [
        "data_train = []\n",
        "for a, label in zip(train['유저'], train['구분']):\n",
        "    data1 = []\n",
        "    data1.append(a)\n",
        "    data1.append(str(label))\n",
        "\n",
        "    data_train.append(data1)\n",
        "\n",
        "data_test = []\n",
        "for b, label2 in zip(test['유저'], test['구분']):\n",
        "    data2 = []\n",
        "    data2.append(b)\n",
        "    data2.append(str(label2))\n",
        "\n",
        "    data_test.append(data2)"
      ],
      "metadata": {
        "id": "L3XklWS0pM4z"
      },
      "execution_count": null,
      "outputs": []
    },
    {
      "cell_type": "code",
      "source": [
        "# koBERT 입력\n",
        "class BERTDataset(Dataset):\n",
        "    def __init__(self, dataset, sent_idx, label_idx, bert_tokenizer, max_len,\n",
        "                 pad, pair):\n",
        "        transform = nlp.data.BERTSentenceTransform(\n",
        "            bert_tokenizer, max_seq_length=max_len, pad=pad, pair=pair)\n",
        "\n",
        "        self.sentences = [transform([i[sent_idx]]) for i in dataset]\n",
        "        self.labels = [np.int32(i[label_idx]) for i in dataset]\n",
        "\n",
        "    def __getitem__(self, i):\n",
        "        return (self.sentences[i] + (self.labels[i], ))\n",
        "\n",
        "    def __len__(self):\n",
        "        return (len(self.labels))"
      ],
      "metadata": {
        "id": "m77EsurAqDa5"
      },
      "execution_count": null,
      "outputs": []
    },
    {
      "cell_type": "code",
      "source": [
        "max_len = 20\n",
        "batch_size = 64\n",
        "warmup_ratio = 0.1\n",
        "num_epochs = 5\n",
        "max_grad_norm = 1\n",
        "log_interval = 200\n",
        "learning_rate =  5e-5\n",
        "\n",
        "#토큰화\n",
        "tokenizer2 = get_tokenizer()\n",
        "tok = nlp.data.BERTSPTokenizer(tokenizer2, vocab, lower=False)\n",
        "\n",
        "data_train = BERTDataset(data_train, 0, 1, tok, max_len, True, False)\n",
        "data_test = BERTDataset(data_test, 0, 1, tok, max_len, True, False)"
      ],
      "metadata": {
        "colab": {
          "base_uri": "https://localhost:8080/"
        },
        "id": "iaHop-XzqFbs",
        "outputId": "3cb26b6b-1f81-42c0-de35-9779e27616d3"
      },
      "execution_count": null,
      "outputs": [
        {
          "output_type": "stream",
          "name": "stdout",
          "text": [
            "using cached model. /content/.cache/kobert_news_wiki_ko_cased-1087f8699e.spiece\n"
          ]
        }
      ]
    },
    {
      "cell_type": "code",
      "source": [
        "train_dataloader = torch.utils.data.DataLoader(data_train, batch_size=batch_size, num_workers=5)\n",
        "test_dataloader = torch.utils.data.DataLoader(data_test, batch_size=batch_size, num_workers=5)"
      ],
      "metadata": {
        "colab": {
          "base_uri": "https://localhost:8080/"
        },
        "id": "zdXHH_WbqY53",
        "outputId": "4bc1812d-b23e-4652-bad0-d5244348fa7e"
      },
      "execution_count": null,
      "outputs": [
        {
          "output_type": "stream",
          "name": "stderr",
          "text": [
            "/usr/local/lib/python3.7/dist-packages/torch/utils/data/dataloader.py:481: UserWarning: This DataLoader will create 5 worker processes in total. Our suggested max number of worker in current system is 4, which is smaller than what this DataLoader is going to create. Please be aware that excessive worker creation might get DataLoader running slow or even freeze, lower the worker number to avoid potential slowness/freeze if necessary.\n",
            "  cpuset_checked))\n"
          ]
        }
      ]
    },
    {
      "cell_type": "code",
      "source": [
        "class BERTClassifier(nn.Module):\n",
        "    def __init__(self,\n",
        "                 bert,\n",
        "                 hidden_size = 768,\n",
        "                 num_classes=360,   ##클래스 수 조정##\n",
        "                 dr_rate=None,\n",
        "                 params=None):\n",
        "        super(BERTClassifier, self).__init__()\n",
        "        self.bert = bert\n",
        "        self.dr_rate = dr_rate\n",
        "                 \n",
        "        self.classifier = nn.Linear(hidden_size , num_classes)\n",
        "        if dr_rate:\n",
        "            self.dropout = nn.Dropout(p=dr_rate)\n",
        "    \n",
        "    def gen_attention_mask(self, token_ids, valid_length):\n",
        "        attention_mask = torch.zeros_like(token_ids)\n",
        "        for i, v in enumerate(valid_length):\n",
        "            attention_mask[i][:v] = 1\n",
        "        return attention_mask.float()\n",
        "\n",
        "    def forward(self, token_ids, valid_length, segment_ids):\n",
        "        attention_mask = self.gen_attention_mask(token_ids, valid_length)\n",
        "        \n",
        "        _, pooler = self.bert(input_ids = token_ids, token_type_ids = segment_ids.long(), attention_mask = attention_mask.float().to(token_ids.device))\n",
        "        if self.dr_rate:\n",
        "            out = self.dropout(pooler)\n",
        "            \n",
        "        return self.classifier(out)"
      ],
      "metadata": {
        "id": "lJE9oNZGqa7q"
      },
      "execution_count": null,
      "outputs": []
    },
    {
      "cell_type": "code",
      "source": [
        "#BERT 모델 불러오기\n",
        "model3 = BERTClassifier(bertmodel,  dr_rate=0.5).to(device)\n",
        "\n",
        "#optimizer와 schedule 설정\n",
        "no_decay = ['bias', 'LayerNorm.weight']\n",
        "optimizer_grouped_parameters = [\n",
        "    {'params': [p for n, p in model3.named_parameters() if not any(nd in n for nd in no_decay)], 'weight_decay': 0.01},\n",
        "    {'params': [p for n, p in model3.named_parameters() if any(nd in n for nd in no_decay)], 'weight_decay': 0.0}\n",
        "]\n",
        "\n",
        "optimizer = AdamW(optimizer_grouped_parameters, lr=learning_rate)\n",
        "loss_fn = nn.CrossEntropyLoss()\n",
        "\n",
        "t_total = len(train_dataloader) * num_epochs\n",
        "warmup_step = int(t_total * warmup_ratio)\n",
        "\n",
        "scheduler = get_cosine_schedule_with_warmup(optimizer, num_warmup_steps=warmup_step, num_training_steps=t_total)\n",
        "\n",
        "#정확도 측정을 위한 함수 정의\n",
        "def calc_accuracy(X,Y):\n",
        "    max_vals, max_indices = torch.max(X, 1)\n",
        "    train_acc = (max_indices == Y).sum().data.cpu().numpy()/max_indices.size()[0]\n",
        "    return train_acc\n",
        "    \n",
        "train_dataloader"
      ],
      "metadata": {
        "id": "r7o_9cJUqkpL",
        "outputId": "9d05f734-c7e1-41c3-c26a-1dc8f598a461",
        "colab": {
          "base_uri": "https://localhost:8080/"
        }
      },
      "execution_count": null,
      "outputs": [
        {
          "output_type": "execute_result",
          "data": {
            "text/plain": [
              "<torch.utils.data.dataloader.DataLoader at 0x7f4a7c7e5690>"
            ]
          },
          "metadata": {},
          "execution_count": 76
        }
      ]
    },
    {
      "cell_type": "code",
      "source": [
        "for e in range(num_epochs):\n",
        "    train_acc = 0.0\n",
        "    test_acc = 0.0\n",
        "    model3.train()\n",
        "    for batch_id, (token_ids, valid_length, segment_ids, label) in enumerate(tqdm_notebook(train_dataloader)):\n",
        "        optimizer.zero_grad()\n",
        "        token_ids = token_ids.long().to(device)\n",
        "        segment_ids = segment_ids.long().to(device)\n",
        "        valid_length= valid_length\n",
        "        label = label.long().to(device)\n",
        "        out = model3(token_ids, valid_length, segment_ids)\n",
        "        loss = loss_fn(out, label)\n",
        "        loss.backward()\n",
        "        torch.nn.utils.clip_grad_norm_(model3.parameters(), max_grad_norm)\n",
        "        optimizer.step()\n",
        "        scheduler.step()  # Update learning rate schedule\n",
        "        train_acc += calc_accuracy(out, label)\n",
        "        if batch_id % log_interval == 0:\n",
        "            print(\"epoch {} batch id {} loss {} train acc {}\".format(e+1, batch_id+1, loss.data.cpu().numpy(), train_acc / (batch_id+1)))\n",
        "    print(\"epoch {} train acc {}\".format(e+1, train_acc / (batch_id+1)))\n",
        "    \n",
        "    model3.eval()\n",
        "    for batch_id, (token_ids, valid_length, segment_ids, label) in enumerate(tqdm_notebook(test_dataloader)):\n",
        "        token_ids = token_ids.long().to(device)\n",
        "        segment_ids = segment_ids.long().to(device)\n",
        "        valid_length= valid_length\n",
        "        label = label.long().to(device)\n",
        "        out = model3(token_ids, valid_length, segment_ids)\n",
        "        test_acc += calc_accuracy(out, label)\n",
        "    print(\"epoch {} test acc {}\".format(e+1, test_acc / (batch_id+1)))\n"
      ],
      "metadata": {
        "id": "K5mS0wDAqxAm"
      },
      "execution_count": null,
      "outputs": []
    },
    {
      "cell_type": "markdown",
      "source": [
        "![image.png](data:image/png;base64,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)"
      ],
      "metadata": {
        "id": "qWakWO7vOP2K"
      }
    },
    {
      "cell_type": "markdown",
      "source": [
        "( 지금은 GPU 오류로 인해 안되고 있어 전에 모델 돌린 결과 올림)"
      ],
      "metadata": {
        "id": "xfaeRpjYOYTv"
      }
    },
    {
      "cell_type": "code",
      "source": [
        "# 새로운 문장 테스트\n",
        "tokenizer2 = get_tokenizer()\n",
        "tok = nlp.data.BERTSPTokenizer(tokenizer2, vocab, lower=False)\n",
        "bye =[20, 74 ,103,104, 108,110,111,112,113,114,115,118,119,124,133,135,137,140,141,142,151,170,173,174,175 ,176, 177, 179, 180, 181, 182, 183,184,185,186,187,188,189,190,191,192,197,199,200,201, 203, 205,207, 209, 213,214, 216, 220,221,222, 223, 227,231, 233,234,235,236,237,238,240,245,254,255, 256, 351,352,353,354,355]\n",
        "famliy = [9, 34,92,93,94,120,121,122,123,125,126,127,128,129,130, 152,153,154,155,156,157,158,159,161,162,163]\n",
        "violence = [131,170, 178]\n",
        "youth= [246,247,248,249,250, 251]\n",
        "work= [224, 225,226, 228,229, 230, 232]\n",
        "def predict2(predict_sentence):\n",
        "\n",
        "    data = [predict_sentence, '0']\n",
        "    dataset_another = [data]\n",
        "\n",
        "    another_test = BERTDataset(dataset_another, 0, 1, tok, max_len, True, False)\n",
        "    test_dataloader = torch.utils.data.DataLoader(another_test, batch_size=batch_size, num_workers=5)\n",
        "    \n",
        "    model3.eval()\n",
        "\n",
        "    for batch_id, (token_ids, valid_length, segment_ids, label) in enumerate(test_dataloader):\n",
        "        token_ids = token_ids.long().to(device)\n",
        "        segment_ids = segment_ids.long().to(device)\n",
        "\n",
        "        valid_length= valid_length\n",
        "        label = label.long().to(device)\n",
        "\n",
        "        out = model3(token_ids, valid_length, segment_ids)\n",
        "\n",
        "        for i in out:\n",
        "            logits=i\n",
        "            logits = logits.detach().cpu().numpy()\n",
        "\n",
        "            if np.argmax(logits) in bye\n",
        "               print(\"오늘 대화 즐거웠어요. 다음에 또 대화해요 :)\")\n",
        "            elif np.argmax(logits) in family \n",
        "               print(\"당신에게 도움이 될만한 사이트입니다\")    \n",
        "               print(\"상담받아보세요:\", \"https://www.familynet.or.kr/web/lay1/program/S1T1C307/info/view.do\")\n",
        "               print(\"상담받아보세요\", \"http://www.nmhc.or.kr/ezboard.php?BID=board21&GID=root&sysop=&fm=&category=1&sido\")\n",
        "               print(\"자가 검진해보세요:\", \"http://www.mentalhealth.go.kr/portal/main/index.do\")\n",
        "            elif np.argmax(logits) in violence \n",
        "               print(\"당신에게 도움이 될만한 사이트입니다\")    \n",
        "               print(\"상담받아보세요:\", \"http://seoul1366.or.kr/new_html/sub02/body01.php\")\n",
        "               print(\"상담받아보세요\", \"http://www.nmhc.or.kr/ezboard.php?BID=board21&GID=root&sysop=&fm=&category=1&sido\")\n",
        "               print(\"자가 검진해보세요:\", \"http://www.mentalhealth.go.kr/portal/main/index.do\")               \n",
        "            elif np.argmax(logits) in youth \n",
        "               print(\"당신에게 도움이 될만한 사이트입니다\")    \n",
        "               print(\"상담받아보세요:\", \"https://www.kyci.or.kr/userSite/cooperation/list.asp?basicNum=1\")\n",
        "               print(\"상담받아보세요\", \"http://www.nmhc.or.kr/ezboard.php?BID=board21&GID=root&sysop=&fm=&category=1&sido\")\n",
        "               print(\"자가 검진해보세요:\", \"http://www.mentalhealth.go.kr/portal/main/index.do\")  \n",
        "            elif np.argmax(logits) in work\n",
        "               print(\"당신에게 도움이 될만한 사이트입니다\")    \n",
        "               print(\"상담받아보세요:\", \"https://www.workdream.net/default/eap/covid.do?mCode=D005010000\")\n",
        "               print(\"상담받아보세요\", \"http://www.nmhc.or.kr/ezboard.php?BID=board21&GID=root&sysop=&fm=&category=1&sido\")\n",
        "               print(\"자가 검진해보세요:\", \"http://www.mentalhealth.go.kr/portal/main/index.do\")     \n",
        "            else\n",
        "               print(\"당신에게 도움이 될만한 사이트입니다\")    \n",
        "               print(\"상담받아보세요\", \"http://www.nmhc.or.kr/ezboard.php?BID=board21&GID=root&sysop=&fm=&category=1&sido\")\n",
        "               print(\"자가 검진해보세요:\", \"http://www.mentalhealth.go.kr/portal/main/index.do\")      "
      ],
      "metadata": {
        "colab": {
          "base_uri": "https://localhost:8080/"
        },
        "id": "FjvLKVDLq6M-",
        "outputId": "17bd19c1-2c89-42a1-a524-5a4451e7f9e4"
      },
      "execution_count": null,
      "outputs": [
        {
          "output_type": "stream",
          "name": "stdout",
          "text": [
            "using cached model. /content/.cache/kobert_news_wiki_ko_cased-1087f8699e.spiece\n"
          ]
        }
      ]
    },
    {
      "cell_type": "markdown",
      "source": [
        "### '구분' 분류 하기"
      ],
      "metadata": {
        "id": "nst0YJBvuxCe"
      }
    },
    {
      "cell_type": "markdown",
      "source": [
        "> 제외(마무리 인사)\n",
        "\n",
        "20, 74,103,104, 108,110,111,112,113,114,115,118,119,124,133,135,137,140,141,142,151,170,173,174,175 ,176, 177, 179, 180, 181, 182, 183,184,185,186,187,188,189,190,191,192,197,199,200,201, 203, 205,207, 209, 213,214, 216, 220,221,222, 223, 227,231, 233,234,235,236,237,238,240,245,254,255, 256, 351,352,353,354,355\n",
        "\n",
        "> 건강지원센터(가족관련 상담) \n",
        "\n",
        "9번, 34번,92,93,94,120,121,122,123,125,126,127,128,129,130, 152,153,154,155,156,157,158,159,161,162,163\n",
        "\n",
        "> 한국여성상담센터(가정폭력) +\n",
        "\n",
        "131,170, 178\n",
        "\n",
        "> 청소년상담복지센터(학교관련문제)\n",
        "246,247,248,249,250, 251\n",
        "\n",
        "> 근로복지공단(직장)\n",
        "224, 225,226, 228,229, 230, 232\n",
        "\n",
        "\n",
        "\n"
      ],
      "metadata": {
        "id": "v7KFpfTO4c5B"
      }
    },
    {
      "cell_type": "code",
      "source": [
        "li=[]\n",
        "\n",
        "for x in range(101):\n",
        "  li.append(x)\n",
        "\n",
        "a = le.inverse_transform(li)\n",
        "\n",
        "re = []\n",
        "\n",
        "for a,b in enumerate(a):\n",
        "  re.append([a,b])"
      ],
      "metadata": {
        "id": "C1dR3ZKXuuAd"
      },
      "execution_count": null,
      "outputs": []
    },
    {
      "cell_type": "code",
      "source": [
        "re"
      ],
      "metadata": {
        "id": "apbIEAsB1QDJ",
        "outputId": "72a68828-9c73-4214-a614-e2c90e27f66b",
        "colab": {
          "base_uri": "https://localhost:8080/"
        }
      },
      "execution_count": null,
      "outputs": [
        {
          "output_type": "execute_result",
          "data": {
            "text/plain": [
              "[[0, '감정/감정조절이상'],\n",
              " [1, '감정/감정조절이상/화'],\n",
              " [2, '감정/걱정'],\n",
              " [3, '감정/걱정/건강문제'],\n",
              " [4, '감정/걱정/건강염려'],\n",
              " [5, '감정/걱정/경제적문제'],\n",
              " [6, '감정/걱정/미래'],\n",
              " [7, '감정/걱정/불면'],\n",
              " [8, '감정/걱정/암'],\n",
              " [9, '감정/걱정/자녀'],\n",
              " [10, '감정/걱정/주변평가'],\n",
              " [11, '감정/걱정/증상재발'],\n",
              " [12, '감정/고독감'],\n",
              " [13, '감정/곤혹감'],\n",
              " [14, '감정/공포'],\n",
              " [15, '감정/공포/새'],\n",
              " [16, '감정/공허감'],\n",
              " [17, '감정/과민반응'],\n",
              " [18, '감정/괴로움'],\n",
              " [19, '감정/기분저하'],\n",
              " [20, '감정/기시감'],\n",
              " [21, '감정/긴장'],\n",
              " [22, '감정/눈물'],\n",
              " [23, '감정/답답'],\n",
              " [24, '감정/답답/사람많은곳'],\n",
              " [25, '감정/당황'],\n",
              " [26, '감정/두려움'],\n",
              " [27, '감정/두려움/운전'],\n",
              " [28, '감정/두려움/자동차'],\n",
              " [29, '감정/멍함'],\n",
              " [30, '감정/모호함'],\n",
              " [31, '감정/무력감'],\n",
              " [32, '감정/무미건조'],\n",
              " [33, '감정/무서움'],\n",
              " [34, '감정/미안함/자녀'],\n",
              " [35, '감정/미움'],\n",
              " [36, '감정/배신감'],\n",
              " [37, '감정/부정적사고'],\n",
              " [38, '감정/분노'],\n",
              " [39, '감정/불만'],\n",
              " [40, '감정/불신'],\n",
              " [41, '감정/불안감'],\n",
              " [42, '감정/불안감/긴장'],\n",
              " [43, '감정/불안감/미래'],\n",
              " [44, '감정/불안감/증상재발'],\n",
              " [45, '감정/불안감/초조함'],\n",
              " [46, '감정/불쾌감'],\n",
              " [47, '감정/불편감'],\n",
              " [48, '감정/비관적'],\n",
              " [49, '감정/살인욕구'],\n",
              " [50, '감정/생각'],\n",
              " [51, '감정/서운함'],\n",
              " [52, '감정/속상함'],\n",
              " [53, '감정/슬픔'],\n",
              " [54, '감정/신경쓰임'],\n",
              " [55, '감정/심란'],\n",
              " [56, '감정/억울함'],\n",
              " [57, '감정/예민함'],\n",
              " [58, '감정/외로움'],\n",
              " [59, '감정/우울감'],\n",
              " [60, '감정/우울감/눈물'],\n",
              " [61, '감정/우울감/증상재발'],\n",
              " [62, '감정/우울감/증상지속'],\n",
              " [63, '감정/의기소침'],\n",
              " [64, '감정/의기소침/자격지심'],\n",
              " [65, '감정/의욕상실'],\n",
              " [66, '감정/의욕상실/무기력'],\n",
              " [67, '감정/자괴감'],\n",
              " [68, '감정/자살충동'],\n",
              " [69, '감정/자신감저하'],\n",
              " [70, '감정/자존감저하'],\n",
              " [71, '감정/절망감'],\n",
              " [72, '감정/좌절'],\n",
              " [73, '감정/죄책감'],\n",
              " [74, '감정/즐거움'],\n",
              " [75, '감정/질투'],\n",
              " [76, '감정/짜증'],\n",
              " [77, '감정/창피함'],\n",
              " [78, '감정/초조함'],\n",
              " [79, '감정/충격'],\n",
              " [80, '감정/통제력상실'],\n",
              " [81, '감정/허무함'],\n",
              " [82, '감정/화'],\n",
              " [83, '감정/후회'],\n",
              " [84, '감정/후회/결혼'],\n",
              " [85, '감정/힘듦'],\n",
              " [86, '감정/힘듦/스트레스'],\n",
              " [87, '감정/힘듦/지침'],\n",
              " [88, '내원이유/상담'],\n",
              " [89, '내원이유/의사소견'],\n",
              " [90, '내원이유/치료'],\n",
              " [91, '모호함'],\n",
              " [92, '배경/가족'],\n",
              " [93, '배경/가족/갈등'],\n",
              " [94, '배경/가족/무관심'],\n",
              " [95, '배경/건강문제'],\n",
              " [96, '배경/건강문제/갑상선'],\n",
              " [97, '배경/건강문제/다이어트'],\n",
              " [98, '배경/건강문제/다이어트/스트레스'],\n",
              " [99, '배경/건강문제/생리불순'],\n",
              " [100, '배경/건강문제/수술']]"
            ]
          },
          "metadata": {},
          "execution_count": 20
        }
      ]
    },
    {
      "cell_type": "code",
      "source": [
        "li2=[]\n",
        "re2 = []\n",
        "\n",
        "for y in range(101, 201):\n",
        "  li2.append(y)\n",
        "\n",
        "z =le.inverse_transform(li2)\n",
        "\n",
        "\n",
        "for c,d in enumerate(z):\n",
        "  c +=101\n",
        "  re2.append([c,d]) \n",
        "\n",
        "re2"
      ],
      "metadata": {
        "colab": {
          "base_uri": "https://localhost:8080/"
        },
        "id": "Bz9oucj3vZHz",
        "outputId": "d1b08060-84fd-4228-b302-093572db6b58"
      },
      "execution_count": null,
      "outputs": [
        {
          "output_type": "execute_result",
          "data": {
            "text/plain": [
              "[[101, '배경/건강문제/알레르기'],\n",
              " [102, '배경/건강문제/항암'],\n",
              " [103, '배경/결혼'],\n",
              " [104, '배경/결혼/미혼'],\n",
              " [105, '배경/경제적문제'],\n",
              " [106, '배경/경제적문제/가난'],\n",
              " [107, '배경/경제적문제/빚'],\n",
              " [108, '배경/공부'],\n",
              " [109, '배경/공부/부진'],\n",
              " [110, '배경/군대/군입대'],\n",
              " [111, '배경/귀국'],\n",
              " [112, '배경/남자친구'],\n",
              " [113, '배경/남자친구/고민/없음'],\n",
              " [114, '배경/남자친구/동경'],\n",
              " [115, '배경/남자친구/없음'],\n",
              " [116, '배경/남자친구/이별'],\n",
              " [117, '배경/남자친구/집착'],\n",
              " [118, '배경/남자친구/짧은교제'],\n",
              " [119, '배경/남편'],\n",
              " [120, '배경/남편/갈등'],\n",
              " [121, '배경/남편/경제적문제'],\n",
              " [122, '배경/남편/과음'],\n",
              " [123, '배경/남편/관계소원'],\n",
              " [124, '배경/남편/관계양호'],\n",
              " [125, '배경/남편/다툼'],\n",
              " [126, '배경/남편/무관심'],\n",
              " [127, '배경/남편/바람'],\n",
              " [128, '배경/남편/사업'],\n",
              " [129, '배경/남편/소통불가'],\n",
              " [130, '배경/남편/의심'],\n",
              " [131, '배경/남편/의지'],\n",
              " [132, '배경/남편/폭력'],\n",
              " [133, '배경/대인관계'],\n",
              " [134, '배경/대인관계/갈등'],\n",
              " [135, '배경/대인관계/양호'],\n",
              " [136, '배경/대인관계/협소'],\n",
              " [137, '배경/대학'],\n",
              " [138, '배경/대학/실패'],\n",
              " [139, '배경/대학/실패/재수'],\n",
              " [140, '배경/대학/입학'],\n",
              " [141, '배경/대학/재수'],\n",
              " [142, '배경/대학/휴학'],\n",
              " [143, '배경/문제'],\n",
              " [144, '배경/문제/과음'],\n",
              " [145, '배경/문제/머리카락/털뽑기'],\n",
              " [146, '배경/문제/불면'],\n",
              " [147, '배경/문제/불안감/소변'],\n",
              " [148, '배경/문제/불편감/옷'],\n",
              " [149, '배경/문제/소변'],\n",
              " [150, '배경/문제/알코올의존'],\n",
              " [151, '배경/부모'],\n",
              " [152, '배경/부모/가출/아버지'],\n",
              " [153, '배경/부모/갈등'],\n",
              " [154, '배경/부모/갈등/아버지'],\n",
              " [155, '배경/부모/관계소원'],\n",
              " [156, '배경/부모/무관심'],\n",
              " [157, '배경/부모/싸움'],\n",
              " [158, '배경/부모/아버지'],\n",
              " [159, '배경/부모/아버지/죽음'],\n",
              " [160, '배경/부모/아버지/폭력'],\n",
              " [161, '배경/부모/어머니/죽음'],\n",
              " [162, '배경/부모/이혼'],\n",
              " [163, '배경/부모/죽음'],\n",
              " [164, '배경/사고'],\n",
              " [165, '배경/사고/교통사고'],\n",
              " [166, '배경/사업'],\n",
              " [167, '배경/사업/경제적문제/실패'],\n",
              " [168, '배경/사업/남편/동업자'],\n",
              " [169, '배경/사업/실패'],\n",
              " [170, '배경/생활'],\n",
              " [171, '배경/생활/불가능/운전'],\n",
              " [172, '배경/생활/스트레스'],\n",
              " [173, '배경/생활/양호'],\n",
              " [174, '배경/생활/여행/해외'],\n",
              " [175, '배경/생활/운동'],\n",
              " [176, '배경/생활/자연소멸/증상'],\n",
              " [177, '배경/생활/취미'],\n",
              " [178, '배경/생활/폭행/피해'],\n",
              " [179, '배경/생활/해외'],\n",
              " [180, '배경/생활/혼자'],\n",
              " [181, '배경/생활/휴식'],\n",
              " [182, '배경/성격'],\n",
              " [183, '배경/성격/극단적'],\n",
              " [184, '배경/성격/급함'],\n",
              " [185, '배경/성격/내성적'],\n",
              " [186, '배경/성격/소심'],\n",
              " [187, '배경/성격/예민함'],\n",
              " [188, '배경/성격/완벽추구'],\n",
              " [189, '배경/성격/욕심많음'],\n",
              " [190, '배경/성격/자기중심적'],\n",
              " [191, '배경/성격/자립적'],\n",
              " [192, '배경/시댁'],\n",
              " [193, '배경/시댁/갈등'],\n",
              " [194, '배경/시댁/갈등/시어머니'],\n",
              " [195, '배경/시댁/경제적문제'],\n",
              " [196, '배경/아르바이트'],\n",
              " [197, '배경/애완동물'],\n",
              " [198, '배경/애완동물/가족/갈등'],\n",
              " [199, '배경/어린시절'],\n",
              " [200, '배경/어린시절/가난']]"
            ]
          },
          "metadata": {},
          "execution_count": 27
        }
      ]
    },
    {
      "cell_type": "code",
      "source": [
        "li3=[]\n",
        "re3 = [] \n",
        "\n",
        "for g in range(201, 301):\n",
        "  li3.append(g)\n",
        "\n",
        "h =  le.inverse_transform(li3)\n",
        "for e,f in enumerate(h):\n",
        "  e +=201\n",
        "  re3.append([e,f]) \n",
        "\n",
        "re3"
      ],
      "metadata": {
        "colab": {
          "base_uri": "https://localhost:8080/"
        },
        "id": "Wv7ZERXnvjh7",
        "outputId": "6ba3841b-bbba-49b6-da6c-26d70f59f945"
      },
      "execution_count": null,
      "outputs": [
        {
          "output_type": "execute_result",
          "data": {
            "text/plain": [
              "[[201, '배경/여자친구'],\n",
              " [202, '배경/여자친구/관계소원'],\n",
              " [203, '배경/여자친구/동거'],\n",
              " [204, '배경/여자친구/이별'],\n",
              " [205, '배경/연애'],\n",
              " [206, '배경/연애/이별'],\n",
              " [207, '배경/유학'],\n",
              " [208, '배경/육아/힘듦'],\n",
              " [209, '배경/음주'],\n",
              " [210, '배경/음주/과음'],\n",
              " [211, '배경/음주/알코올의존'],\n",
              " [212, '배경/음주/애주가'],\n",
              " [213, '배경/음주/자주'],\n",
              " [214, '배경/이사'],\n",
              " [215, '배경/이혼'],\n",
              " [216, '배경/임신'],\n",
              " [217, '배경/임신/낙태'],\n",
              " [218, '배경/자각/우울증'],\n",
              " [219, '배경/자각/정신질환'],\n",
              " [220, '배경/자녀'],\n",
              " [221, '배경/전연인'],\n",
              " [222, '배경/종교'],\n",
              " [223, '배경/직장'],\n",
              " [224, '배경/직장/고민/퇴사'],\n",
              " [225, '배경/직장/과도한업무'],\n",
              " [226, '배경/직장/반복/이직'],\n",
              " [227, '배경/직장/복직'],\n",
              " [228, '배경/직장/불만'],\n",
              " [229, '배경/직장/불만/업무'],\n",
              " [230, '배경/직장/스트레스'],\n",
              " [231, '배경/직장/양호'],\n",
              " [232, '배경/직장/없음/흥미'],\n",
              " [233, '배경/직장/이직'],\n",
              " [234, '배경/직장/퇴사'],\n",
              " [235, '배경/직장/휴직'],\n",
              " [236, '배경/진로'],\n",
              " [237, '배경/취업'],\n",
              " [238, '배경/취업/준비'],\n",
              " [239, '배경/취업/힘듦'],\n",
              " [240, '배경/친구'],\n",
              " [241, '배경/친구/관계소원'],\n",
              " [242, '배경/친구/배신'],\n",
              " [243, '배경/친구/없음'],\n",
              " [244, '배경/타인/갈등'],\n",
              " [245, '배경/학교'],\n",
              " [246, '배경/학교/갈등/선생님'],\n",
              " [247, '배경/학교/결석'],\n",
              " [248, '배경/학교/따돌림'],\n",
              " [249, '배경/학교/자퇴'],\n",
              " [250, '배경/학업'],\n",
              " [251, '배경/학업/부진'],\n",
              " [252, '배경/학업/양호'],\n",
              " [253, '배경/학업/우수'],\n",
              " [254, '부가설명'],\n",
              " [255, '상태/양호'],\n",
              " [256, '상태/증상감소'],\n",
              " [257, '상태/증상지속'],\n",
              " [258, '원인/없음'],\n",
              " [259, '일반대화'],\n",
              " [260, '자가치료/심리조절'],\n",
              " [261, '자가치료/심리조절/증상지속'],\n",
              " [262, '자가치료/운동'],\n",
              " [263, '자가치료/충분한휴식'],\n",
              " [264, '증상/가슴답답'],\n",
              " [265, '증상/가슴떨림'],\n",
              " [266, '증상/가슴통증'],\n",
              " [267, '증상/건강염려'],\n",
              " [268, '증상/공격적성향'],\n",
              " [269, '증상/공황발작'],\n",
              " [270, '증상/과대망상'],\n",
              " [271, '증상/과수면'],\n",
              " [272, '증상/기억력저하'],\n",
              " [273, '증상/기억력저하/집중력저하'],\n",
              " [274, '증상/기억상실'],\n",
              " [275, '증상/기절'],\n",
              " [276, '증상/기절예기'],\n",
              " [277, '증상/대인기피'],\n",
              " [278, '증상/대화기피'],\n",
              " [279, '증상/두근거림'],\n",
              " [280, '증상/두근거림/불면'],\n",
              " [281, '증상/두통'],\n",
              " [282, '증상/두통/불면'],\n",
              " [283, '증상/떨림'],\n",
              " [284, '증상/만성피로'],\n",
              " [285, '증상/메스꺼움'],\n",
              " [286, '증상/무기력'],\n",
              " [287, '증상/무기력/은둔'],\n",
              " [288, '증상/무기력/의욕상실'],\n",
              " [289, '증상/반복사고'],\n",
              " [290, '증상/반복사고/트라우마'],\n",
              " [291, '증상/반복행동'],\n",
              " [292, '증상/반복행동/대화'],\n",
              " [293, '증상/반복행동/문단속'],\n",
              " [294, '증상/반복행동/손씻기'],\n",
              " [295, '증상/반복행동/확인'],\n",
              " [296, '증상/발작'],\n",
              " [297, '증상/불면'],\n",
              " [298, '증상/불면/불안감'],\n",
              " [299, '증상/불면/생각많음'],\n",
              " [300, '증상/불면/스트레스']]"
            ]
          },
          "metadata": {},
          "execution_count": 30
        }
      ]
    },
    {
      "cell_type": "code",
      "source": [
        "li4=[]\n",
        "re4 = []\n",
        "\n",
        "for n in range(301, 360):\n",
        "  li4.append(n)\n",
        "\n",
        "m =le.inverse_transform(li4)\n",
        "\n",
        "for t,u in enumerate(m):\n",
        "  t +=301\n",
        "  re4.append([t,u]) \n",
        "\n",
        "re4"
      ],
      "metadata": {
        "colab": {
          "base_uri": "https://localhost:8080/"
        },
        "id": "bPDHZLHGvtFD",
        "outputId": "57f8e3fc-f515-43d4-a7c3-d360e5c652d3"
      },
      "execution_count": null,
      "outputs": [
        {
          "output_type": "execute_result",
          "data": {
            "text/plain": [
              "[[301, '증상/불면/예민함'],\n",
              " [302, '증상/불면/증상지속'],\n",
              " [303, '증상/불면/피로'],\n",
              " [304, '증상/생리불순'],\n",
              " [305, '증상/성격변화'],\n",
              " [306, '증상/성욕상승'],\n",
              " [307, '증상/소화불량'],\n",
              " [308, '증상/속쓰림'],\n",
              " [309, '증상/시력저하'],\n",
              " [310, '증상/식욕저하'],\n",
              " [311, '증상/식욕저하/불면'],\n",
              " [312, '증상/식욕저하/체중감소'],\n",
              " [313, '증상/신체이상/목'],\n",
              " [314, '증상/악몽'],\n",
              " [315, '증상/알코올의존'],\n",
              " [316, '증상/어지러움'],\n",
              " [317, '증상/은둔'],\n",
              " [318, '증상/이명'],\n",
              " [319, '증상/이인감'],\n",
              " [320, '증상/인지기능저하'],\n",
              " [321, '증상/자살시도'],\n",
              " [322, '증상/자해'],\n",
              " [323, '증상/저림현상/발/손'],\n",
              " [324, '증상/죽음공포'],\n",
              " [325, '증상/죽음공포/호흡곤란'],\n",
              " [326, '증상/집중력저하'],\n",
              " [327, '증상/체력저하'],\n",
              " [328, '증상/체중감소'],\n",
              " [329, '증상/체중증가'],\n",
              " [330, '증상/컨디션저조'],\n",
              " [331, '증상/통증'],\n",
              " [332, '증상/통증/목'],\n",
              " [333, '증상/통증/전신'],\n",
              " [334, '증상/통증/허리'],\n",
              " [335, '증상/편두통'],\n",
              " [336, '증상/폭식'],\n",
              " [337, '증상/폭식/스트레스/해소'],\n",
              " [338, '증상/피로'],\n",
              " [339, '증상/피로/불면'],\n",
              " [340, '증상/피해망상'],\n",
              " [341, '증상/피해망상/감시'],\n",
              " [342, '증상/피해망상/감시/남편'],\n",
              " [343, '증상/피해망상/남편'],\n",
              " [344, '증상/피해망상/도청'],\n",
              " [345, '증상/호흡곤란'],\n",
              " [346, '증상/호흡곤란/가슴답답'],\n",
              " [347, '증상/환각'],\n",
              " [348, '증상/환청'],\n",
              " [349, '증상/힘빠짐'],\n",
              " [350, '치료이력/검사'],\n",
              " [351, '치료이력/검사/이상없음'],\n",
              " [352, '치료이력/병원내원'],\n",
              " [353, '치료이력/병원내원/검사/이상없음'],\n",
              " [354, '치료이력/병원내원/복약'],\n",
              " [355, '치료이력/병원내원/이상없음'],\n",
              " [356, '치료이력/응급실'],\n",
              " [357, '현재상태/증상감소'],\n",
              " [358, '현재상태/증상악화'],\n",
              " [359, '현재상태/증상지속']]"
            ]
          },
          "metadata": {},
          "execution_count": 34
        }
      ]
    },
    {
      "cell_type": "markdown",
      "source": [
        "## lstm 다중 분류 모델"
      ],
      "metadata": {
        "id": "g6JAY2eUu17U"
      }
    },
    {
      "cell_type": "code",
      "source": [
        "!pip install konlpy"
      ],
      "metadata": {
        "id": "4PBl-LRfwPkj",
        "outputId": "7a74a25b-2e3b-40c1-f6ac-32793f641ccf",
        "colab": {
          "base_uri": "https://localhost:8080/"
        }
      },
      "execution_count": null,
      "outputs": [
        {
          "output_type": "stream",
          "name": "stdout",
          "text": [
            "Requirement already satisfied: konlpy in /usr/local/lib/python3.7/dist-packages (0.6.0)\n",
            "Requirement already satisfied: lxml>=4.1.0 in /usr/local/lib/python3.7/dist-packages (from konlpy) (4.2.6)\n",
            "Requirement already satisfied: JPype1>=0.7.0 in /usr/local/lib/python3.7/dist-packages (from konlpy) (1.3.0)\n",
            "Requirement already satisfied: numpy>=1.6 in /usr/local/lib/python3.7/dist-packages (from konlpy) (1.19.5)\n",
            "Requirement already satisfied: typing-extensions in /usr/local/lib/python3.7/dist-packages (from JPype1>=0.7.0->konlpy) (3.10.0.2)\n"
          ]
        }
      ]
    },
    {
      "cell_type": "code",
      "source": [
        "from tensorflow.keras.layers import Embedding, Dense, LSTM,  Activation, Dropout, Input\n",
        "from keras.models import Model\n",
        "from tensorflow.keras.models import Sequential\n",
        "from tensorflow.keras.models import load_model\n",
        "from tensorflow.keras.callbacks import EarlyStopping, ModelCheckpoint\n",
        "from keras.callbacks import EarlyStopping\n",
        "import re\n",
        "from konlpy.tag import Okt\n",
        "from tqdm import tqdm\n",
        "from tensorflow.keras.preprocessing.text import Tokenizer\n",
        "from tensorflow.keras.preprocessing.sequence import pad_sequences"
      ],
      "metadata": {
        "id": "no2DeahWvCDe"
      },
      "execution_count": null,
      "outputs": []
    },
    {
      "cell_type": "code",
      "source": [
        "train, test = train_test_split(df, test_size= 0.2, random_state=1234)"
      ],
      "metadata": {
        "id": "-vFDSWCLymNr"
      },
      "execution_count": null,
      "outputs": []
    },
    {
      "cell_type": "code",
      "source": [
        "y_train= train['구분']\n",
        "y_test = test['구분']"
      ],
      "metadata": {
        "id": "GYJVgqaIynL1"
      },
      "execution_count": null,
      "outputs": []
    },
    {
      "cell_type": "code",
      "source": [
        "okt = Okt()\n",
        "stopwords = ['의','가','이','은','들','는','좀','잘','걍','과','도','를','으로','자','에','와','한','하다', '아', '야', '랑', '을'] #불용어 \n",
        "\n",
        "x_train = []\n",
        "for sentence1 in tqdm(train['유저']):\n",
        "    tokenized_sentence = okt.morphs(sentence1, stem=True) # 토큰화\n",
        "    stopwords_removed_sentence = [word for word in tokenized_sentence if not word in stopwords] # 불용어 제거\n",
        "    x_train.append(stopwords_removed_sentence)"
      ],
      "metadata": {
        "id": "YPogXpcqvWQj",
        "outputId": "eb4ff32c-799a-45e0-a63e-e6f75089da9d",
        "colab": {
          "base_uri": "https://localhost:8080/"
        }
      },
      "execution_count": null,
      "outputs": [
        {
          "output_type": "stream",
          "name": "stderr",
          "text": [
            "100%|██████████| 36621/36621 [01:41<00:00, 360.29it/s]\n"
          ]
        }
      ]
    },
    {
      "cell_type": "code",
      "source": [
        "okt = Okt()\n",
        "stopwords = ['의','가','이','은','들','는','좀','잘','걍','과','도','를','으로','자','에','와','한','하다', '아', '야', '랑', '을'] #불용어 \n",
        "\n",
        "x_test = []\n",
        "for sentence_1 in tqdm(test['유저']):\n",
        "    tokenized_sentence = okt.morphs(sentence_1, stem=True) # 토큰화\n",
        "    stopwords_removed_sentence = [word for word in tokenized_sentence if not word in stopwords] # 불용어 제거\n",
        "    x_test.append(stopwords_removed_sentence)"
      ],
      "metadata": {
        "id": "MvBe0QCivXXE",
        "outputId": "5a02c861-a070-4201-b1e0-f35e8387f272",
        "colab": {
          "base_uri": "https://localhost:8080/"
        }
      },
      "execution_count": null,
      "outputs": [
        {
          "output_type": "stream",
          "name": "stderr",
          "text": [
            "100%|██████████| 9156/9156 [00:25<00:00, 365.56it/s]\n"
          ]
        }
      ]
    },
    {
      "cell_type": "code",
      "source": [
        "#정수 인코딩\n",
        "tokenizer3 = Tokenizer(num_words=3000)\n",
        "\n",
        "tokenizer3.fit_on_texts(x_train)\n",
        "x_train = tokenizer3.texts_to_sequences(x_train)\n",
        "x_test = tokenizer3.texts_to_sequences(x_test)"
      ],
      "metadata": {
        "id": "bthsiUahvY9V"
      },
      "execution_count": null,
      "outputs": []
    },
    {
      "cell_type": "code",
      "source": [
        "# 패딩\n",
        "max_len = 20\n",
        "\n",
        "x_train = pad_sequences(x_train, maxlen = max_len)\n",
        "x_test = pad_sequences(x_test, maxlen = max_len)"
      ],
      "metadata": {
        "id": "AEtLTrfvvaLE"
      },
      "execution_count": null,
      "outputs": []
    },
    {
      "cell_type": "code",
      "source": [
        "embedding_dim2 = 100\n",
        "hidden_units2 = 128\n",
        "\n",
        "model4 = Sequential()\n",
        "model4.add(Embedding(3000, embedding_dim2))\n",
        "model4.add(LSTM(hidden_units2))\n",
        "model4.add(Dense(6, activation='softmax'))"
      ],
      "metadata": {
        "id": "p8sNPDVYvhzV"
      },
      "execution_count": null,
      "outputs": []
    },
    {
      "cell_type": "code",
      "source": [
        "#es = EarlyStopping(monitor='val_loss', mode='min', verbose=1, patience=4)\n",
        "#mc = ModelCheckpoint('lstm_model.h5', monitor='val_acc', mode='max', verbose=1, save_best_only=True)"
      ],
      "metadata": {
        "id": "SxuG68wYvHSp"
      },
      "execution_count": null,
      "outputs": []
    },
    {
      "cell_type": "code",
      "source": [
        "model4.compile(optimizer='rmsprop', loss='sparse_categorical_crossentropy', metrics=['acc'])\n",
        "history = model4.fit(x_train, y_train, epochs=20, batch_size=64, validation_split=0.2)"
      ],
      "metadata": {
        "id": "pTg962M1vJ_Q",
        "outputId": "63e16e99-ff1b-4d29-aec0-1d235f603f06",
        "colab": {
          "base_uri": "https://localhost:8080/"
        }
      },
      "execution_count": null,
      "outputs": [
        {
          "output_type": "stream",
          "name": "stdout",
          "text": [
            "Epoch 1/20\n",
            "458/458 [==============================] - 4s 5ms/step - loss: nan - acc: 3.4134e-05 - val_loss: nan - val_acc: 2.7304e-04\n",
            "Epoch 2/20\n",
            "458/458 [==============================] - 2s 4ms/step - loss: nan - acc: 3.4134e-05 - val_loss: nan - val_acc: 2.7304e-04\n",
            "Epoch 3/20\n",
            "458/458 [==============================] - 2s 4ms/step - loss: nan - acc: 3.4134e-05 - val_loss: nan - val_acc: 2.7304e-04\n",
            "Epoch 4/20\n",
            "458/458 [==============================] - 2s 4ms/step - loss: nan - acc: 3.4134e-05 - val_loss: nan - val_acc: 2.7304e-04\n",
            "Epoch 5/20\n",
            "458/458 [==============================] - 2s 4ms/step - loss: nan - acc: 3.4134e-05 - val_loss: nan - val_acc: 2.7304e-04\n",
            "Epoch 6/20\n",
            "458/458 [==============================] - 2s 4ms/step - loss: nan - acc: 3.4134e-05 - val_loss: nan - val_acc: 2.7304e-04\n",
            "Epoch 7/20\n",
            "458/458 [==============================] - 2s 4ms/step - loss: nan - acc: 3.4134e-05 - val_loss: nan - val_acc: 2.7304e-04\n",
            "Epoch 8/20\n",
            "458/458 [==============================] - 2s 4ms/step - loss: nan - acc: 3.4134e-05 - val_loss: nan - val_acc: 2.7304e-04\n",
            "Epoch 9/20\n",
            "458/458 [==============================] - 2s 4ms/step - loss: nan - acc: 3.4134e-05 - val_loss: nan - val_acc: 2.7304e-04\n",
            "Epoch 10/20\n",
            "458/458 [==============================] - 2s 4ms/step - loss: nan - acc: 3.4134e-05 - val_loss: nan - val_acc: 2.7304e-04\n",
            "Epoch 11/20\n",
            "458/458 [==============================] - 2s 4ms/step - loss: nan - acc: 3.4134e-05 - val_loss: nan - val_acc: 2.7304e-04\n",
            "Epoch 12/20\n",
            "458/458 [==============================] - 2s 4ms/step - loss: nan - acc: 3.4134e-05 - val_loss: nan - val_acc: 2.7304e-04\n",
            "Epoch 13/20\n",
            "458/458 [==============================] - 2s 4ms/step - loss: nan - acc: 3.4134e-05 - val_loss: nan - val_acc: 2.7304e-04\n",
            "Epoch 14/20\n",
            "458/458 [==============================] - 2s 4ms/step - loss: nan - acc: 3.4134e-05 - val_loss: nan - val_acc: 2.7304e-04\n",
            "Epoch 15/20\n",
            "458/458 [==============================] - 2s 4ms/step - loss: nan - acc: 3.4134e-05 - val_loss: nan - val_acc: 2.7304e-04\n",
            "Epoch 16/20\n",
            "458/458 [==============================] - 2s 4ms/step - loss: nan - acc: 3.4134e-05 - val_loss: nan - val_acc: 2.7304e-04\n",
            "Epoch 17/20\n",
            "458/458 [==============================] - 2s 4ms/step - loss: nan - acc: 3.4134e-05 - val_loss: nan - val_acc: 2.7304e-04\n",
            "Epoch 18/20\n",
            "458/458 [==============================] - 2s 4ms/step - loss: nan - acc: 3.4134e-05 - val_loss: nan - val_acc: 2.7304e-04\n",
            "Epoch 19/20\n",
            "458/458 [==============================] - 2s 4ms/step - loss: nan - acc: 3.4134e-05 - val_loss: nan - val_acc: 2.7304e-04\n",
            "Epoch 20/20\n",
            "458/458 [==============================] - 2s 4ms/step - loss: nan - acc: 3.4134e-05 - val_loss: nan - val_acc: 2.7304e-04\n"
          ]
        }
      ]
    },
    {
      "cell_type": "code",
      "source": [
        "print(\"테스트 정확도: %.4f\" % (model4.evaluate(x_test, y_test)[1]))"
      ],
      "metadata": {
        "id": "iJ_KqF4pv2uK",
        "outputId": "b39ab1e1-72bf-4989-b848-f331a3c4b7c5",
        "colab": {
          "base_uri": "https://localhost:8080/"
        }
      },
      "execution_count": null,
      "outputs": [
        {
          "output_type": "stream",
          "name": "stdout",
          "text": [
            "287/287 [==============================] - 1s 2ms/step - loss: nan - acc: 0.0000e+00\n",
            "테스트 정확도: 0.0000\n"
          ]
        }
      ]
    },
    {
      "cell_type": "code",
      "source": [
        "bye =[20, 74 ,103,104, 108,110,111,112,113,114,115,118,119,124,133,135,137,140,141,142,151,170,173,174,175 ,176, 177, 179, 180, 181, 182, 183,184,185,186,187,188,189,190,191,192,197,199,200,201, 203, 205,207, 209, 213,214, 216, 220,221,222, 223, 227,231, 233,234,235,236,237,238,240,245,254,255, 256, 351,352,353,354,355]\n",
        "famliy = [9, 34,92,93,94,120,121,122,123,125,126,127,128,129,130, 152,153,154,155,156,157,158,159,161,162,163]\n",
        "violence = [131,170, 178]\n",
        "youth= [246,247,248,249,250, 251]\n",
        "work= [224, 225,226, 228,229, 230, 232] "
      ],
      "metadata": {
        "id": "9lGfKTZh0U0B"
      },
      "execution_count": null,
      "outputs": []
    },
    {
      "cell_type": "code",
      "source": [
        "def predict_lstm(setence):\n",
        "    \n",
        "    bye =[20, 74 ,103,104, 108,110,111,112,113,114,115,118,119,124,133,135,137,140,141,142,151,170,173,174,175 ,176, 177, 179, 180, 181, 182, 183,184,185,186,187,188,189,190,191,192,197,199,200,201, 203, 205,207, 209, 213,214, 216, 220,221,222, 223, 227,231, 233,234,235,236,237,238,240,245,254,255, 256, 351,352,353,354,355]\n",
        "    famliy = [9, 34,92,93,94,120,121,122,123,125,126,127,128,129,130, 152,153,154,155,156,157,158,159,161,162,163]\n",
        "    violence = [131,170, 178]\n",
        "    youth= [246,247,248,249,250, 251]\n",
        "    work= [224, 225,226, 228,229, 230, 232] \n",
        "    \n",
        "    sentence_re=re.sub(\"[^ㄱ-ㅎㅏ-ㅣ가-힣 ]\",\"\", sentence)\n",
        "    tokenized_sentence = okt.morphs(sentence, stem=True)\n",
        "    stopwords_removed_sentence = [word for word in tokenized_sentence if not word in stopwords]     \n",
        "    encoded = tokenizer3.texts_to_sequences(stopwords_removed_sentence)\n",
        "    pad_new =pad_sequences(encoded, maxlen = 20)\n",
        "  \n",
        "    prediction =model4.predict(pad_new )\n",
        "\n",
        "\n",
        "\n",
        "    if np.argmax(prediction[0]) in bye:\n",
        "        print(\"오늘 대화 즐거웠어요. 다음에 또 대화해요 :)\")\n",
        "    elif np.argmax(prediction[0]) in famliy: \n",
        "        print(\"당신에게 도움이 될만한 사이트입니다\")    \n",
        "        print(\"상담받아보세요:\", \"https://www.familynet.or.kr/web/lay1/program/S1T1C307/info/view.do\")\n",
        "        print(\"상담받아보세요\", \"http://www.nmhc.or.kr/ezboard.php?BID=board21&GID=root&sysop=&fm=&category=1&sido\")\n",
        "        print(\"자가 검진해보세요:\", \"http://www.mentalhealth.go.kr/portal/main/index.do\")\n",
        "    elif np.argmax(prediction[0]) in violence: \n",
        "        print(\"당신에게 도움이 될만한 사이트입니다\")    \n",
        "        print(\"상담받아보세요:\", \"http://seoul1366.or.kr/new_html/sub02/body01.php\")\n",
        "        print(\"상담받아보세요\", \"http://www.nmhc.or.kr/ezboard.php?BID=board21&GID=root&sysop=&fm=&category=1&sido\")\n",
        "        print(\"자가 검진해보세요:\", \"http://www.mentalhealth.go.kr/portal/main/index.do\")               \n",
        "    elif np.argmax(prediction[0]) in youth: \n",
        "        print(\"당신에게 도움이 될만한 사이트입니다\")    \n",
        "        print(\"상담받아보세요:\", \"https://www.kyci.or.kr/userSite/cooperation/list.asp?basicNum=1\")\n",
        "        print(\"상담받아보세요\", \"http://www.nmhc.or.kr/ezboard.php?BID=board21&GID=root&sysop=&fm=&category=1&sido\")\n",
        "        print(\"자가 검진해보세요:\", \"http://www.mentalhealth.go.kr/portal/main/index.do\")  \n",
        "    elif np.argmax(prediction[0]) in work:\n",
        "        print(\"당신에게 도움이 될만한 사이트입니다\")    \n",
        "        print(\"상담받아보세요:\", \"https://www.workdream.net/default/eap/covid.do?mCode=D005010000\")\n",
        "        print(\"상담받아보세요\", \"http://www.nmhc.or.kr/ezboard.php?BID=board21&GID=root&sysop=&fm=&category=1&sido\")\n",
        "        print(\"자가 검진해보세요:\", \"http://www.mentalhealth.go.kr/portal/main/index.do\")     \n",
        "    else:\n",
        "        print(\"당신에게 도움이 될만한 사이트입니다\")    \n",
        "        print(\"상담받아보세요\", \"http://www.nmhc.or.kr/ezboard.php?BID=board21&GID=root&sysop=&fm=&category=1&sido\")\n",
        "        print(\"자가 검진해보세요:\", \"http://www.mentalhealth.go.kr/portal/main/index.do\")   \n"
      ],
      "metadata": {
        "id": "SATiIasxu9Ar"
      },
      "execution_count": null,
      "outputs": []
    },
    {
      "cell_type": "code",
      "source": [
        "end = 1\n",
        "while end == 1 :\n",
        "    sentence = input(\"하고싶은 말을 입력해주세요 : \")\n",
        "    if sentence == '종료' :\n",
        "        break\n",
        "    predict_lstm(sentence)\n",
        "    print(\"\\n\")"
      ],
      "metadata": {
        "id": "W9yrrN0qxNM1",
        "outputId": "8fb95ff6-fbfa-47cf-e580-35d919abc3b8",
        "colab": {
          "base_uri": "https://localhost:8080/"
        }
      },
      "execution_count": null,
      "outputs": [
        {
          "name": "stdout",
          "output_type": "stream",
          "text": [
            "하고싶은 말을 입력해주세요 : 우울해\n",
            "당신에게 도움이 될만한 사이트입니다\n",
            "상담받아보세요 http://www.nmhc.or.kr/ezboard.php?BID=board21&GID=root&sysop=&fm=&category=1&sido\n",
            "자가 검진해보세요: http://www.mentalhealth.go.kr/portal/main/index.do\n",
            "\n",
            "\n",
            "하고싶은 말을 입력해주세요 : 종료\n"
          ]
        }
      ]
    },
    {
      "cell_type": "markdown",
      "source": [
        "# 최종"
      ],
      "metadata": {
        "id": "iBvOySJmmxUU"
      }
    },
    {
      "cell_type": "code",
      "source": [
        "# 트랜스포머 챗봇 + kobert 챗봇\n",
        "def final():\n",
        "  print(\"안녕하세요! 무슨 일이 있으셨나요?\")\n",
        "  sentence = input()\n",
        "  output = predict(sentence)\n",
        "  sentence2 = input()\n",
        "  output2 = predict(sentence2)\n",
        "  sentence3 = input()\n",
        "  output2 = predict(sentence3)\n",
        "  print()\n",
        "  predict2(sentence3)\n",
        " \n",
        "  "
      ],
      "metadata": {
        "id": "muvvJ6cLt0rq"
      },
      "execution_count": null,
      "outputs": []
    },
    {
      "cell_type": "code",
      "source": [
        "final()"
      ],
      "metadata": {
        "colab": {
          "base_uri": "https://localhost:8080/"
        },
        "id": "49OM1pOWl4nG",
        "outputId": "673675e7-d65e-40b9-a40e-de5c93210d55"
      },
      "execution_count": null,
      "outputs": [
        {
          "output_type": "stream",
          "name": "stdout",
          "text": [
            "안녕하세요! 무슨 일이 있으셨나요?\n",
            "오늘 완전 짜증나는 일있었어\n",
            "chatbot: 어떤 일로 짜증나는 일이 있으셨군요셨는지 자세히 말씀해주시겠어요 ?\n",
            "친구가 나보고 멍청이라고 놀리는거야\n",
            "chatbot: 친구가 멍이라고 말을 해서 속상하시겠어요 .\n",
            "그니까 완전 화난다니까\n",
            "chatbot: 화가 많이 나셨나 봐요 .  무슨 일이 있으셨나요 ?\n"
          ]
        },
        {
          "output_type": "stream",
          "name": "stderr",
          "text": [
            "/usr/local/lib/python3.7/dist-packages/torch/utils/data/dataloader.py:481: UserWarning: This DataLoader will create 5 worker processes in total. Our suggested max number of worker in current system is 2, which is smaller than what this DataLoader is going to create. Please be aware that excessive worker creation might get DataLoader running slow or even freeze, lower the worker number to avoid potential slowness/freeze if necessary.\n",
            "  cpuset_checked))\n"
          ]
        },
        {
          "output_type": "stream",
          "name": "stdout",
          "text": [
            "\n",
            "38\n"
          ]
        }
      ]
    },
    {
      "cell_type": "code",
      "source": [
        "#bert 챗봇 + kobert\n",
        "def final2():\n",
        "  print(\"안녕하세요! 무슨 일이 있으셨나요?\")\n",
        "  sentence = input()\n",
        "  return_answer(sentence)\n",
        "  #re = return_answer(sentence)\n",
        "  sentence2 = input()\n",
        "  return_answer(sentence2)\n",
        "  sentence3 = input()\n",
        "  return_answer(sentence3)\n",
        "  print()\n",
        "  predict2(sentence3)\n",
        " "
      ],
      "metadata": {
        "id": "qA07dVmKmcmE"
      },
      "execution_count": null,
      "outputs": []
    },
    {
      "cell_type": "code",
      "source": [
        "final2()"
      ],
      "metadata": {
        "colab": {
          "base_uri": "https://localhost:8080/"
        },
        "id": "u3uJJytbpNim",
        "outputId": "829a087e-fef0-4758-dd02-6b46f1057401"
      },
      "execution_count": null,
      "outputs": [
        {
          "output_type": "stream",
          "name": "stdout",
          "text": [
            "안녕하세요! 무슨 일이 있으셨나요?\n",
            "죽고싶어\n",
            "마음대로 안 되는 일이 많으시군요. 그럴 땐 작은 성취감이 도움이 된대요. 오늘은 딱 10분만 산책을 해볼까요?\n",
            "산책..? 아무것도 하고 싶지 않아\n",
            "혼자서 끊을 수 없을 것 같다면 주변이나 전문가에게 도움을 요청해보세요.\n",
            "생각해볼게...\n",
            "어떡하면 좋아요. 제 마음이 아프네요.\n"
          ]
        },
        {
          "output_type": "stream",
          "name": "stderr",
          "text": [
            "/usr/local/lib/python3.7/dist-packages/torch/utils/data/dataloader.py:481: UserWarning: This DataLoader will create 5 worker processes in total. Our suggested max number of worker in current system is 2, which is smaller than what this DataLoader is going to create. Please be aware that excessive worker creation might get DataLoader running slow or even freeze, lower the worker number to avoid potential slowness/freeze if necessary.\n",
            "  cpuset_checked))\n"
          ]
        },
        {
          "output_type": "stream",
          "name": "stdout",
          "text": [
            "\n",
            "41\n"
          ]
        }
      ]
    },
    {
      "cell_type": "code",
      "source": [
        "# transformer+Lstm \n",
        "def final3():\n",
        "  print(\"안녕하세요! 무슨 일이 있으셨나요?\")\n",
        "  sentence = input()\n",
        "  output = predict(sentence)\n",
        "  sentence2 = input()\n",
        "  output2 = predict(sentence2)\n",
        "  sentence3 = input()\n",
        "  output3 = predict(sentence3)\n",
        "  print()\n",
        "  predict_lstm(sentence)"
      ],
      "metadata": {
        "id": "GDM_T9lQ0mZs"
      },
      "execution_count": null,
      "outputs": []
    },
    {
      "cell_type": "code",
      "source": [
        "final3()"
      ],
      "metadata": {
        "id": "oTi9NN_V9rPf",
        "outputId": "fb605934-36c6-4f2e-b01c-84c5095a2a11",
        "colab": {
          "base_uri": "https://localhost:8080/"
        }
      },
      "execution_count": null,
      "outputs": [
        {
          "output_type": "stream",
          "name": "stdout",
          "text": [
            "안녕하세요! 무슨 일이 있으셨나요?\n",
            "우울해요\n",
            "chatbot: 기분이 우울하시군요 .  무슨 일이 있었나요 ?\n",
            "시험 망쳤어요\n",
            "chatbot: 너무 걱정이 없죠 .  괜찮으세요 ?\n",
            "아니요.. 진짜 죽고싶다구요 ㅠㅠ\n",
            "chatbot: 자주 그러신 이유가 있을까요 ?\n",
            "당신에게 도움이 될만한 사이트입니다\n",
            "상담받아보세요 http://www.nmhc.or.kr/ezboard.php?BID=board21&GID=root&sysop=&fm=&category=1&sido\n",
            "자가 검진해보세요: http://www.mentalhealth.go.kr/portal/main/index.do\n"
          ]
        }
      ]
    },
    {
      "cell_type": "code",
      "source": [
        "# transformer+ Bert\n",
        "def final4():\n",
        "  print(\"안녕하세요! 무슨 일이 있으셨나요?\")\n",
        "  sentence = input()\n",
        "  return_answer(sentence)\n",
        "  sentence2 = input()\n",
        "  return_answer(sentence2)\n",
        "  sentence3 = input()\n",
        "  return_answer(sentence3)\n",
        "  print()\n",
        "  predict_lstm(sentence)"
      ],
      "metadata": {
        "id": "nE_lls7N9ozV"
      },
      "execution_count": null,
      "outputs": []
    },
    {
      "cell_type": "code",
      "source": [
        "final4()"
      ],
      "metadata": {
        "id": "m2xu6H6i-drX",
        "outputId": "67801f9e-014b-41a0-f009-25f8bf70e40f",
        "colab": {
          "base_uri": "https://localhost:8080/"
        }
      },
      "execution_count": null,
      "outputs": [
        {
          "output_type": "stream",
          "name": "stdout",
          "text": [
            "안녕하세요! 무슨 일이 있으셨나요?\n",
            "우울해\n",
            "지금 기분이 우울하시군요. 무슨 일 있어요?\n",
            "시험을 망쳤어 ㅠ\n",
            "건강이 좋아지신 건가요?\n",
            "아니 ㅠㅠ 시험 망했다구\n",
            "포옹이 스트레스를 완화하는 데 도움이 된대요. 제가 꼭 안아드릴게요.\n",
            "\n",
            "당신에게 도움이 될만한 사이트입니다\n",
            "상담받아보세요 http://www.nmhc.or.kr/ezboard.php?BID=board21&GID=root&sysop=&fm=&category=1&sido\n",
            "자가 검진해보세요: http://www.mentalhealth.go.kr/portal/main/index.do\n"
          ]
        }
      ]
    },
    {
      "cell_type": "markdown",
      "source": [
        "# 오류"
      ],
      "metadata": {
        "id": "0jwJxp94ASfQ"
      }
    },
    {
      "cell_type": "markdown",
      "source": [
        "https://leunco.tistory.com/13"
      ],
      "metadata": {
        "id": "uLtQ7Ay2AWnu"
      }
    }
  ]
}